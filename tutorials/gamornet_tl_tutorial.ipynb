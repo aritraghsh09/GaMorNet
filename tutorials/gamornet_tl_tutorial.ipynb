{
  "nbformat": 4,
  "nbformat_minor": 0,
  "metadata": {
    "kernelspec": {
      "display_name": "Python 3",
      "language": "python",
      "name": "python3"
    },
    "language_info": {
      "codemirror_mode": {
        "name": "ipython",
        "version": 3
      },
      "file_extension": ".py",
      "mimetype": "text/x-python",
      "name": "python",
      "nbconvert_exporter": "python",
      "pygments_lexer": "ipython3",
      "version": "3.6.9"
    },
    "colab": {
      "name": "gamornet_basics_tutorial.ipynb",
      "provenance": [],
      "toc_visible": true,
      "include_colab_link": true
    },
    "accelerator": "GPU"
  },
  "cells": [
    {
      "cell_type": "markdown",
      "metadata": {
        "id": "view-in-github",
        "colab_type": "text"
      },
      "source": [
        "<a href=\"https://colab.research.google.com/github/aritraghsh09/GaMorNet/blob/master/tutorials/gamornet_tl_tutorial.ipynb\" target=\"_parent\"><img src=\"https://colab.research.google.com/assets/colab-badge.svg\" alt=\"Open In Colab\"/></a>"
      ]
    },
    {
      "cell_type": "markdown",
      "metadata": {
        "id": "pNq4HgykhnJK"
      },
      "source": [
        "\n",
        "# Google Colab Stuff\n",
        "\n",
        "Although this tutorial can be run on any machine which has GaMorNet installed, it's pretty handy to run this on Google Colab as you can easily use Colab's GPUs for this tutorial.\n",
        "\n",
        "Note that with the free version of Colab, you will only have access to a limited amount of memory. Thus, the number of images we use here for training/testing is very small. In reality, GaMorNet can handle hundreds of thousands of images. \n",
        "\n",
        "This first section is meant to be run only when following this tutorial in Google Colab.\n"
      ]
    },
    {
      "cell_type": "markdown",
      "metadata": {
        "id": "g2wSGVu4ihqa"
      },
      "source": [
        "### Make things Fast!"
      ]
    },
    {
      "cell_type": "markdown",
      "metadata": {
        "id": "zWvqtYGaijke"
      },
      "source": [
        "Before we dive in, let's make sure we're using a GPU for this tutorial.  \n",
        "\n",
        "To do this, select \"Runtime\" -> \"Change runtime type\" -> \"Hardware accelerator\" -> \"GPU\"."
      ]
    },
    {
      "cell_type": "markdown",
      "metadata": {
        "id": "en4lZVmont-b"
      },
      "source": [
        "### Install GaMorNet"
      ]
    },
    {
      "cell_type": "code",
      "metadata": {
        "id": "Ywr-x3csgQ5f",
        "colab": {
          "base_uri": "https://localhost:8080/"
        },
        "outputId": "63a424ee-899e-437b-a6f3-66b5986f4ccf"
      },
      "source": [
        "import os\n",
        "# Suppressing TF warnings and info for a cleaner environ\n",
        "# Set this to 0,1 for info and warnings respectively.\n",
        "os.environ['TF_CPP_MIN_LOG_LEVEL'] = '2' \n",
        " \n",
        "# Magic telling Colab we want TF version ~=1.0\n",
        "%tensorflow_version 1.x\n",
        "\n",
        "!pip install -q --upgrade gamornet"
      ],
      "execution_count": 1,
      "outputs": [
        {
          "output_type": "stream",
          "text": [
            "TensorFlow 1.x selected.\n",
            "\u001b[K     |████████████████████████████████| 411.0MB 43kB/s \n",
            "\u001b[K     |████████████████████████████████| 2.9MB 40.1MB/s \n",
            "\u001b[?25h  Building wheel for wget (setup.py) ... \u001b[?25l\u001b[?25hdone\n",
            "  Building wheel for gast (setup.py) ... \u001b[?25l\u001b[?25hdone\n",
            "\u001b[31mERROR: kapre 0.3.5 has requirement tensorflow>=2.0.0, but you'll have tensorflow 1.15.2 which is incompatible.\u001b[0m\n",
            "\u001b[31mERROR: tensorflow-gpu 1.15.5 has requirement numpy<1.19.0,>=1.16.0, but you'll have numpy 1.19.5 which is incompatible.\u001b[0m\n"
          ],
          "name": "stdout"
        }
      ]
    },
    {
      "cell_type": "code",
      "metadata": {
        "id": "AYsnfr7tj3D-",
        "colab": {
          "base_uri": "https://localhost:8080/"
        },
        "outputId": "2cb9490f-309a-481a-dbe9-50ef1aa6075e"
      },
      "source": [
        "##Checking which version of Tensorflow & GaMorNet is being used and whether the installation worked.\n",
        "import tensorflow as tf\n",
        "import gamornet\n",
        "print(tf.__version__)\n",
        "print(gamornet.__version__)\n",
        "from gamornet.keras_module import gamornet_train_keras, gamornet_tl_keras, gamornet_predict_keras\n",
        "from gamornet.tflearn_module import gamornet_train_tflearn, gamornet_tl_tflearn, gamornet_predict_tflearn"
      ],
      "execution_count": 2,
      "outputs": [
        {
          "output_type": "stream",
          "text": [
            "1.15.2\n",
            "0.4.3\n"
          ],
          "name": "stdout"
        },
        {
          "output_type": "stream",
          "text": [
            "Using TensorFlow backend.\n"
          ],
          "name": "stderr"
        },
        {
          "output_type": "stream",
          "text": [
            "WARNING:tensorflow:From /tensorflow-1.15.2/python3.7/tflearn/helpers/summarizer.py:9: The name tf.summary.merge is deprecated. Please use tf.compat.v1.summary.merge instead.\n",
            "\n",
            "WARNING:tensorflow:From /tensorflow-1.15.2/python3.7/tflearn/helpers/trainer.py:25: The name tf.summary.FileWriter is deprecated. Please use tf.compat.v1.summary.FileWriter instead.\n",
            "\n",
            "WARNING:tensorflow:From /tensorflow-1.15.2/python3.7/tflearn/collections.py:13: The name tf.GraphKeys is deprecated. Please use tf.compat.v1.GraphKeys instead.\n",
            "\n",
            "WARNING:tensorflow:From /tensorflow-1.15.2/python3.7/tflearn/config.py:123: The name tf.get_collection is deprecated. Please use tf.compat.v1.get_collection instead.\n",
            "\n",
            "WARNING:tensorflow:From /tensorflow-1.15.2/python3.7/tflearn/config.py:129: The name tf.add_to_collection is deprecated. Please use tf.compat.v1.add_to_collection instead.\n",
            "\n",
            "WARNING:tensorflow:From /tensorflow-1.15.2/python3.7/tflearn/config.py:131: The name tf.assign is deprecated. Please use tf.compat.v1.assign instead.\n",
            "\n"
          ],
          "name": "stdout"
        }
      ]
    },
    {
      "cell_type": "markdown",
      "metadata": {
        "id": "0LV1U0dN5Q7M"
      },
      "source": [
        "The following snippet will verify that we have access to a GPU."
      ]
    },
    {
      "cell_type": "code",
      "metadata": {
        "id": "WbBNuljhhnyf",
        "colab": {
          "base_uri": "https://localhost:8080/"
        },
        "outputId": "8cce68c9-17fc-45ac-a5ab-fb203b255698"
      },
      "source": [
        "#Checking access to GPU\n",
        "import tensorflow as tf\n",
        "if tf.test.gpu_device_name() != '/device:GPU:0':\n",
        "  print('WARNING: GPU device not found.')\n",
        "else:\n",
        "  print('SUCCESS: Found GPU: {}'.format(tf.test.gpu_device_name()))"
      ],
      "execution_count": 3,
      "outputs": [
        {
          "output_type": "stream",
          "text": [
            "SUCCESS: Found GPU: /device:GPU:0\n"
          ],
          "name": "stdout"
        }
      ]
    },
    {
      "cell_type": "markdown",
      "metadata": {
        "id": "isCigPq4TiWi"
      },
      "source": [
        "# Reference\n",
        "\n",
        "All mentions of \"the paper\" in this tutorial, refer to [Ghosh et. al. (2020)](https://iopscience.iop.org/article/10.3847/1538-4357/ab8a47)"
      ]
    },
    {
      "cell_type": "markdown",
      "metadata": {
        "id": "NZdvFR_IgTmn"
      },
      "source": [
        "# Transfer Learning with GaMorNet\n",
        "\n",
        "GaMorNet models that have been trained before can easily be refined using new data. This is the basic idea behind transfer learning.  \n",
        "\n",
        "In this demonstration, we will start with simulation-trained SDSS model that we have released in the paper. Thereafter, we will perform transfer learning on this model. For this, we will use 90 real SDSS galaxies for the purposes of training and 10 real SDSS galaxies for validation. All these images are in the g-band and are part of the SDSS data-set used in the paper. \n",
        "\n",
        "The simulations that the base model was trained on contain disk + bulge components. As described in the paper, we also convolved these simulations with a representative PSF and added representative noise. "
      ]
    },
    {
      "cell_type": "markdown",
      "metadata": {
        "id": "KwzpM9YMUPqn"
      },
      "source": [
        "# Downloading the Data\n",
        "\n",
        "First, let's download the images that we are going to use to transfer learn. We will download these into the local filesystem from Yale Astronomy's FTP service, where these are hosted.\n",
        "\n",
        "We are going to download all the 100 images (90+10) as a single archive and then export it to a single folder called `training_imgs`. The iamges are in the FITS format and the names of the images are their SDSS Object IDs.\n",
        "\n",
        "We are also going to download the `gal_para.txt` file containing the ground-truth parameters for the above galaxies from [Simard et. al. (2011)](https://iopscience.iop.org/article/10.1088/0067-0049/196/1/11). Using thes bulge-to-total light ratio of each galaxy, we will determine the labels to be used during the transfer learning process. \n",
        "\n",
        "\n",
        "*Tip: The `%%bash` command lets Colab know that all the commands in this shell needs to be passed the local unix virtual environment.*\n",
        "\n",
        "*Tip: To view the files in use on Colab, click the folder icon on the left sidebar.*"
      ]
    },
    {
      "cell_type": "code",
      "metadata": {
        "id": "6TThUIR8Y4lc",
        "colab": {
          "base_uri": "https://localhost:8080/"
        },
        "outputId": "a8162d28-4e7c-42a2-fd24-63d47bc81107"
      },
      "source": [
        "%%bash\n",
        "#get zip and txt file from server\n",
        "wget ftp://ftp.astro.yale.edu/pub/aghosh/gamornet_tutorial_files/tl_images/tl_images.tar.gz\n",
        "wget ftp://ftp.astro.yale.edu/pub/aghosh/gamornet_tutorial_files/tl_images/gal_para.txt\n",
        "\n",
        "#Unzip the Archive\n",
        "tar -xvf tl_images.tar.gz"
      ],
      "execution_count": 4,
      "outputs": [
        {
          "output_type": "stream",
          "text": [
            "./tl_images/587722953304440846-g.fits\n",
            "./tl_images/587722981750014081-g.fits\n",
            "./tl_images/587722982298026184-g.fits\n",
            "./tl_images/587722982812155970-g.fits\n",
            "./tl_images/587722982831161384-g.fits\n",
            "./tl_images/587722983365279858-g.fits\n",
            "./tl_images/587722983366721714-g.fits\n",
            "./tl_images/587722983369408606-g.fits\n",
            "./tl_images/587722983369408874-g.fits\n",
            "./tl_images/587722983897890856-g.fits\n",
            "./tl_images/587722983902806142-g.fits\n",
            "./tl_images/587722983908049268-g.fits\n",
            "./tl_images/587722983910932754-g.fits\n",
            "./tl_images/587722983912767673-g.fits\n",
            "./tl_images/587722984429322343-g.fits\n",
            "./tl_images/587722984438038680-g.fits\n",
            "./tl_images/587722984439545906-g.fits\n",
            "./tl_images/587722984440659987-g.fits\n",
            "./tl_images/587722984440791232-g.fits\n",
            "./tl_images/587722984443216081-g.fits\n",
            "./tl_images/587724197211144263-g.fits\n",
            "./tl_images/587724197741854834-g.fits\n",
            "./tl_images/587724197743362189-g.fits\n",
            "./tl_images/587724197745918122-g.fits\n",
            "./tl_images/587724197746704505-g.fits\n",
            "./tl_images/587724197747032159-g.fits\n",
            "./tl_images/587724198277415036-g.fits\n",
            "./tl_images/587724198278725806-g.fits\n",
            "./tl_images/587724198279053466-g.fits\n",
            "./tl_images/587724198279446731-g.fits\n",
            "./tl_images/587724198282461323-g.fits\n",
            "./tl_images/587724198282920103-g.fits\n",
            "./tl_images/587724198285279370-g.fits\n",
            "./tl_images/587724198816645382-g.fits\n",
            "./tl_images/587724198816841872-g.fits\n",
            "./tl_images/587724198822412473-g.fits\n",
            "./tl_images/587724199349846160-g.fits\n",
            "./tl_images/587724199352729859-g.fits\n",
            "./tl_images/587724199887044764-g.fits\n",
            "./tl_images/587724199889666153-g.fits\n",
            "./tl_images/587724199889797351-g.fits\n",
            "./tl_images/587724199894057120-g.fits\n",
            "./tl_images/587724231565574263-g.fits\n",
            "./tl_images/587724231567802508-g.fits\n",
            "./tl_images/587724232100675610-g.fits\n",
            "./tl_images/587724232102641838-g.fits\n",
            "./tl_images/587724232110375026-g.fits\n",
            "./tl_images/587724232638201976-g.fits\n",
            "./tl_images/587724232639512732-g.fits\n",
            "./tl_images/587724232640299135-g.fits\n",
            "./tl_images/587724232640823418-g.fits\n",
            "./tl_images/587724232641937529-g.fits\n",
            "./tl_images/587724232645017746-g.fits\n",
            "./tl_images/587724232645083176-g.fits\n",
            "./tl_images/587724233177759864-g.fits\n",
            "./tl_images/587724233178480762-g.fits\n",
            "./tl_images/587724233179791424-g.fits\n",
            "./tl_images/587724233712599147-g.fits\n",
            "./tl_images/587724233715023967-g.fits\n",
            "./tl_images/587724233715024035-g.fits\n",
            "./tl_images/587724233715089476-g.fits\n",
            "./tl_images/587724233717776443-g.fits\n",
            "./tl_images/587724233720004817-g.fits\n",
            "./tl_images/587724234249732319-g.fits\n",
            "./tl_images/587724234251436159-g.fits\n",
            "./tl_images/587724234251829389-g.fits\n",
            "./tl_images/587724240154853493-g.fits\n",
            "./tl_images/587724240687267890-g.fits\n",
            "./tl_images/587724240690282547-g.fits\n",
            "./tl_images/587724240694673502-g.fits\n",
            "./tl_images/587724241226170380-g.fits\n",
            "./tl_images/587724241228726404-g.fits\n",
            "./tl_images/587724241232462000-g.fits\n",
            "./tl_images/587724242300895371-g.fits\n",
            "./tl_images/587724242308038811-g.fits\n",
            "./tl_images/587724648179433616-g.fits\n",
            "./tl_images/587724648185135182-g.fits\n",
            "./tl_images/587724648188674155-g.fits\n",
            "./tl_images/587724648191098979-g.fits\n",
            "./tl_images/587724648723710103-g.fits\n",
            "./tl_images/587724648726331503-g.fits\n",
            "./tl_images/587724649255469071-g.fits\n",
            "./tl_images/587724649790111843-g.fits\n",
            "./tl_images/587724650327113903-g.fits\n",
            "./tl_images/587724650329145594-g.fits\n",
            "./tl_images/587724650329276573-g.fits\n",
            "./tl_images/587724650864050209-g.fits\n",
            "./tl_images/587724650864181415-g.fits\n",
            "./tl_images/587724650864574562-g.fits\n",
            "./tl_images/587724650864574666-g.fits\n",
            "./tl_images/587725039016280152-g.fits\n",
            "./tl_images/587725039019491473-g.fits\n",
            "./tl_images/587725039021916298-g.fits\n",
            "./tl_images/587725039026307236-g.fits\n",
            "./tl_images/587725039555248209-g.fits\n",
            "./tl_images/587725039560491033-g.fits\n",
            "./tl_images/587725039562850481-g.fits\n",
            "./tl_images/587725040093036670-g.fits\n",
            "./tl_images/587725040093298792-g.fits\n",
            "./tl_images/587725040626106522-g.fits\n"
          ],
          "name": "stdout"
        },
        {
          "output_type": "stream",
          "text": [
            "--2021-07-14 17:32:15--  ftp://ftp.astro.yale.edu/pub/aghosh/gamornet_tutorial_files/tl_images/tl_images.tar.gz\n",
            "           => ‘tl_images.tar.gz’\n",
            "Resolving ftp.astro.yale.edu (ftp.astro.yale.edu)... 128.36.139.12\n",
            "Connecting to ftp.astro.yale.edu (ftp.astro.yale.edu)|128.36.139.12|:21... connected.\n",
            "Logging in as anonymous ... Logged in!\n",
            "==> SYST ... done.    ==> PWD ... done.\n",
            "==> TYPE I ... done.  ==> CWD (1) /pub/aghosh/gamornet_tutorial_files/tl_images ... done.\n",
            "==> SIZE tl_images.tar.gz ... 3709327\n",
            "==> PASV ... done.    ==> RETR tl_images.tar.gz ... done.\n",
            "Length: 3709327 (3.5M) (unauthoritative)\n",
            "\n",
            "     0K .......... .......... .......... .......... ..........  1%  307K 12s\n",
            "    50K .......... .......... .......... .......... ..........  2%  652K 8s\n",
            "   100K .......... .......... .......... .......... ..........  4%  272M 6s\n",
            "   150K .......... .......... .......... .......... ..........  5%  655K 5s\n",
            "   200K .......... .......... .......... .......... ..........  6%  646K 5s\n",
            "   250K .......... .......... .......... .......... ..........  8%  237M 4s\n",
            "   300K .......... .......... .......... .......... ..........  9%  242M 4s\n",
            "   350K .......... .......... .......... .......... .......... 11%  724K 4s\n",
            "   400K .......... .......... .......... .......... .......... 12% 58.1M 3s\n",
            "   450K .......... .......... .......... .......... .......... 13% 78.1M 3s\n",
            "   500K .......... .......... .......... .......... .......... 15% 57.9M 3s\n",
            "   550K .......... .......... .......... .......... .......... 16% 92.0M 2s\n",
            "   600K .......... .......... .......... .......... .......... 17% 89.2M 2s\n",
            "   650K .......... .......... .......... .......... .......... 19% 84.5M 2s\n",
            "   700K .......... .......... .......... .......... .......... 20%  760K 2s\n",
            "   750K .......... .......... .......... .......... .......... 22% 67.4M 2s\n",
            "   800K .......... .......... .......... .......... .......... 23% 59.5M 2s\n",
            "   850K .......... .......... .......... .......... .......... 24% 79.7M 2s\n",
            "   900K .......... .......... .......... .......... .......... 26% 64.0M 2s\n",
            "   950K .......... .......... .......... .......... .......... 27% 70.2M 1s\n",
            "  1000K .......... .......... .......... .......... .......... 28% 62.9M 1s\n",
            "  1050K .......... .......... .......... .......... .......... 30% 83.8M 1s\n",
            "  1100K .......... .......... .......... .......... .......... 31% 87.9M 1s\n",
            "  1150K .......... .......... .......... .......... .......... 33%  173M 1s\n",
            "  1200K .......... .......... .......... .......... .......... 34%  243M 1s\n",
            "  1250K .......... .......... .......... .......... .......... 35%  293M 1s\n",
            "  1300K .......... .......... .......... .......... .......... 37%  291M 1s\n",
            "  1350K .......... .......... .......... .......... .......... 38%  790K 1s\n",
            "  1400K .......... .......... .......... .......... .......... 40% 62.3M 1s\n",
            "  1450K .......... .......... .......... .......... .......... 41% 73.4M 1s\n",
            "  1500K .......... .......... .......... .......... .......... 42% 78.5M 1s\n",
            "  1550K .......... .......... .......... .......... .......... 44%  134M 1s\n",
            "  1600K .......... .......... .......... .......... .......... 45%  125M 1s\n",
            "  1650K .......... .......... .......... .......... .......... 46%  137M 1s\n",
            "  1700K .......... .......... .......... .......... .......... 48%  116M 1s\n",
            "  1750K .......... .......... .......... .......... .......... 49%  108M 1s\n",
            "  1800K .......... .......... .......... .......... .......... 51%  121M 1s\n",
            "  1850K .......... .......... .......... .......... .......... 52%  125M 1s\n",
            "  1900K .......... .......... .......... .......... .......... 53%  116M 1s\n",
            "  1950K .......... .......... .......... .......... .......... 55%  132M 0s\n",
            "  2000K .......... .......... .......... .......... .......... 56%  123M 0s\n",
            "  2050K .......... .......... .......... .......... .......... 57%  144M 0s\n",
            "  2100K .......... .......... .......... .......... .......... 59%  118M 0s\n",
            "  2150K .......... .......... .......... .......... .......... 60%  133M 0s\n",
            "  2200K .......... .......... .......... .......... .......... 62%  132M 0s\n",
            "  2250K .......... .......... .......... .......... .......... 63%  168M 0s\n",
            "  2300K .......... .......... .......... .......... .......... 64%  109M 0s\n",
            "  2350K .......... .......... .......... .......... .......... 66%  134M 0s\n",
            "  2400K .......... .......... .......... .......... .......... 67%  133M 0s\n",
            "  2450K .......... .......... .......... .......... .......... 69%  142M 0s\n",
            "  2500K .......... .......... .......... .......... .......... 70%  108M 0s\n",
            "  2550K .......... .......... .......... .......... .......... 71%  112M 0s\n",
            "  2600K .......... .......... .......... .......... .......... 73%  107M 0s\n",
            "  2650K .......... .......... .......... .......... .......... 74%  115M 0s\n",
            "  2700K .......... .......... .......... .......... .......... 75%  854K 0s\n",
            "  2750K .......... .......... .......... .......... .......... 77%  112M 0s\n",
            "  2800K .......... .......... .......... .......... .......... 78%  115M 0s\n",
            "  2850K .......... .......... .......... .......... .......... 80%  118M 0s\n",
            "  2900K .......... .......... .......... .......... .......... 81%  109M 0s\n",
            "  2950K .......... .......... .......... .......... .......... 82% 98.4M 0s\n",
            "  3000K .......... .......... .......... .......... .......... 84%  133M 0s\n",
            "  3050K .......... .......... .......... .......... .......... 85%  121M 0s\n",
            "  3100K .......... .......... .......... .......... .......... 86% 80.3M 0s\n",
            "  3150K .......... .......... .......... .......... .......... 88%  130M 0s\n",
            "  3200K .......... .......... .......... .......... .......... 89%  109M 0s\n",
            "  3250K .......... .......... .......... .......... .......... 91%  134M 0s\n",
            "  3300K .......... .......... .......... .......... .......... 92%  103M 0s\n",
            "  3350K .......... .......... .......... .......... .......... 93%  127M 0s\n",
            "  3400K .......... .......... .......... .......... .......... 95%  116M 0s\n",
            "  3450K .......... .......... .......... .......... .......... 96%  108M 0s\n",
            "  3500K .......... .......... .......... .......... .......... 98%  117M 0s\n",
            "  3550K .......... .......... .......... .......... .......... 99%  106M 0s\n",
            "  3600K .......... .......... ..                              100%  143M=0.7s\n",
            "\n",
            "2021-07-14 17:32:17 (5.21 MB/s) - ‘tl_images.tar.gz’ saved [3709327]\n",
            "\n",
            "--2021-07-14 17:32:17--  ftp://ftp.astro.yale.edu/pub/aghosh/gamornet_tutorial_files/tl_images/gal_para.txt\n",
            "           => ‘gal_para.txt’\n",
            "Resolving ftp.astro.yale.edu (ftp.astro.yale.edu)... 128.36.139.12\n",
            "Connecting to ftp.astro.yale.edu (ftp.astro.yale.edu)|128.36.139.12|:21... connected.\n",
            "Logging in as anonymous ... Logged in!\n",
            "==> SYST ... done.    ==> PWD ... done.\n",
            "==> TYPE I ... done.  ==> CWD (1) /pub/aghosh/gamornet_tutorial_files/tl_images ... done.\n",
            "==> SIZE gal_para.txt ... 7266\n",
            "==> PASV ... done.    ==> RETR gal_para.txt ... done.\n",
            "Length: 7266 (7.1K) (unauthoritative)\n",
            "\n",
            "     0K .......                                               100% 13.5M=0.001s\n",
            "\n",
            "2021-07-14 17:32:18 (13.5 MB/s) - ‘gal_para.txt’ saved [7266]\n",
            "\n"
          ],
          "name": "stderr"
        }
      ]
    },
    {
      "cell_type": "markdown",
      "metadata": {
        "id": "NAwLO4hk-C3Q"
      },
      "source": [
        "# Preparing the Data\n",
        "\n",
        "In this section, we will generate the training and validation image arrays as well as the corresponding labels to be used during the transfer learning process.\n",
        "\n",
        "\n",
        "First, lets read in the `.txt` file, which will help us to figure out the label for each galaxy. "
      ]
    },
    {
      "cell_type": "code",
      "metadata": {
        "id": "ex46Lm2c_3I8"
      },
      "source": [
        "import pylab as plt\n",
        "\n",
        "#Let's read in the sim_para.txt file \n",
        "gal_para = plt.genfromtxt(\"./gal_para.txt\",names=True,dtype=None,encoding=None)\n",
        " \n",
        "#The file has a column called \"bt_g\" which is the bulge to total light ratio\n",
        "#for each galaxy as measured by Simard et. al. 2011. "
      ],
      "execution_count": 5,
      "outputs": []
    },
    {
      "cell_type": "markdown",
      "metadata": {
        "id": "4pDautJ1CWTy"
      },
      "source": [
        "Next, let's define two convenience functions, which will assist us in creating the image and label arrays."
      ]
    },
    {
      "cell_type": "code",
      "metadata": {
        "id": "zWcg5PBi-RSL"
      },
      "source": [
        "# Convenience Function to get and return images as numpy arrays\n",
        "\n",
        "def image_handler(i):\n",
        "  return np.reshape(fits.getdata(\"./tl_images/\"+gal_para[\"file_name\"][i],\n",
        "                                 memmap=False),newshape=(167,167,1)) \n",
        "  #We use the reshape command just to add the extra 3rd dimension. The image is \n",
        "  #originally 167*167. So, in essence no re-sizing is taking place in the X or Y\n",
        "  #directions.\n",
        "\n",
        "\n",
        "# Convenience Function to get and return the training labels of each galaxy\n",
        "# in the one-hot encoding format. i.e. disk-dominated galaxies will be represented\n",
        "# by the array [1,0,0], bulge-dominated by [0,0,1] and indeterminate by [0,1,0]\n",
        "\n",
        "def label_handler(i):\n",
        "  \n",
        "  target_vect = [0]*3\n",
        "\n",
        "  if gal_para[\"bt_g\"][i] < 0.45: #disk-dminated\n",
        "    target_vect[0] = 1\n",
        "\n",
        "  elif 0.45 <= gal_para[\"bt_g\"][i] <= 0.55: #indeterminate\n",
        "    target_vect[1] = 1\n",
        "\n",
        "  else: #bulge-dominated\n",
        "    target_vect[2] = 1\n",
        "\n",
        "  return target_vect"
      ],
      "execution_count": 6,
      "outputs": []
    },
    {
      "cell_type": "markdown",
      "metadata": {
        "id": "cQesQrpK-Pz2"
      },
      "source": [
        "Now, we are going to use the first 90 images to create the training set and the last 10 to create the validation set. We are multi-threading the process below -- although this is an absolute overkill for 100 images, it's very handy while dealing with large numbers of images. "
      ]
    },
    {
      "cell_type": "code",
      "metadata": {
        "id": "U_SCF8wWDiSD"
      },
      "source": [
        "from multiprocessing import Pool\n",
        "import numpy as np\n",
        "from astropy.io import fits\n",
        "\n",
        "NUM_THREADS = 2\n",
        "\n",
        "pl = Pool(NUM_THREADS)\n",
        "training_imgs = np.array(pl.map(image_handler,range(0,90)))\n",
        "training_labels = np.array(pl.map(label_handler,range(0,90)))\n",
        "\n",
        "valdiation_imgs = np.array(pl.map(image_handler,range(90,100)))\n",
        "validation_labels = np.array(pl.map(label_handler,range(90,100)))"
      ],
      "execution_count": 7,
      "outputs": []
    },
    {
      "cell_type": "markdown",
      "metadata": {
        "id": "Iw-l4YKMbLdK"
      },
      "source": [
        "# Transfer Learning on GaMorNet using Keras\n",
        "\n",
        "Now, we will be using the images and the labels generated above to transfer learn on GaMorNet. \n",
        "\n",
        "The main goal of transfer learning is to refine a previously trained model. Thus, as a starting point, we will be using the model trained on SDSS simulations in the paper. \n",
        "\n",
        "One of the other primary decisions to take during transfer learning is \n",
        "\n",
        "* whether you want to train all the layers or whether you want to freeze some of the them. The `trainable_bools` parameter controls this. \n",
        "\n",
        "* whether you want to load all the layers from the previously trained model or whether you want to initialize some of the layers from scratch. The `load_layers_bools` parameter controls this. \n",
        "\n"
      ]
    },
    {
      "cell_type": "code",
      "metadata": {
        "id": "XBTLm74QbMnG",
        "colab": {
          "base_uri": "https://localhost:8080/"
        },
        "outputId": "e6d78a36-26e4-426b-caa9-f6fac24c2a62"
      },
      "source": [
        "from gamornet.keras_module import gamornet_tl_keras\n",
        "\n",
        "model = gamornet_tl_keras(training_imgs,training_labels,valdiation_imgs,validation_labels, \n",
        "                          input_shape='SDSS', load_layers_bools='load_bools_SDSS', \n",
        "                          trainable_bools='train_bools_SDSS', \n",
        "                          model_load_path='SDSS_sim', epochs=20, checkpoint_freq=10, \n",
        "                          batch_size=64, lr=0.00001, loss='categorical_crossentropy')"
      ],
      "execution_count": 8,
      "outputs": [
        {
          "output_type": "stream",
          "text": [
            "WARNING:tensorflow:From /tensorflow-1.15.2/python3.7/tensorflow_core/python/ops/resource_variable_ops.py:1630: calling BaseResourceVariable.__init__ (from tensorflow.python.ops.resource_variable_ops) with constraint is deprecated and will be removed in a future version.\n",
            "Instructions for updating:\n",
            "If using Keras pass *_constraint arguments to layers.\n",
            "WARNING:tensorflow:From /tensorflow-1.15.2/python3.7/keras/backend/tensorflow_backend.py:4070: The name tf.nn.max_pool is deprecated. Please use tf.nn.max_pool2d instead.\n",
            "\n",
            "WARNING:tensorflow:From /tensorflow-1.15.2/python3.7/keras/backend/tensorflow_backend.py:4074: The name tf.nn.avg_pool is deprecated. Please use tf.nn.avg_pool2d instead.\n",
            "\n",
            "Fetching SDSS Sim Trained Weigths.....\n",
            "Loading Layer0 from previous model.\n",
            "Loading Layer3 from previous model.\n",
            "Loading Layer6 from previous model.\n",
            "Loading Layer7 from previous model.\n",
            "Loading Layer8 from previous model.\n",
            "Initializing Layer12 from scratch\n",
            "Initializing Layer14 from scratch\n",
            "Initializing Layer16 from scratch\n",
            "WARNING:tensorflow:From /tensorflow-1.15.2/python3.7/tensorflow_core/python/ops/math_grad.py:1375: where (from tensorflow.python.ops.array_ops) is deprecated and will be removed in a future version.\n",
            "Instructions for updating:\n",
            "Use tf.where in 2.0, which has the same broadcast rule as np.where\n",
            "WARNING:tensorflow:From /tensorflow-1.15.2/python3.7/keras/backend/tensorflow_backend.py:422: The name tf.global_variables is deprecated. Please use tf.compat.v1.global_variables instead.\n",
            "\n",
            "WARNING:tensorflow:From /tensorflow-1.15.2/python3.7/keras/backend/tensorflow_backend.py:431: The name tf.is_variable_initialized is deprecated. Please use tf.compat.v1.is_variable_initialized instead.\n",
            "\n",
            "WARNING:tensorflow:From /tensorflow-1.15.2/python3.7/keras/backend/tensorflow_backend.py:438: The name tf.variables_initializer is deprecated. Please use tf.compat.v1.variables_initializer instead.\n",
            "\n",
            "Train on 90 samples, validate on 10 samples\n",
            "Epoch 1/20\n",
            "90/90 [==============================] - 9s 101ms/step - loss: 1.4889 - accuracy: 0.2667 - val_loss: 1.0191 - val_accuracy: 0.5000\n",
            "Epoch 2/20\n",
            "90/90 [==============================] - 0s 1ms/step - loss: 1.4522 - accuracy: 0.3000 - val_loss: 1.0058 - val_accuracy: 0.4000\n",
            "Epoch 3/20\n",
            "90/90 [==============================] - 0s 1ms/step - loss: 1.4755 - accuracy: 0.2667 - val_loss: 0.9878 - val_accuracy: 0.5000\n",
            "Epoch 4/20\n",
            "90/90 [==============================] - 0s 1ms/step - loss: 1.3010 - accuracy: 0.3889 - val_loss: 0.9672 - val_accuracy: 0.6000\n",
            "Epoch 5/20\n",
            "90/90 [==============================] - 0s 1ms/step - loss: 1.3356 - accuracy: 0.3556 - val_loss: 0.9464 - val_accuracy: 0.8000\n",
            "Epoch 6/20\n",
            "90/90 [==============================] - 0s 1ms/step - loss: 1.1386 - accuracy: 0.4444 - val_loss: 0.9265 - val_accuracy: 0.7000\n",
            "Epoch 7/20\n",
            "90/90 [==============================] - 0s 1ms/step - loss: 1.2144 - accuracy: 0.3667 - val_loss: 0.9073 - val_accuracy: 0.7000\n",
            "Epoch 8/20\n",
            "90/90 [==============================] - 0s 1ms/step - loss: 1.2088 - accuracy: 0.4222 - val_loss: 0.8906 - val_accuracy: 0.7000\n",
            "Epoch 9/20\n",
            "90/90 [==============================] - 0s 1ms/step - loss: 1.1336 - accuracy: 0.4778 - val_loss: 0.8767 - val_accuracy: 0.6000\n",
            "Epoch 10/20\n",
            "90/90 [==============================] - 0s 1ms/step - loss: 1.0337 - accuracy: 0.4778 - val_loss: 0.8663 - val_accuracy: 0.6000\n",
            "\n",
            "Epoch 00010: saving model to ./model_10.hdf5\n",
            "Epoch 11/20\n",
            "90/90 [==============================] - 0s 1ms/step - loss: 1.1145 - accuracy: 0.4667 - val_loss: 0.8589 - val_accuracy: 0.6000\n",
            "Epoch 12/20\n",
            "90/90 [==============================] - 0s 1ms/step - loss: 1.0389 - accuracy: 0.5444 - val_loss: 0.8535 - val_accuracy: 0.6000\n",
            "Epoch 13/20\n",
            "90/90 [==============================] - 0s 1ms/step - loss: 0.9660 - accuracy: 0.5333 - val_loss: 0.8494 - val_accuracy: 0.6000\n",
            "Epoch 14/20\n",
            "90/90 [==============================] - 0s 1ms/step - loss: 0.9860 - accuracy: 0.6000 - val_loss: 0.8485 - val_accuracy: 0.6000\n",
            "Epoch 15/20\n",
            "90/90 [==============================] - 0s 1ms/step - loss: 0.8548 - accuracy: 0.6556 - val_loss: 0.8481 - val_accuracy: 0.6000\n",
            "Epoch 16/20\n",
            "90/90 [==============================] - 0s 1ms/step - loss: 0.8113 - accuracy: 0.6667 - val_loss: 0.8488 - val_accuracy: 0.6000\n",
            "Epoch 17/20\n",
            "90/90 [==============================] - 0s 1ms/step - loss: 0.8959 - accuracy: 0.6444 - val_loss: 0.8501 - val_accuracy: 0.6000\n",
            "Epoch 18/20\n",
            "90/90 [==============================] - 0s 1ms/step - loss: 0.8606 - accuracy: 0.6778 - val_loss: 0.8510 - val_accuracy: 0.6000\n",
            "Epoch 19/20\n",
            "90/90 [==============================] - 0s 1ms/step - loss: 0.8677 - accuracy: 0.6889 - val_loss: 0.8532 - val_accuracy: 0.6000\n",
            "Epoch 20/20\n",
            "90/90 [==============================] - 0s 1ms/step - loss: 0.7571 - accuracy: 0.7111 - val_loss: 0.8550 - val_accuracy: 0.6000\n",
            "\n",
            "Epoch 00020: saving model to ./model_20.hdf5\n"
          ],
          "name": "stdout"
        }
      ]
    },
    {
      "cell_type": "markdown",
      "metadata": {
        "id": "Fbzt1qHGG7ug"
      },
      "source": [
        "In the output above, the `accuracy` and `loss` refer to the metrics calculated on the training set at the end of each epoch while `val_loss` and `val_accuracy` refer to the metrics calculated on the validation data. \n",
        "\n",
        "The above command trains the model using the images we prepared for 20 epochs using a learning rate of 0.00001 and a categorical cross-entropy loss function. The `checkpoint_freq = 10` parameter also ensures that every 10 epochs, a snapshot of the model is saved. These models are named as `model_x.hdf5` where x refers to the epoch at which the model was saved. The `input_shape` parameter specifies the shape of the input images. Setting this to `SDSS` automatically sets the value to `(167,167,1)`.\n",
        "\n",
        "---\n",
        "\n",
        "The value of the `load_layers_bools` parameter should be an array of eight bools corresponding to layer numbers 2, 5, 8, 9, 10, 13, 15, 17 of GaMorNet [(Schematic Diagram)](https://github.com/aritraghsh09/GaMorNet/blob/master/docs/source/images/gamornet_schematic_coloured.png). Setting an array element to `True` implies that the specific layer is loaded from the previous model, while setting an element to `False` implies that the specific layer is initialized from scratch. `load_layers_bools = 'load_bools_SDSS'` sets up the configuration we used in the paper for the SDSS data. \n",
        "\n",
        "The value of the `trainable_bools` parameter should be an array of eight bools again corresponding to layer numbers 2, 5, 8, 9, 10, 13, 15, 17 of GaMorNet [(Schematic Diagram)](https://github.com/aritraghsh09/GaMorNet/blob/master/docs/source/images/gamornet_schematic_coloured.png). Setting an array element to `True` means that wieghts and baises of that layer will be tuned during transfer learning. Setting it to `False` means that they would be kept frozen.`trainable_bools = 'train_bools_SDSS'` sets up the configuration that we used in the paper for SDSS data. \n",
        "\n",
        "For an explanation of the different input parameters of `gamornet_tl_keras`, pelase have a look at the [API documentation](https://gamornet.readthedocs.io/en/latest/api_docs.html)."
      ]
    },
    {
      "cell_type": "markdown",
      "metadata": {
        "id": "7qhQgRdXJtwE"
      },
      "source": [
        "Thus, you can easily perform transfer learning using GaMorNet!! You can have a look at the trained model's structure using the command below. "
      ]
    },
    {
      "cell_type": "code",
      "metadata": {
        "id": "3Fs124brJpVI",
        "colab": {
          "base_uri": "https://localhost:8080/"
        },
        "outputId": "54151a4a-7001-4688-92c8-8baf2c14ca16"
      },
      "source": [
        "model.summary()"
      ],
      "execution_count": 9,
      "outputs": [
        {
          "output_type": "stream",
          "text": [
            "Model: \"sequential_1\"\n",
            "_________________________________________________________________\n",
            "Layer (type)                 Output Shape              Param #   \n",
            "=================================================================\n",
            "conv2d_1 (Conv2D)            (None, 42, 42, 96)        11712     \n",
            "_________________________________________________________________\n",
            "max_pooling2d_1 (MaxPooling2 (None, 21, 21, 96)        0         \n",
            "_________________________________________________________________\n",
            "local_response_normalization (None, 21, 21, 96)        0         \n",
            "_________________________________________________________________\n",
            "conv2d_2 (Conv2D)            (None, 21, 21, 256)       614656    \n",
            "_________________________________________________________________\n",
            "max_pooling2d_2 (MaxPooling2 (None, 11, 11, 256)       0         \n",
            "_________________________________________________________________\n",
            "local_response_normalization (None, 11, 11, 256)       0         \n",
            "_________________________________________________________________\n",
            "conv2d_3 (Conv2D)            (None, 11, 11, 384)       885120    \n",
            "_________________________________________________________________\n",
            "conv2d_4 (Conv2D)            (None, 11, 11, 384)       1327488   \n",
            "_________________________________________________________________\n",
            "conv2d_5 (Conv2D)            (None, 11, 11, 256)       884992    \n",
            "_________________________________________________________________\n",
            "max_pooling2d_3 (MaxPooling2 (None, 6, 6, 256)         0         \n",
            "_________________________________________________________________\n",
            "local_response_normalization (None, 6, 6, 256)         0         \n",
            "_________________________________________________________________\n",
            "flatten_1 (Flatten)          (None, 9216)              0         \n",
            "_________________________________________________________________\n",
            "dense_1 (Dense)              (None, 4096)              37752832  \n",
            "_________________________________________________________________\n",
            "dropout_1 (Dropout)          (None, 4096)              0         \n",
            "_________________________________________________________________\n",
            "dense_2 (Dense)              (None, 4096)              16781312  \n",
            "_________________________________________________________________\n",
            "dropout_2 (Dropout)          (None, 4096)              0         \n",
            "_________________________________________________________________\n",
            "dense_3 (Dense)              (None, 3)                 12291     \n",
            "=================================================================\n",
            "Total params: 58,270,403\n",
            "Trainable params: 58,270,403\n",
            "Non-trainable params: 0\n",
            "_________________________________________________________________\n"
          ],
          "name": "stdout"
        }
      ]
    },
    {
      "cell_type": "markdown",
      "metadata": {
        "id": "AkVOkDibLMmD"
      },
      "source": [
        "**Important:**\n",
        "The above process also generates a `metrics.csv` file, which contains the loss and accuracy calculated on the validation as well as the training data. \n",
        "\n",
        "We highly recommend using the data in this file to check how the loss and accuracies vary with transfer learning. This is extremely helpful in judging whether the model was trained properly and sufficiently. "
      ]
    },
    {
      "cell_type": "markdown",
      "metadata": {
        "id": "oNUoKZkonnlh"
      },
      "source": [
        "# Transfer Learning on GaMorNet using TFLearn\n",
        "\n",
        "Now, we will be using the images and the labels generated above to transfer learn on GaMorNet. \n",
        "\n",
        "The main goal of transfer learning is to refine a previously trained model. Thus, as a starting point, we will be using the model trained on SDSS simulations in the paper. \n",
        "\n",
        "One of the other primary decisions to take during transfer learning is \n",
        "\n",
        "* whether you want to train all the layers or whether you want to freeze some of the them. The `trainable_bools` parameter controls this. \n",
        "\n",
        "* whether you want to load all the layers from the previously trained model or whether you want to initialize some of the layers from scratch. The `load_layers_bools` parameter controls this. \n",
        "\n"
      ]
    },
    {
      "cell_type": "code",
      "metadata": {
        "id": "xbSFipKwnnlj",
        "colab": {
          "base_uri": "https://localhost:8080/"
        },
        "outputId": "72ce6c3b-7e5f-44fb-e39a-834ba58cdecd"
      },
      "source": [
        "from gamornet.tflearn_module import gamornet_tl_tflearn\n",
        "\n",
        "model = gamornet_tl_tflearn(training_imgs,training_labels,valdiation_imgs,validation_labels, \n",
        "                          input_shape='SDSS', load_layers_bools='load_bools_SDSS', \n",
        "                          trainable_bools='train_bools_SDSS', \n",
        "                          model_load_path='SDSS_sim', epochs=20, max_checkpoints=2, \n",
        "                          batch_size=64, lr=0.00001, loss='categorical_crossentropy',\n",
        "                          clear_session=True)"
      ],
      "execution_count": 10,
      "outputs": [
        {
          "output_type": "stream",
          "text": [
            "Training Step: 1405632  | total loss: \u001b[1m\u001b[32m0.33258\u001b[0m\u001b[0m | time: 0.060s\n",
            "| Momentum | epoch: 020 | loss: 0.33258 - acc: 0.8729 -- iter: 64/90\n",
            "Training Step: 1405633  | total loss: \u001b[1m\u001b[32m0.30862\u001b[0m\u001b[0m | time: 1.153s\n",
            "| Momentum | epoch: 020 | loss: 0.30862 - acc: 0.8856 | val_loss: 0.64257 - val_acc: 0.6000 -- iter: 90/90\n",
            "--\n"
          ],
          "name": "stdout"
        }
      ]
    },
    {
      "cell_type": "markdown",
      "metadata": {
        "id": "v_DHvyj7nnlp"
      },
      "source": [
        "The above command trains a model using the images we prepared for 20 epochs using a learning rate of 0.00001 and a categorical cross-entropy loss function. The `max_checkpoints = 2` parameter ensures that the latest 2 snapshots of the epochs will always be saved during training. Three files are saved for each snapshot and the naming format of the checkpoints is `check-x.data`,`check-x.index`,`check-x.meta` where x refers to the step number at which the model was saved. The `input_shape` parameter specifies the shape of the input images. Setting this to `SDSS` automatically sets the value to `(167,167,1)`. \n",
        "\n",
        "In the output above, the `acc` and `loss` refer to the accuracy and loss calculated on the training set at the end of each epoch while `val_loss` and `val_acc` refer to the metrics calculated on the validation data. \n",
        "\n",
        "---\n",
        "\n",
        "The value of the `load_layers_bools` parameter should be an array of eight bools corresponding to layer numbers 2, 5, 8, 9, 10, 13, 15, 17 of GaMorNet [(Schematic Diagram)](https://github.com/aritraghsh09/GaMorNet/blob/master/docs/source/images/gamornet_schematic_coloured.png). Setting an array element to `True` implies that the specific layer is loaded from the previous model, while setting an element to `False` implies that the specific layer is initialized from scratch. `load_layers_bools = 'load_bools_SDSS'` sets up the configuration we used in the paper for the SDSS data. \n",
        "\n",
        "The value of the `trainable_bools` parameter should be an array of eight bools again corresponding to layer numbers 2, 5, 8, 9, 10, 13, 15, 17 of GaMorNet [(Schematic Diagram)](https://github.com/aritraghsh09/GaMorNet/blob/master/docs/source/images/gamornet_schematic_coloured.png). Setting an array element to `True` means that wieghts and baises of that layer will be tuned during transfer learning. Setting it to `False` means that they would be kept frozen.`trainable_bools = 'train_bools_SDSS'` sets up the configuration that we used in the paper for SDSS data.\n",
        "\n",
        "--- \n",
        "\n",
        "The `clear_session = True` parameter value instructs GaMorNet to clear the TensorFlow graphs created earlier. We highly recommend setting `clear_session` to `True` in notebooks while using the `tflearn_module` as otherwise it might fail. \n",
        "\n",
        "For an explanation of the different input parameters of `gamornet_tl_tflearn`, pelase have a look at the [API documentation](https://gamornet.readthedocs.io/en/latest/api_docs.html).\n",
        "\n",
        "Thus, you can easily perform transfer learning using GaMorNet!! \n",
        "\n",
        "---"
      ]
    },
    {
      "cell_type": "markdown",
      "metadata": {
        "id": "WkkqhRiynnlq"
      },
      "source": [
        "**Tip:** Unlike with the keras module, the tflearn module doesn't automatically save the metrics. Instead you have to redirect the Python output generated to a file in order to keep track of the metrics. \n",
        "\n",
        "When running a python script, this can be done simply using `python script.py > out.txt`. This will save all the screen output in `out.txt`.\n",
        "\n",
        "Thereafter the following snippet of Python Code can easily search for the relevant metrics in the screen output file. \n",
        "\n",
        "```python\n",
        "###################################\n",
        "# accParser.py\n",
        "#\n",
        "# Takes tflearn screen output and extracts loss, acc and val_acc every epoch for visualization\n",
        "####################################\n",
        "import sys\n",
        "\n",
        "if (len(sys.argv) != 2):\n",
        "        print \"Exiting Program....\\nUsage: python accParser.py /path/to/screen/output\"\n",
        "\n",
        "\n",
        "dataPath = sys.argv[1] #the first argument is the path to the screen grab of the TF Learn run\n",
        "\n",
        "dataFile = open(dataPath, 'r')\n",
        "outFile = open(dataPath[:-6] + 'out.txt', 'w')\n",
        "\n",
        "outFile.write(\"epoch loss acc val_acc\\n\")\n",
        "resultLines = dataFile.readlines()\n",
        "\n",
        "for line in resultLines:\n",
        "        if 'val_acc' in line:\n",
        "                words = line.split()\n",
        "\n",
        "                #validation step\n",
        "                if words[-2:-1] != ['iter:']:\n",
        "                        print \"Something doesn't look right. Skipping an occurene of val_acc\"\n",
        "                        continue\n",
        "\n",
        "                outFile.write(words[words.index(\"epoch:\")+1] + \" \")\n",
        "                outFile.write(words[words.index(\"loss:\")+1] + \" \")\n",
        "                outFile.write(words[words.index(\"acc:\")+1] + \" \")\n",
        "                outFile.write(words[words.index(\"val_acc:\")+1] + \"\\n\")\n",
        "\n",
        "dataFile.close()\n",
        "outFile.close()\n",
        "\n",
        "```"
      ]
    },
    {
      "cell_type": "markdown",
      "metadata": {
        "id": "7CI4QJAROoGo"
      },
      "source": [
        "**Important:** We highly recommend checking how the loss and accuracies vary with transfer learning. This is extremely helpful in judging whether the model was trained properly and sufficiently. "
      ]
    },
    {
      "cell_type": "markdown",
      "metadata": {
        "id": "6Trd52HQV7xU"
      },
      "source": [
        "# Summary & Takeaways\n",
        "\n",
        "* `gamornet_tl_keras` and `gamornet_tl_tflearn` are the two functions that can be used to perform transfer learning (i.e. fine-tune previously trained GaMorNet models).  \n",
        "\n",
        "* For understanding the differences between the Keras and TFLearn modules, please refer to the [PDR Handbook](https://gamornet.readthedocs.io/en/latest/usage_guide.html). \n",
        "\n",
        "* The [PDR Handbook](https://gamornet.readthedocs.io/en/latest/usage_guide.html) also contains advice about which model is the ideal candidate for starting the transfer learning process. "
      ]
    }
  ]
}