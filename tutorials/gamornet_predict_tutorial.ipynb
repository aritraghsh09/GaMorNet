{
  "nbformat": 4,
  "nbformat_minor": 0,
  "metadata": {
    "kernelspec": {
      "display_name": "Python 3",
      "language": "python",
      "name": "python3"
    },
    "language_info": {
      "codemirror_mode": {
        "name": "ipython",
        "version": 3
      },
      "file_extension": ".py",
      "mimetype": "text/x-python",
      "name": "python",
      "nbconvert_exporter": "python",
      "pygments_lexer": "ipython3",
      "version": "3.6.9"
    },
    "colab": {
      "name": "gamornet_basics_tutorial.ipynb",
      "provenance": [],
      "include_colab_link": true
    },
    "accelerator": "GPU"
  },
  "cells": [
    {
      "cell_type": "markdown",
      "metadata": {
        "id": "view-in-github",
        "colab_type": "text"
      },
      "source": [
        "<a href=\"https://colab.research.google.com/github/aritraghsh09/GaMorNet/blob/master/tutorials/gamornet_predict_tutorial.ipynb\" target=\"_parent\"><img src=\"https://colab.research.google.com/assets/colab-badge.svg\" alt=\"Open In Colab\"/></a>"
      ]
    },
    {
      "cell_type": "markdown",
      "metadata": {
        "id": "pNq4HgykhnJK"
      },
      "source": [
        "# Google Colab Stuff\n",
        "\n",
        "Although this tutorial can be run on any machine which has GaMorNet installed, it's pretty handy to run this on Google Colab as you can easily use Colab's GPUs for this tutorial.\n",
        "\n",
        "Note that with the free version of Colab, you will only have access to a limited amount of memory. Thus, the number of images we use here for training/testing is very small. In reality, GaMorNet can handle hundreds of thousands of images. \n",
        "\n",
        "This first section is meant to be run only when following this tutorial in Google Colab.\n"
      ]
    },
    {
      "cell_type": "markdown",
      "metadata": {
        "id": "g2wSGVu4ihqa"
      },
      "source": [
        "### Make things Fast!"
      ]
    },
    {
      "cell_type": "markdown",
      "metadata": {
        "id": "zWvqtYGaijke"
      },
      "source": [
        "Before we dive in, let's make sure we're using a GPU for this tutorial.  \n",
        "\n",
        "To do this, select \"Runtime\" -> \"Change runtime type\" -> \"Hardware accelerator\" -> \"GPU\"."
      ]
    },
    {
      "cell_type": "markdown",
      "metadata": {
        "id": "en4lZVmont-b"
      },
      "source": [
        "### Install GaMorNet & Other Libraries Needed for the Tutorial"
      ]
    },
    {
      "cell_type": "code",
      "metadata": {
        "id": "Ywr-x3csgQ5f",
        "colab": {
          "base_uri": "https://localhost:8080/"
        },
        "outputId": "b89c8531-a496-474c-f922-f60eb4175848"
      },
      "source": [
        "import os\n",
        "# Suppressing TF warnings and info for a cleaner environ\n",
        "# Set this to 0,1 for info and warnings respectively.\n",
        "os.environ['TF_CPP_MIN_LOG_LEVEL'] = '2' \n",
        " \n",
        "# Magic telling Colab we want TF version ~=1.0\n",
        "%tensorflow_version 1.x\n",
        "\n",
        "!pip install -q --upgrade gamornet"
      ],
      "execution_count": 1,
      "outputs": [
        {
          "output_type": "stream",
          "text": [
            "TensorFlow 1.x selected.\n",
            "\u001b[K     |████████████████████████████████| 2.9MB 10.9MB/s \n",
            "\u001b[K     |████████████████████████████████| 411.0MB 43kB/s \n",
            "\u001b[?25h  Building wheel for wget (setup.py) ... \u001b[?25l\u001b[?25hdone\n",
            "  Building wheel for gast (setup.py) ... \u001b[?25l\u001b[?25hdone\n",
            "\u001b[31mERROR: kapre 0.3.5 has requirement tensorflow>=2.0.0, but you'll have tensorflow 1.15.2 which is incompatible.\u001b[0m\n",
            "\u001b[31mERROR: tensorflow-gpu 1.15.5 has requirement numpy<1.19.0,>=1.16.0, but you'll have numpy 1.19.5 which is incompatible.\u001b[0m\n"
          ],
          "name": "stdout"
        }
      ]
    },
    {
      "cell_type": "code",
      "metadata": {
        "id": "AYsnfr7tj3D-",
        "colab": {
          "base_uri": "https://localhost:8080/"
        },
        "outputId": "b99fb062-af29-4de6-a46c-fb70e4b094da"
      },
      "source": [
        "##Checking which version of Tensorflow & GaMorNet is being used and whether the installation worked.\n",
        "import tensorflow as tf\n",
        "import gamornet\n",
        "print(tf.__version__)\n",
        "print(gamornet.__version__)\n",
        "from gamornet.keras_module import gamornet_train_keras, gamornet_tl_keras, gamornet_predict_keras\n",
        "from gamornet.tflearn_module import gamornet_train_tflearn, gamornet_tl_tflearn, gamornet_predict_tflearn"
      ],
      "execution_count": 2,
      "outputs": [
        {
          "output_type": "stream",
          "text": [
            "1.15.2\n",
            "0.4.3\n"
          ],
          "name": "stdout"
        },
        {
          "output_type": "stream",
          "text": [
            "Using TensorFlow backend.\n"
          ],
          "name": "stderr"
        },
        {
          "output_type": "stream",
          "text": [
            "WARNING:tensorflow:From /tensorflow-1.15.2/python3.7/tflearn/helpers/summarizer.py:9: The name tf.summary.merge is deprecated. Please use tf.compat.v1.summary.merge instead.\n",
            "\n",
            "WARNING:tensorflow:From /tensorflow-1.15.2/python3.7/tflearn/helpers/trainer.py:25: The name tf.summary.FileWriter is deprecated. Please use tf.compat.v1.summary.FileWriter instead.\n",
            "\n",
            "WARNING:tensorflow:From /tensorflow-1.15.2/python3.7/tflearn/collections.py:13: The name tf.GraphKeys is deprecated. Please use tf.compat.v1.GraphKeys instead.\n",
            "\n",
            "WARNING:tensorflow:From /tensorflow-1.15.2/python3.7/tflearn/config.py:123: The name tf.get_collection is deprecated. Please use tf.compat.v1.get_collection instead.\n",
            "\n",
            "WARNING:tensorflow:From /tensorflow-1.15.2/python3.7/tflearn/config.py:129: The name tf.add_to_collection is deprecated. Please use tf.compat.v1.add_to_collection instead.\n",
            "\n",
            "WARNING:tensorflow:From /tensorflow-1.15.2/python3.7/tflearn/config.py:131: The name tf.assign is deprecated. Please use tf.compat.v1.assign instead.\n",
            "\n"
          ],
          "name": "stdout"
        }
      ]
    },
    {
      "cell_type": "markdown",
      "metadata": {
        "id": "XfqAinoy2buD"
      },
      "source": [
        "The following snippet will verify that we have access to a GPU.\n"
      ]
    },
    {
      "cell_type": "code",
      "metadata": {
        "id": "WbBNuljhhnyf",
        "colab": {
          "base_uri": "https://localhost:8080/"
        },
        "outputId": "4ad5ff92-6780-4bb9-8506-ae95abee34cb"
      },
      "source": [
        "#Checking access to GPU\n",
        "import tensorflow as tf\n",
        "if tf.test.gpu_device_name() != '/device:GPU:0':\n",
        "  print('WARNING: GPU device not found.')\n",
        "else:\n",
        "  print('SUCCESS: Found GPU: {}'.format(tf.test.gpu_device_name()))"
      ],
      "execution_count": 3,
      "outputs": [
        {
          "output_type": "stream",
          "text": [
            "SUCCESS: Found GPU: /device:GPU:0\n"
          ],
          "name": "stdout"
        }
      ]
    },
    {
      "cell_type": "markdown",
      "metadata": {
        "id": "isCigPq4TiWi"
      },
      "source": [
        "# Reference\n",
        "\n",
        "All mentions of \"the paper\" in this tutorial, refer to [Ghosh et. al. (2020)](https://iopscience.iop.org/article/10.3847/1538-4357/ab8a47)"
      ]
    },
    {
      "cell_type": "markdown",
      "metadata": {
        "id": "NZdvFR_IgTmn"
      },
      "source": [
        "# Predicting with GaMorNet"
      ]
    },
    {
      "cell_type": "markdown",
      "metadata": {
        "id": "Q0MNIlNUSZJ8"
      },
      "source": [
        "One of the most common tasks that you can use GaMorNet for is to perform predictions on images. \n",
        "\n",
        "The models that you would want to use to make these predictions will depend on the dataset that you have. For advice regarding this please refer to our [PDR Handbook.](https://gamornet.readthedocs.io/en/latest/usage_guide.html) "
      ]
    },
    {
      "cell_type": "markdown",
      "metadata": {
        "id": "L16wRxUhTSaM"
      },
      "source": [
        "For the purposes of this demonstration, we are going to use the models trained on SDSS simulations and real data in the paper. We are going to perform the prediction on two SDSS g-band images from our testing dataset. "
      ]
    },
    {
      "cell_type": "markdown",
      "metadata": {
        "id": "KwzpM9YMUPqn"
      },
      "source": [
        "# Downloading & Visalizing the Data\n",
        "\n",
        "First, let's download the images that we are going to use to perform the predictive analysis. We will download these into the local filesystem from Yale Astronomy's FTP service, where these are hosted \n",
        "\n",
        "\n",
        "*Tip: The `%%bash` command lets Colab know that all the commands in this shell needs to be passed the local unix virtual environment.*"
      ]
    },
    {
      "cell_type": "code",
      "metadata": {
        "id": "6TThUIR8Y4lc"
      },
      "source": [
        "%%bash\n",
        "#get zip file from server\n",
        "wget ftp://ftp.astro.yale.edu/pub/aghosh/gamornet_tutorial_files/predict_images/predict_images.tar.gz\n",
        "\n",
        "#create new directory and unzip to it\n",
        "mkdir predict_images\n",
        "tar -xvf predict_images.tar.gz -C ./predict_images/ "
      ],
      "execution_count": null,
      "outputs": []
    },
    {
      "cell_type": "markdown",
      "metadata": {
        "id": "EbJqQBKgbFaM"
      },
      "source": [
        "Now, let's take a quick look at these two images."
      ]
    },
    {
      "cell_type": "code",
      "metadata": {
        "id": "ehugaYJ3bI_L"
      },
      "source": [
        "from astropy.io import fits\n",
        "import matplotlib as mpl\n",
        "import pylab as plt\n",
        "\n",
        "plt.figure(dpi=120)\n",
        "plt.subplot(1,2,1) #setting up 1st subplot\n",
        "\n",
        "#reading in the data and plotting the first image\n",
        "img_1_data = fits.getdata(\"./predict_images/587722984439545906-g.fits\")\n",
        "plt.imshow(img_1_data,norm = mpl.colors.LogNorm())\n",
        "\n",
        "plt.subplot(1,2,2) #setting up the 2nd subplot\n",
        "\n",
        "#reading in the data and plotting the second image\n",
        "img_2_data = fits.getdata(\"./predict_images/587725552281976904-g.fits\")\n",
        "plt.imshow(img_2_data,norm = mpl.colors.LogNorm())"
      ],
      "execution_count": null,
      "outputs": []
    },
    {
      "cell_type": "markdown",
      "metadata": {
        "id": "Iw-l4YKMbLdK"
      },
      "source": [
        "# Performing Predictions with Keras\n",
        "\n",
        "Now, we will be using the models trained on SDSS simulations and real data from the paper in order to perform predictions on the two above images. "
      ]
    },
    {
      "cell_type": "code",
      "metadata": {
        "id": "XBTLm74QbMnG"
      },
      "source": [
        "from gamornet.keras_module import gamornet_predict_keras\n",
        "import numpy as np\n",
        "\n",
        "#Adding an explicit third axis to the image data (as this is needed for\n",
        "#the GaMorNet function to work properly). Just to be clear the images\n",
        "#were already 167*167, so we are not resizing the X,Y dimensions in any\n",
        "#way\n",
        "img_1_data = np.reshape(img_1_data,newshape=(167,167,1))\n",
        "img_2_data = np.reshape(img_2_data,newshape=(167,167,1))\n",
        "img_array = np.array([img_1_data,img_2_data])\n",
        "\n",
        "#Performing Predictions\n",
        "predictions = gamornet_predict_keras(img_array, model_load_path='SDSS_tl', input_shape='SDSS', batch_size=64)"
      ],
      "execution_count": null,
      "outputs": []
    },
    {
      "cell_type": "markdown",
      "metadata": {
        "id": "-aziPKLKAZbg"
      },
      "source": [
        "The `model_load_path = 'SDSS_tl'` is a special parameter value which automatically downloads and uses the final SDSS model of the paper. The `input_shape` parameter specifies the shape of the input images. Setting this to `SDSS` automatically sets the value to `(167,167,1)`\n",
        "\n",
        " For an explanation of each of the arguments of `gamornet_predict_keras`, please have a look at the [API Documentation](https://gamornet.readthedocs.io/en/latest/api_docs.html)"
      ]
    },
    {
      "cell_type": "markdown",
      "metadata": {
        "id": "g5K0BzzebMJc"
      },
      "source": [
        "## Understanding the Predictions"
      ]
    },
    {
      "cell_type": "code",
      "metadata": {
        "id": "iuy1v3-BMmE2"
      },
      "source": [
        "predictions.shape"
      ],
      "execution_count": null,
      "outputs": []
    },
    {
      "cell_type": "markdown",
      "metadata": {
        "id": "v3dNJPCwB0MT"
      },
      "source": [
        "As the above code-block shows, the returned predictions array is of the shape (#nimages, 3) where for each image we have one single-dimensional array with 3 elements where\n",
        "\n",
        "* Element 0 is the probability for the image to be disk-dominated\n",
        "* Element 1 is the probability for the image to be indeterminate\n",
        "* Element 2 is the probability for the image to be bulge-dominated"
      ]
    },
    {
      "cell_type": "code",
      "metadata": {
        "id": "2DvKTr8VCHZy"
      },
      "source": [
        "#1st image predictions \n",
        "print(predictions[0])\n",
        "\n",
        "#2nd image predictions\n",
        "print(predictions[1])"
      ],
      "execution_count": null,
      "outputs": []
    },
    {
      "cell_type": "markdown",
      "metadata": {
        "id": "REJ1frlGCY-m"
      },
      "source": [
        "As can be seen from the above arrays, GaMorNet predicts with 99.6% confidence that the first image is a disk-dominated galaxy and with 99.37% confidence that the second image is a bulge-dominated galaxy. \n",
        "\n",
        "These are indeed correct predictions as can be verified by investigating the light profiles of the galaxies in detail. \n",
        "\n",
        "*Tip: The number in the name of each image file refers to their SDSS Object ID*"
      ]
    },
    {
      "cell_type": "markdown",
      "metadata": {
        "id": "up5v5JebEe78"
      },
      "source": [
        "# Performing Predictions with TFLearn\n",
        "\n",
        "Now, we will be using the models trained on SDSS simulations and real data from the paper in order to perform predictions on the two above images. "
      ]
    },
    {
      "cell_type": "code",
      "metadata": {
        "id": "u3w-kuYkEe7-"
      },
      "source": [
        "from gamornet.tflearn_module import gamornet_predict_tflearn\n",
        "import numpy as np\n",
        "\n",
        "#Adding an explicit third axis to the image data (as this is needed for\n",
        "#the GaMorNet function to work properly). Just to be clear the images\n",
        "#were already 167*167, so we are not resizing the X,Y dimensions in any\n",
        "#way\n",
        "img_1_data = np.reshape(img_1_data,newshape=(167,167,1))\n",
        "img_2_data = np.reshape(img_2_data,newshape=(167,167,1))\n",
        "img_array = np.array([img_1_data,img_2_data])\n",
        "\n",
        "#Performing Predictions\n",
        "predictions = gamornet_predict_tflearn(img_array, model_load_path='SDSS_tl', input_shape='SDSS', \n",
        "                                       batch_size=64,clear_session=True)"
      ],
      "execution_count": null,
      "outputs": []
    },
    {
      "cell_type": "markdown",
      "metadata": {
        "id": "DpHdE4pxEe8C"
      },
      "source": [
        "The `model_load_path = 'SDSS_tl'` is a special parameter value which automatically downloads and uses the final SDSS model of the paper. The `input_shape` parameter specifies the shape of the input images. Setting this to `SDSS` automatically sets the value to `(167,167,1)`. The `clear_session = True` parameter value instructs GaMorNet to clear the TensorFlow graphs created earlier. We highly recommend setting `clear_session` to `True` in notebooks while using the `tflearn_module` as otherwise it might fail. \n",
        "\n",
        "\n",
        "For an explanation of each of the arguments of `gamornet_predict_tflearn`, please have a look at the [API Documentation](https://gamornet.readthedocs.io/en/latest/api_docs.html)"
      ]
    },
    {
      "cell_type": "markdown",
      "metadata": {
        "id": "C_F58TEaEe8D"
      },
      "source": [
        "## Understanding the Predictions"
      ]
    },
    {
      "cell_type": "code",
      "metadata": {
        "id": "TRmGUVW8Ee8D"
      },
      "source": [
        "predictions.shape"
      ],
      "execution_count": null,
      "outputs": []
    },
    {
      "cell_type": "markdown",
      "metadata": {
        "id": "_9VaBO0NEe8H"
      },
      "source": [
        "As the above code-block shows the returned predictions array is of the shape (#nimages, 3) where for each image we have one single-dimensional array with 3 elements where\n",
        "\n",
        "* Element 0 is the probability for the image to be disk-dominated\n",
        "* Element 1 is the probability for the image to be indeterminate\n",
        "* Element 2 is the probability for the image to be bulge-dominated"
      ]
    },
    {
      "cell_type": "code",
      "metadata": {
        "id": "DYpreC8gEe8I"
      },
      "source": [
        "#1st image predictions \n",
        "print(predictions[0])\n",
        "\n",
        "#2nd image predictions\n",
        "print(predictions[1])"
      ],
      "execution_count": null,
      "outputs": []
    },
    {
      "cell_type": "markdown",
      "metadata": {
        "id": "G-mCd5AtEe8L"
      },
      "source": [
        "As can be seen from the above arrays, GaMorNet predicts with 99.9% confidence that the first image is a disk-dominated galaxy and with 99.24% confidence that the second image is a bulge-dominated galaxy. \n",
        "\n",
        "These are indeed correct predictions as can be verified by investigating the light profiles of the galaxies in detail. \n",
        "\n",
        "*Tip: The number in the name of each image file refers to their SDSS Object ID*"
      ]
    },
    {
      "cell_type": "markdown",
      "metadata": {
        "id": "6Trd52HQV7xU"
      },
      "source": [
        "# Summary & Takeaways\n",
        "\n",
        "* `gamornet_predict_keras` and `gamornet_predict_tflearn` are the two functions that can be used to perform predictions.\n",
        "\n",
        "* As could be seen above, the Keras and the TFLearn models gave the same class predictions, but slightly different probabilities. For understanding the differences between these two models, see the [PDR Handbook](https://gamornet.readthedocs.io/en/latest/usage_guide.html). \n",
        "\n",
        "* The [PDR Handbook](https://gamornet.readthedocs.io/en/latest/usage_guide.html) also contains advice on which models to use to perform predictions on different kinds of images."
      ]
    }
  ]
}