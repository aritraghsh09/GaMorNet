{
  "nbformat": 4,
  "nbformat_minor": 0,
  "metadata": {
    "kernelspec": {
      "display_name": "Python 3",
      "language": "python",
      "name": "python3"
    },
    "language_info": {
      "codemirror_mode": {
        "name": "ipython",
        "version": 3
      },
      "file_extension": ".py",
      "mimetype": "text/x-python",
      "name": "python",
      "nbconvert_exporter": "python",
      "pygments_lexer": "ipython3",
      "version": "3.6.9"
    },
    "colab": {
      "name": "gamornet_basics_tutorial.ipynb",
      "provenance": [],
      "toc_visible": true,
      "include_colab_link": true
    },
    "accelerator": "GPU"
  },
  "cells": [
    {
      "cell_type": "markdown",
      "metadata": {
        "id": "view-in-github",
        "colab_type": "text"
      },
      "source": [
        "<a href=\"https://colab.research.google.com/github/aritraghsh09/GaMorNet/blob/master/tutorials/gamornet_train_tutorial.ipynb\" target=\"_parent\"><img src=\"https://colab.research.google.com/assets/colab-badge.svg\" alt=\"Open In Colab\"/></a>"
      ]
    },
    {
      "cell_type": "markdown",
      "metadata": {
        "id": "pNq4HgykhnJK",
        "colab_type": "text"
      },
      "source": [
        "# Google Colab Stuff\n",
        "\n",
        "Although this tutorial can be run on any machine which has GaMorNet installed, it's pretty handy to run this on Google Colab as you can easily use Colab's GPUs for this tutorial.\n",
        "\n",
        "Note that with the free version of Colab, you will only have access to a limited amount of memory available. Thus, the number of images we use here for training/testing very small just for the purpose of demonstration. In reality, GaMorNet can hands hundreds of thousands of images. \n",
        "\n",
        "This first section is meant to be run only when following this tutorial in Google Colab\n"
      ]
    },
    {
      "cell_type": "markdown",
      "metadata": {
        "id": "g2wSGVu4ihqa",
        "colab_type": "text"
      },
      "source": [
        "### Make things Fast!"
      ]
    },
    {
      "cell_type": "markdown",
      "metadata": {
        "id": "zWvqtYGaijke",
        "colab_type": "text"
      },
      "source": [
        "Before we dive in, let's make sure we're using a GPU for this tutorial.  \n",
        "\n",
        "To do this, select \"Runtime\" -> \"Change runtime type\" -> \"Hardware accelerator\" -> \"GPU\".\n",
        "\n",
        "The following snippet will verify that we have access to a GPU."
      ]
    },
    {
      "cell_type": "code",
      "metadata": {
        "id": "WbBNuljhhnyf",
        "colab_type": "code",
        "outputId": "46ebc44c-0951-43fc-e596-810f626e6085",
        "colab": {
          "base_uri": "https://localhost:8080/",
          "height": 51
        }
      },
      "source": [
        "import os\n",
        "# Suppressing TF warnings and info for a cleaner environ\n",
        "# Set this to 0,1 for info and warnings respectively.\n",
        "os.environ['TF_CPP_MIN_LOG_LEVEL'] = '2' \n",
        " \n",
        "# Magic telling Colab we want TF version ~=1.0\n",
        "%tensorflow_version 1.x\n",
        "\n",
        "#Checking access to GPU\n",
        "import tensorflow as tf\n",
        "if tf.test.gpu_device_name() != '/device:GPU:0':\n",
        "  print('WARNING: GPU device not found.')\n",
        "else:\n",
        "  print('SUCCESS: Found GPU: {}'.format(tf.test.gpu_device_name()))"
      ],
      "execution_count": 1,
      "outputs": [
        {
          "output_type": "stream",
          "text": [
            "TensorFlow 1.x selected.\n",
            "SUCCESS: Found GPU: /device:GPU:0\n"
          ],
          "name": "stdout"
        }
      ]
    },
    {
      "cell_type": "markdown",
      "metadata": {
        "id": "en4lZVmont-b",
        "colab_type": "text"
      },
      "source": [
        "### Install GaMorNet"
      ]
    },
    {
      "cell_type": "code",
      "metadata": {
        "id": "Ywr-x3csgQ5f",
        "colab_type": "code",
        "colab": {
          "base_uri": "https://localhost:8080/",
          "height": 105
        },
        "outputId": "681b53ad-3aaf-4bab-b251-1122c89afc9d"
      },
      "source": [
        "!pip install -q --upgrade gamornet"
      ],
      "execution_count": 2,
      "outputs": [
        {
          "output_type": "stream",
          "text": [
            "\u001b[K     |████████████████████████████████| 411.0MB 40kB/s \n",
            "\u001b[33mWARNING: Retrying (Retry(total=4, connect=None, read=None, redirect=None, status=None)) after connection broken by 'ProtocolError('Connection aborted.', ConnectionResetError(104, 'Connection reset by peer'))': /simple/gast/\u001b[0m\n",
            "\u001b[?25h  Building wheel for wget (setup.py) ... \u001b[?25l\u001b[?25hdone\n",
            "  Building wheel for gast (setup.py) ... \u001b[?25l\u001b[?25hdone\n"
          ],
          "name": "stdout"
        }
      ]
    },
    {
      "cell_type": "code",
      "metadata": {
        "id": "AYsnfr7tj3D-",
        "colab_type": "code",
        "outputId": "608fdb94-b13c-4e26-d4c2-e6576274be50",
        "colab": {
          "base_uri": "https://localhost:8080/",
          "height": 275
        }
      },
      "source": [
        "##Checking which version of Tensorflow is being used and whether the installation worked.\n",
        "import tensorflow as tf\n",
        "print(tf.__version__)\n",
        "from gamornet.keras_module import gamornet_train_keras, gamornet_tl_keras, gamornet_predict_keras\n",
        "from gamornet.tflearn_module import gamornet_train_tflearn, gamornet_tl_tflearn, gamornet_predict_tflearn"
      ],
      "execution_count": 3,
      "outputs": [
        {
          "output_type": "stream",
          "text": [
            "1.15.2\n"
          ],
          "name": "stdout"
        },
        {
          "output_type": "stream",
          "text": [
            "Using TensorFlow backend.\n"
          ],
          "name": "stderr"
        },
        {
          "output_type": "stream",
          "text": [
            "WARNING:tensorflow:From /tensorflow-1.15.2/python3.6/tflearn/helpers/summarizer.py:9: The name tf.summary.merge is deprecated. Please use tf.compat.v1.summary.merge instead.\n",
            "\n",
            "WARNING:tensorflow:From /tensorflow-1.15.2/python3.6/tflearn/helpers/trainer.py:25: The name tf.summary.FileWriter is deprecated. Please use tf.compat.v1.summary.FileWriter instead.\n",
            "\n",
            "WARNING:tensorflow:From /tensorflow-1.15.2/python3.6/tflearn/collections.py:13: The name tf.GraphKeys is deprecated. Please use tf.compat.v1.GraphKeys instead.\n",
            "\n",
            "WARNING:tensorflow:From /tensorflow-1.15.2/python3.6/tflearn/config.py:123: The name tf.get_collection is deprecated. Please use tf.compat.v1.get_collection instead.\n",
            "\n",
            "WARNING:tensorflow:From /tensorflow-1.15.2/python3.6/tflearn/config.py:129: The name tf.add_to_collection is deprecated. Please use tf.compat.v1.add_to_collection instead.\n",
            "\n",
            "WARNING:tensorflow:From /tensorflow-1.15.2/python3.6/tflearn/config.py:131: The name tf.assign is deprecated. Please use tf.compat.v1.assign instead.\n",
            "\n"
          ],
          "name": "stdout"
        }
      ]
    },
    {
      "cell_type": "markdown",
      "metadata": {
        "id": "isCigPq4TiWi",
        "colab_type": "text"
      },
      "source": [
        "# Reference\n",
        "\n",
        "All mentions of \"the paper\" in this tutorial, refer to [Ghosh et. al. (2020)](https://iopscience.iop.org/article/10.3847/1538-4357/ab8a47)"
      ]
    },
    {
      "cell_type": "markdown",
      "metadata": {
        "id": "WUDD3Qke7Ws_",
        "colab_type": "text"
      },
      "source": [
        "# Installing Libraries Needed for this Tutorial"
      ]
    },
    {
      "cell_type": "code",
      "metadata": {
        "id": "lBSCZfMM7WJV",
        "colab_type": "code",
        "outputId": "e1f6599c-acaa-48d5-d396-342040cc29eb",
        "colab": {
          "base_uri": "https://localhost:8080/",
          "height": 207
        }
      },
      "source": [
        "!pip install matplotlib\n",
        "!pip install astropy\n",
        "!pip install numpy"
      ],
      "execution_count": 4,
      "outputs": [
        {
          "output_type": "stream",
          "text": [
            "Requirement already satisfied: matplotlib in /usr/local/lib/python3.6/dist-packages (3.2.1)\n",
            "Requirement already satisfied: numpy>=1.11 in /usr/local/lib/python3.6/dist-packages (from matplotlib) (1.18.5)\n",
            "Requirement already satisfied: pyparsing!=2.0.4,!=2.1.2,!=2.1.6,>=2.0.1 in /usr/local/lib/python3.6/dist-packages (from matplotlib) (2.4.7)\n",
            "Requirement already satisfied: python-dateutil>=2.1 in /usr/local/lib/python3.6/dist-packages (from matplotlib) (2.8.1)\n",
            "Requirement already satisfied: kiwisolver>=1.0.1 in /usr/local/lib/python3.6/dist-packages (from matplotlib) (1.2.0)\n",
            "Requirement already satisfied: cycler>=0.10 in /usr/local/lib/python3.6/dist-packages (from matplotlib) (0.10.0)\n",
            "Requirement already satisfied: six>=1.5 in /usr/local/lib/python3.6/dist-packages (from python-dateutil>=2.1->matplotlib) (1.12.0)\n",
            "Requirement already satisfied: astropy in /usr/local/lib/python3.6/dist-packages (4.0.1.post1)\n",
            "Requirement already satisfied: numpy>=1.16 in /usr/local/lib/python3.6/dist-packages (from astropy) (1.18.5)\n",
            "Requirement already satisfied: numpy in /usr/local/lib/python3.6/dist-packages (1.18.5)\n"
          ],
          "name": "stdout"
        }
      ]
    },
    {
      "cell_type": "markdown",
      "metadata": {
        "id": "NZdvFR_IgTmn",
        "colab_type": "text"
      },
      "source": [
        "# Training with GaMorNet"
      ]
    },
    {
      "cell_type": "markdown",
      "metadata": {
        "id": "Q0MNIlNUSZJ8",
        "colab_type": "text"
      },
      "source": [
        "GaMorNet can quite easily be trained from scratch using images. \n",
        "\n",
        "In this demonstration, we will use 90 simulated SDSS images for the purposes of training and 10 simulated SDSS images for validation. All these simulated images come from the set of simulated galaxies created for the paper. \n",
        "\n",
        "All these images contain disk + bulge components. As described in the paper, we have also convolved these simulations with a representative PSF and added representative noise. "
      ]
    },
    {
      "cell_type": "markdown",
      "metadata": {
        "id": "KwzpM9YMUPqn",
        "colab_type": "text"
      },
      "source": [
        "# Downloading the Data\n",
        "\n",
        "First, let's download the images that we are going to use to train GaMorNet. We will download these into the local filesystem from Yale Astronomy's FTP service, where these are hosted.\n",
        "\n",
        "We are going to download all the 100 images (90+10) as a single archive and then export it to a single folder called `training_imgs`. The iamges are in the FITS format and are named `output_img_xx.fits` where xx runs from 0 to 99.\n",
        "\n",
        "We are also going to download the `sim_para.txt` file containing the ground-truth parameters for the above galaxies. Using these values, we are going to calculate the bulge-to-total light ratio of each galaxy and determine the labels to be used during the training process. \n",
        "\n",
        "\n",
        "*Tip: The `%%bash` command lets Colab know that all the commands in this shell needs to be passed the local unix virtual environment.*\n",
        "\n",
        "*Tip: To view the files in use on Colab, click the folder icon on the left sidebar.*"
      ]
    },
    {
      "cell_type": "code",
      "metadata": {
        "id": "6TThUIR8Y4lc",
        "colab_type": "code",
        "outputId": "dbe8b5a9-a0f4-4493-e69c-d32a5f88c795",
        "colab": {
          "base_uri": "https://localhost:8080/",
          "height": 1000
        }
      },
      "source": [
        "%%bash\n",
        "#get zip and txt file from server\n",
        "wget ftp://ftp.astro.yale.edu/pub/aghosh/gamornet_tutorial_files/train_images/training_imgs.tar.gz\n",
        "wget ftp://ftp.astro.yale.edu/pub/aghosh/gamornet_tutorial_files/train_images/sim_para.txt\n",
        "\n",
        "#Unzip the Archive\n",
        "tar -xvf training_imgs.tar.gz"
      ],
      "execution_count": 5,
      "outputs": [
        {
          "output_type": "stream",
          "text": [
            "./train_images/output_img_0.fits\n",
            "./train_images/output_img_10.fits\n",
            "./train_images/output_img_11.fits\n",
            "./train_images/output_img_12.fits\n",
            "./train_images/output_img_13.fits\n",
            "./train_images/output_img_14.fits\n",
            "./train_images/output_img_15.fits\n",
            "./train_images/output_img_16.fits\n",
            "./train_images/output_img_17.fits\n",
            "./train_images/output_img_18.fits\n",
            "./train_images/output_img_19.fits\n",
            "./train_images/output_img_1.fits\n",
            "./train_images/output_img_20.fits\n",
            "./train_images/output_img_21.fits\n",
            "./train_images/output_img_22.fits\n",
            "./train_images/output_img_23.fits\n",
            "./train_images/output_img_24.fits\n",
            "./train_images/output_img_25.fits\n",
            "./train_images/output_img_26.fits\n",
            "./train_images/output_img_27.fits\n",
            "./train_images/output_img_28.fits\n",
            "./train_images/output_img_29.fits\n",
            "./train_images/output_img_2.fits\n",
            "./train_images/output_img_30.fits\n",
            "./train_images/output_img_31.fits\n",
            "./train_images/output_img_32.fits\n",
            "./train_images/output_img_33.fits\n",
            "./train_images/output_img_34.fits\n",
            "./train_images/output_img_35.fits\n",
            "./train_images/output_img_36.fits\n",
            "./train_images/output_img_37.fits\n",
            "./train_images/output_img_38.fits\n",
            "./train_images/output_img_39.fits\n",
            "./train_images/output_img_3.fits\n",
            "./train_images/output_img_40.fits\n",
            "./train_images/output_img_41.fits\n",
            "./train_images/output_img_42.fits\n",
            "./train_images/output_img_43.fits\n",
            "./train_images/output_img_44.fits\n",
            "./train_images/output_img_45.fits\n",
            "./train_images/output_img_46.fits\n",
            "./train_images/output_img_47.fits\n",
            "./train_images/output_img_48.fits\n",
            "./train_images/output_img_49.fits\n",
            "./train_images/output_img_4.fits\n",
            "./train_images/output_img_50.fits\n",
            "./train_images/output_img_51.fits\n",
            "./train_images/output_img_52.fits\n",
            "./train_images/output_img_53.fits\n",
            "./train_images/output_img_54.fits\n",
            "./train_images/output_img_55.fits\n",
            "./train_images/output_img_56.fits\n",
            "./train_images/output_img_57.fits\n",
            "./train_images/output_img_58.fits\n",
            "./train_images/output_img_59.fits\n",
            "./train_images/output_img_5.fits\n",
            "./train_images/output_img_60.fits\n",
            "./train_images/output_img_61.fits\n",
            "./train_images/output_img_62.fits\n",
            "./train_images/output_img_63.fits\n",
            "./train_images/output_img_64.fits\n",
            "./train_images/output_img_65.fits\n",
            "./train_images/output_img_66.fits\n",
            "./train_images/output_img_67.fits\n",
            "./train_images/output_img_68.fits\n",
            "./train_images/output_img_69.fits\n",
            "./train_images/output_img_6.fits\n",
            "./train_images/output_img_70.fits\n",
            "./train_images/output_img_71.fits\n",
            "./train_images/output_img_72.fits\n",
            "./train_images/output_img_73.fits\n",
            "./train_images/output_img_74.fits\n",
            "./train_images/output_img_75.fits\n",
            "./train_images/output_img_76.fits\n",
            "./train_images/output_img_77.fits\n",
            "./train_images/output_img_78.fits\n",
            "./train_images/output_img_79.fits\n",
            "./train_images/output_img_7.fits\n",
            "./train_images/output_img_80.fits\n",
            "./train_images/output_img_81.fits\n",
            "./train_images/output_img_82.fits\n",
            "./train_images/output_img_83.fits\n",
            "./train_images/output_img_84.fits\n",
            "./train_images/output_img_85.fits\n",
            "./train_images/output_img_86.fits\n",
            "./train_images/output_img_87.fits\n",
            "./train_images/output_img_88.fits\n",
            "./train_images/output_img_89.fits\n",
            "./train_images/output_img_8.fits\n",
            "./train_images/output_img_90.fits\n",
            "./train_images/output_img_91.fits\n",
            "./train_images/output_img_92.fits\n",
            "./train_images/output_img_93.fits\n",
            "./train_images/output_img_94.fits\n",
            "./train_images/output_img_95.fits\n",
            "./train_images/output_img_96.fits\n",
            "./train_images/output_img_97.fits\n",
            "./train_images/output_img_98.fits\n",
            "./train_images/output_img_99.fits\n",
            "./train_images/output_img_9.fits\n"
          ],
          "name": "stdout"
        },
        {
          "output_type": "stream",
          "text": [
            "--2020-06-12 03:57:22--  ftp://ftp.astro.yale.edu/pub/aghosh/gamornet_tutorial_files/train_images/training_imgs.tar.gz\n",
            "           => ‘training_imgs.tar.gz’\n",
            "Resolving ftp.astro.yale.edu (ftp.astro.yale.edu)... 128.36.139.12\n",
            "Connecting to ftp.astro.yale.edu (ftp.astro.yale.edu)|128.36.139.12|:21... connected.\n",
            "Logging in as anonymous ... Logged in!\n",
            "==> SYST ... done.    ==> PWD ... done.\n",
            "==> TYPE I ... done.  ==> CWD (1) /pub/aghosh/gamornet_tutorial_files/train_images ... done.\n",
            "==> SIZE training_imgs.tar.gz ... 13849775\n",
            "==> PASV ... done.    ==> RETR training_imgs.tar.gz ... done.\n",
            "Length: 13849775 (13M) (unauthoritative)\n",
            "\n",
            "     0K .......... .......... .......... .......... ..........  0%  103K 2m11s\n",
            "    50K .......... .......... .......... .......... ..........  0%  221K 95s\n",
            "   100K .......... .......... .......... .......... ..........  1%  213K 84s\n",
            "   150K .......... .......... .......... .......... ..........  1%  197M 63s\n",
            "   200K .......... .......... .......... .......... ..........  1%  323M 50s\n",
            "   250K .......... .......... .......... .......... ..........  2%  220K 52s\n",
            "   300K .......... .......... .......... .......... ..........  2%  202M 44s\n",
            "   350K .......... .......... .......... .......... ..........  2%  281M 38s\n",
            "   400K .......... .......... .......... .......... ..........  3%  324M 34s\n",
            "   450K .......... .......... .......... .......... ..........  3%  246M 31s\n",
            "   500K .......... .......... .......... .......... ..........  4%  290M 28s\n",
            "   550K .......... .......... .......... .......... ..........  4%  228K 30s\n",
            "   600K .......... .......... .......... .......... ..........  4% 38.1M 28s\n",
            "   650K .......... .......... .......... .......... ..........  5% 41.9M 26s\n",
            "   700K .......... .......... .......... .......... ..........  5% 54.2M 24s\n",
            "   750K .......... .......... .......... .......... ..........  5% 52.6M 22s\n",
            "   800K .......... .......... .......... .......... ..........  6% 54.4M 21s\n",
            "   850K .......... .......... .......... .......... ..........  6% 54.9M 20s\n",
            "   900K .......... .......... .......... .......... ..........  7% 59.1M 19s\n",
            "   950K .......... .......... .......... .......... ..........  7% 53.4M 18s\n",
            "  1000K .......... .......... .......... .......... ..........  7% 53.4M 17s\n",
            "  1050K .......... .......... .......... .......... ..........  8% 54.7M 16s\n",
            "  1100K .......... .......... .......... .......... ..........  8%  237K 17s\n",
            "  1150K .......... .......... .......... .......... ..........  8% 42.2M 17s\n",
            "  1200K .......... .......... .......... .......... ..........  9% 49.7M 16s\n",
            "  1250K .......... .......... .......... .......... ..........  9% 55.0M 15s\n",
            "  1300K .......... .......... .......... .......... ..........  9% 66.3M 15s\n",
            "  1350K .......... .......... .......... .......... .......... 10% 65.6M 14s\n",
            "  1400K .......... .......... .......... .......... .......... 10% 75.7M 13s\n",
            "  1450K .......... .......... .......... .......... .......... 11% 66.6M 13s\n",
            "  1500K .......... .......... .......... .......... .......... 11% 78.9M 13s\n",
            "  1550K .......... .......... .......... .......... .......... 11% 76.1M 12s\n",
            "  1600K .......... .......... .......... .......... .......... 12% 85.3M 12s\n",
            "  1650K .......... .......... .......... .......... .......... 12% 71.1M 11s\n",
            "  1700K .......... .......... .......... .......... .......... 12% 83.5M 11s\n",
            "  1750K .......... .......... .......... .......... .......... 13% 74.0M 11s\n",
            "  1800K .......... .......... .......... .......... .......... 13%  100M 10s\n",
            "  1850K .......... .......... .......... .......... .......... 14% 92.2M 10s\n",
            "  1900K .......... .......... .......... .......... .......... 14% 84.0M 10s\n",
            "  1950K .......... .......... .......... .......... .......... 14% 75.7M 9s\n",
            "  2000K .......... .......... .......... .......... .......... 15%  106M 9s\n",
            "  2050K .......... .......... .......... .......... .......... 15%  104M 9s\n",
            "  2100K .......... .......... .......... .......... .......... 15% 88.3M 9s\n",
            "  2150K .......... .......... .......... .......... .......... 16% 91.0M 8s\n",
            "  2200K .......... .......... .......... .......... .......... 16%  113M 8s\n",
            "  2250K .......... .......... .......... .......... .......... 17%  243K 9s\n",
            "  2300K .......... .......... .......... .......... .......... 17%  102M 9s\n",
            "  2350K .......... .......... .......... .......... .......... 17% 71.2M 9s\n",
            "  2400K .......... .......... .......... .......... .......... 18% 66.2M 8s\n",
            "  2450K .......... .......... .......... .......... .......... 18% 98.8M 8s\n",
            "  2500K .......... .......... .......... .......... .......... 18% 99.7M 8s\n",
            "  2550K .......... .......... .......... .......... .......... 19%  112M 8s\n",
            "  2600K .......... .......... .......... .......... .......... 19%  111M 8s\n",
            "  2650K .......... .......... .......... .......... .......... 19%  110M 7s\n",
            "  2700K .......... .......... .......... .......... .......... 20%  114M 7s\n",
            "  2750K .......... .......... .......... .......... .......... 20%  102M 7s\n",
            "  2800K .......... .......... .......... .......... .......... 21%  129M 7s\n",
            "  2850K .......... .......... .......... .......... .......... 21%  105M 7s\n",
            "  2900K .......... .......... .......... .......... .......... 21%  116M 7s\n",
            "  2950K .......... .......... .......... .......... .......... 22%  117M 6s\n",
            "  3000K .......... .......... .......... .......... .......... 22%  116M 6s\n",
            "  3050K .......... .......... .......... .......... .......... 22%  101M 6s\n",
            "  3100K .......... .......... .......... .......... .......... 23%  132M 6s\n",
            "  3150K .......... .......... .......... .......... .......... 23%  102M 6s\n",
            "  3200K .......... .......... .......... .......... .......... 24%  104M 6s\n",
            "  3250K .......... .......... .......... .......... .......... 24%  127M 6s\n",
            "  3300K .......... .......... .......... .......... .......... 24% 98.9M 6s\n",
            "  3350K .......... .......... .......... .......... .......... 25%  104M 5s\n",
            "  3400K .......... .......... .......... .......... .......... 25%  128M 5s\n",
            "  3450K .......... .......... .......... .......... .......... 25%  109M 5s\n",
            "  3500K .......... .......... .......... .......... .......... 26%  134M 5s\n",
            "  3550K .......... .......... .......... .......... .......... 26%  100M 5s\n",
            "  3600K .......... .......... .......... .......... .......... 26%  117M 5s\n",
            "  3650K .......... .......... .......... .......... .......... 27%  101M 5s\n",
            "  3700K .......... .......... .......... .......... .......... 27%  127M 5s\n",
            "  3750K .......... .......... .......... .......... .......... 28%  101M 5s\n",
            "  3800K .......... .......... .......... .......... .......... 28%  133M 5s\n",
            "  3850K .......... .......... .......... .......... .......... 28%  102M 5s\n",
            "  3900K .......... .......... .......... .......... .......... 29%  121M 4s\n",
            "  3950K .......... .......... .......... .......... .......... 29%  109M 4s\n",
            "  4000K .......... .......... .......... .......... .......... 29%  112M 4s\n",
            "  4050K .......... .......... .......... .......... .......... 30% 83.5M 4s\n",
            "  4100K .......... .......... .......... .......... .......... 30%  153M 4s\n",
            "  4150K .......... .......... .......... .......... .......... 31%  128M 4s\n",
            "  4200K .......... .......... .......... .......... .......... 31%  106M 4s\n",
            "  4250K .......... .......... .......... .......... .......... 31%  119M 4s\n",
            "  4300K .......... .......... .......... .......... .......... 32%  113M 4s\n",
            "  4350K .......... .......... .......... .......... .......... 32%  100M 4s\n",
            "  4400K .......... .......... .......... .......... .......... 32%  126M 4s\n",
            "  4450K .......... .......... .......... .......... .......... 33% 93.2M 4s\n",
            "  4500K .......... .......... .......... .......... .......... 33%  249K 4s\n",
            "  4550K .......... .......... .......... .......... .......... 34%  216M 4s\n",
            "  4600K .......... .......... .......... .......... .......... 34% 26.4M 4s\n",
            "  4650K .......... .......... .......... .......... .......... 34%  173M 4s\n",
            "  4700K .......... .......... .......... .......... .......... 35%  239M 4s\n",
            "  4750K .......... .......... .......... .......... .......... 35%  192M 4s\n",
            "  4800K .......... .......... .......... .......... .......... 35%  249M 4s\n",
            "  4850K .......... .......... .......... .......... .......... 36%  203M 4s\n",
            "  4900K .......... .......... .......... .......... .......... 36%  290M 4s\n",
            "  4950K .......... .......... .......... .......... .......... 36%  132M 4s\n",
            "  5000K .......... .......... .......... .......... .......... 37% 79.0M 3s\n",
            "  5050K .......... .......... .......... .......... .......... 37% 51.1M 3s\n",
            "  5100K .......... .......... .......... .......... .......... 38% 55.9M 3s\n",
            "  5150K .......... .......... .......... .......... .......... 38%  206M 3s\n",
            "  5200K .......... .......... .......... .......... .......... 38%  203M 3s\n",
            "  5250K .......... .......... .......... .......... .......... 39%  170M 3s\n",
            "  5300K .......... .......... .......... .......... .......... 39%  242M 3s\n",
            "  5350K .......... .......... .......... .......... .......... 39%  291M 3s\n",
            "  5400K .......... .......... .......... .......... .......... 40%  108M 3s\n",
            "  5450K .......... .......... .......... .......... .......... 40% 54.4M 3s\n",
            "  5500K .......... .......... .......... .......... .......... 41% 44.8M 3s\n",
            "  5550K .......... .......... .......... .......... .......... 41% 86.8M 3s\n",
            "  5600K .......... .......... .......... .......... .......... 41%  186M 3s\n",
            "  5650K .......... .......... .......... .......... .......... 42%  189M 3s\n",
            "  5700K .......... .......... .......... .......... .......... 42%  239M 3s\n",
            "  5750K .......... .......... .......... .......... .......... 42%  185M 3s\n",
            "  5800K .......... .......... .......... .......... .......... 43%  184M 3s\n",
            "  5850K .......... .......... .......... .......... .......... 43%  204M 3s\n",
            "  5900K .......... .......... .......... .......... .......... 43%  226M 3s\n",
            "  5950K .......... .......... .......... .......... .......... 44%  115M 3s\n",
            "  6000K .......... .......... .......... .......... .......... 44%  112M 3s\n",
            "  6050K .......... .......... .......... .......... .......... 45%  116M 3s\n",
            "  6100K .......... .......... .......... .......... .......... 45%  119M 2s\n",
            "  6150K .......... .......... .......... .......... .......... 45%  112M 2s\n",
            "  6200K .......... .......... .......... .......... .......... 46%  106M 2s\n",
            "  6250K .......... .......... .......... .......... .......... 46%  129M 2s\n",
            "  6300K .......... .......... .......... .......... .......... 46%  109M 2s\n",
            "  6350K .......... .......... .......... .......... .......... 47%  109M 2s\n",
            "  6400K .......... .......... .......... .......... .......... 47%  117M 2s\n",
            "  6450K .......... .......... .......... .......... .......... 48%  108M 2s\n",
            "  6500K .......... .......... .......... .......... .......... 48%  117M 2s\n",
            "  6550K .......... .......... .......... .......... .......... 48%  116M 2s\n",
            "  6600K .......... .......... .......... .......... .......... 49% 98.4M 2s\n",
            "  6650K .......... .......... .......... .......... .......... 49%  110M 2s\n",
            "  6700K .......... .......... .......... .......... .......... 49%  135M 2s\n",
            "  6750K .......... .......... .......... .......... .......... 50%  102M 2s\n",
            "  6800K .......... .......... .......... .......... .......... 50%  118M 2s\n",
            "  6850K .......... .......... .......... .......... .......... 51%  106M 2s\n",
            "  6900K .......... .......... .......... .......... .......... 51%  103M 2s\n",
            "  6950K .......... .......... .......... .......... .......... 51%  132M 2s\n",
            "  7000K .......... .......... .......... .......... .......... 52%  111M 2s\n",
            "  7050K .......... .......... .......... .......... .......... 52%  120M 2s\n",
            "  7100K .......... .......... .......... .......... .......... 52%  105M 2s\n",
            "  7150K .......... .......... .......... .......... .......... 53%  117M 2s\n",
            "  7200K .......... .......... .......... .......... .......... 53%  107M 2s\n",
            "  7250K .......... .......... .......... .......... .......... 53%  115M 2s\n",
            "  7300K .......... .......... .......... .......... .......... 54%  108M 2s\n",
            "  7350K .......... .......... .......... .......... .......... 54%  104M 2s\n",
            "  7400K .......... .......... .......... .......... .......... 55%  130M 2s\n",
            "  7450K .......... .......... .......... .......... .......... 55%  109M 2s\n",
            "  7500K .......... .......... .......... .......... .......... 55%  109M 2s\n",
            "  7550K .......... .......... .......... .......... .......... 56%  110M 2s\n",
            "  7600K .......... .......... .......... .......... .......... 56%  257K 2s\n",
            "  7650K .......... .......... .......... .......... .......... 56% 28.0M 2s\n",
            "  7700K .......... .......... .......... .......... .......... 57%  124M 2s\n",
            "  7750K .......... .......... .......... .......... .......... 57% 98.1M 2s\n",
            "  7800K .......... .......... .......... .......... .......... 58%  115M 2s\n",
            "  7850K .......... .......... .......... .......... .......... 58%  113M 2s\n",
            "  7900K .......... .......... .......... .......... .......... 58%  114M 2s\n",
            "  7950K .......... .......... .......... .......... .......... 59%  104M 2s\n",
            "  8000K .......... .......... .......... .......... .......... 59% 82.7M 2s\n",
            "  8050K .......... .......... .......... .......... .......... 59%  190M 2s\n",
            "  8100K .......... .......... .......... .......... .......... 60%  117M 2s\n",
            "  8150K .......... .......... .......... .......... .......... 60%  111M 1s\n",
            "  8200K .......... .......... .......... .......... .......... 60% 31.3M 1s\n",
            "  8250K .......... .......... .......... .......... .......... 61%  235M 1s\n",
            "  8300K .......... .......... .......... .......... .......... 61%  305M 1s\n",
            "  8350K .......... .......... .......... .......... .......... 62%  248M 1s\n",
            "  8400K .......... .......... .......... .......... .......... 62% 22.8M 1s\n",
            "  8450K .......... .......... .......... .......... .......... 62%  115M 1s\n",
            "  8500K .......... .......... .......... .......... .......... 63% 99.7M 1s\n",
            "  8550K .......... .......... .......... .......... .......... 63%  123M 1s\n",
            "  8600K .......... .......... .......... .......... .......... 63%  121M 1s\n",
            "  8650K .......... .......... .......... .......... .......... 64%  114M 1s\n",
            "  8700K .......... .......... .......... .......... .......... 64%  115M 1s\n",
            "  8750K .......... .......... .......... .......... .......... 65%  102M 1s\n",
            "  8800K .......... .......... .......... .......... .......... 65%  116M 1s\n",
            "  8850K .......... .......... .......... .......... .......... 65%  111M 1s\n",
            "  8900K .......... .......... .......... .......... .......... 66%  113M 1s\n",
            "  8950K .......... .......... .......... .......... .......... 66%  109M 1s\n",
            "  9000K .......... .......... .......... .......... .......... 66%  103M 1s\n",
            "  9050K .......... .......... .......... .......... .......... 67%  134M 1s\n",
            "  9100K .......... .......... .......... .......... .......... 67% 98.9M 1s\n",
            "  9150K .......... .......... .......... .......... .......... 68% 38.8M 1s\n",
            "  9200K .......... .......... .......... .......... .......... 68%  187M 1s\n",
            "  9250K .......... .......... .......... .......... .......... 68% 36.6M 1s\n",
            "  9300K .......... .......... .......... .......... .......... 69%  250M 1s\n",
            "  9350K .......... .......... .......... .......... .......... 69%  351M 1s\n",
            "  9400K .......... .......... .......... .......... .......... 69%  345M 1s\n",
            "  9450K .......... .......... .......... .......... .......... 70%  243M 1s\n",
            "  9500K .......... .......... .......... .......... .......... 70%  358M 1s\n",
            "  9550K .......... .......... .......... .......... .......... 70%  315M 1s\n",
            "  9600K .......... .......... .......... .......... .......... 71% 95.8M 1s\n",
            "  9650K .......... .......... .......... .......... .......... 71%  106M 1s\n",
            "  9700K .......... .......... .......... .......... .......... 72%  122M 1s\n",
            "  9750K .......... .......... .......... .......... .......... 72%  122M 1s\n",
            "  9800K .......... .......... .......... .......... .......... 72% 98.9M 1s\n",
            "  9850K .......... .......... .......... .......... .......... 73%  113M 1s\n",
            "  9900K .......... .......... .......... .......... .......... 73%  114M 1s\n",
            "  9950K .......... .......... .......... .......... .......... 73%  123M 1s\n",
            " 10000K .......... .......... .......... .......... .......... 74% 91.5M 1s\n",
            " 10050K .......... .......... .......... .......... .......... 74%  144M 1s\n",
            " 10100K .......... .......... .......... .......... .......... 75%  112M 1s\n",
            " 10150K .......... .......... .......... .......... .......... 75%  105M 1s\n",
            " 10200K .......... .......... .......... .......... .......... 75%  129M 1s\n",
            " 10250K .......... .......... .......... .......... .......... 76%  102M 1s\n",
            " 10300K .......... .......... .......... .......... .......... 76%  101M 1s\n",
            " 10350K .......... .......... .......... .......... .......... 76%  129M 1s\n",
            " 10400K .......... .......... .......... .......... .......... 77%  109M 1s\n",
            " 10450K .......... .......... .......... .......... .......... 77%  120M 1s\n",
            " 10500K .......... .......... .......... .......... .......... 78%  104M 1s\n",
            " 10550K .......... .......... .......... .......... .......... 78%  116M 1s\n",
            " 10600K .......... .......... .......... .......... .......... 78%  116M 1s\n",
            " 10650K .......... .......... .......... .......... .......... 79%  260K 1s\n",
            " 10700K .......... .......... .......... .......... .......... 79%  154M 1s\n",
            " 10750K .......... .......... .......... .......... .......... 79% 89.2M 1s\n",
            " 10800K .......... .......... .......... .......... .......... 80%  125M 1s\n",
            " 10850K .......... .......... .......... .......... .......... 80% 88.9M 1s\n",
            " 10900K .......... .......... .......... .......... .......... 80%  101M 1s\n",
            " 10950K .......... .......... .......... .......... .......... 81% 90.3M 1s\n",
            " 11000K .......... .......... .......... .......... .......... 81%  117M 1s\n",
            " 11050K .......... .......... .......... .......... .......... 82%  102M 1s\n",
            " 11100K .......... .......... .......... .......... .......... 82%  113M 1s\n",
            " 11150K .......... .......... .......... .......... .......... 82%  123M 1s\n",
            " 11200K .......... .......... .......... .......... .......... 83% 8.64M 1s\n",
            " 11250K .......... .......... .......... .......... .......... 83%  149M 0s\n",
            " 11300K .......... .......... .......... .......... .......... 83%  123M 0s\n",
            " 11350K .......... .......... .......... .......... .......... 84%  107M 0s\n",
            " 11400K .......... .......... .......... .......... .......... 84%  129M 0s\n",
            " 11450K .......... .......... .......... .......... .......... 85%  117M 0s\n",
            " 11500K .......... .......... .......... .......... .......... 85%  108M 0s\n",
            " 11550K .......... .......... .......... .......... .......... 85%  107M 0s\n",
            " 11600K .......... .......... .......... .......... .......... 86%  124M 0s\n",
            " 11650K .......... .......... .......... .......... .......... 86%  112M 0s\n",
            " 11700K .......... .......... .......... .......... .......... 86%  112M 0s\n",
            " 11750K .......... .......... .......... .......... .......... 87%  104M 0s\n",
            " 11800K .......... .......... .......... .......... .......... 87%  113M 0s\n",
            " 11850K .......... .......... .......... .......... .......... 87%  113M 0s\n",
            " 11900K .......... .......... .......... .......... .......... 88%  117M 0s\n",
            " 11950K .......... .......... .......... .......... .......... 88%  122M 0s\n",
            " 12000K .......... .......... .......... .......... .......... 89%  110M 0s\n",
            " 12050K .......... .......... .......... .......... .......... 89% 89.6M 0s\n",
            " 12100K .......... .......... .......... .......... .......... 89%  143M 0s\n",
            " 12150K .......... .......... .......... .......... .......... 90%  109M 0s\n",
            " 12200K .......... .......... .......... .......... .......... 90%  116M 0s\n",
            " 12250K .......... .......... .......... .......... .......... 90%  110M 0s\n",
            " 12300K .......... .......... .......... .......... .......... 91%  107M 0s\n",
            " 12350K .......... .......... .......... .......... .......... 91%  126M 0s\n",
            " 12400K .......... .......... .......... .......... .......... 92% 97.5M 0s\n",
            " 12450K .......... .......... .......... .......... .......... 92%  112M 0s\n",
            " 12500K .......... .......... .......... .......... .......... 92%  128M 0s\n",
            " 12550K .......... .......... .......... .......... .......... 93%  102M 0s\n",
            " 12600K .......... .......... .......... .......... .......... 93%  116M 0s\n",
            " 12650K .......... .......... .......... .......... .......... 93% 97.1M 0s\n",
            " 12700K .......... .......... .......... .......... .......... 94%  113M 0s\n",
            " 12750K .......... .......... .......... .......... .......... 94%  103M 0s\n",
            " 12800K .......... .......... .......... .......... .......... 95%  121M 0s\n",
            " 12850K .......... .......... .......... .......... .......... 95%  120M 0s\n",
            " 12900K .......... .......... .......... .......... .......... 95% 95.7M 0s\n",
            " 12950K .......... .......... .......... .......... .......... 96% 89.6M 0s\n",
            " 13000K .......... .......... .......... .......... .......... 96%  176M 0s\n",
            " 13050K .......... .......... .......... .......... .......... 96%  111M 0s\n",
            " 13100K .......... .......... .......... .......... .......... 97%  123M 0s\n",
            " 13150K .......... .......... .......... .......... .......... 97% 47.6M 0s\n",
            " 13200K .......... .......... .......... .......... .......... 97%  224M 0s\n",
            " 13250K .......... .......... .......... .......... .......... 98%  230M 0s\n",
            " 13300K .......... .......... .......... .......... .......... 98%  136M 0s\n",
            " 13350K .......... .......... .......... .......... .......... 99%  122M 0s\n",
            " 13400K .......... .......... .......... .......... .......... 99%  115M 0s\n",
            " 13450K .......... .......... .......... .......... .......... 99%  109M 0s\n",
            " 13500K .......... .......... .....                           100%  109M=2.5s\n",
            "\n",
            "2020-06-12 03:57:28 (5.23 MB/s) - ‘training_imgs.tar.gz’ saved [13849775]\n",
            "\n",
            "--2020-06-12 03:57:28--  ftp://ftp.astro.yale.edu/pub/aghosh/gamornet_tutorial_files/train_images/sim_para.txt\n",
            "           => ‘sim_para.txt’\n",
            "Resolving ftp.astro.yale.edu (ftp.astro.yale.edu)... 128.36.139.12\n",
            "Connecting to ftp.astro.yale.edu (ftp.astro.yale.edu)|128.36.139.12|:21... connected.\n",
            "Logging in as anonymous ... Logged in!\n",
            "==> SYST ... done.    ==> PWD ... done.\n",
            "==> TYPE I ... done.  ==> CWD (1) /pub/aghosh/gamornet_tutorial_files/train_images ... done.\n",
            "==> SIZE sim_para.txt ... 11676\n",
            "==> PASV ... done.    ==> RETR sim_para.txt ... done.\n",
            "Length: 11676 (11K) (unauthoritative)\n",
            "\n",
            "     0K .......... .                                          100% 2.56M=0.004s\n",
            "\n",
            "2020-06-12 03:57:31 (2.56 MB/s) - ‘sim_para.txt’ saved [11676]\n",
            "\n"
          ],
          "name": "stderr"
        }
      ]
    },
    {
      "cell_type": "markdown",
      "metadata": {
        "id": "NAwLO4hk-C3Q",
        "colab_type": "text"
      },
      "source": [
        "# Preparing the Data\n",
        "\n",
        "In this section, we will generate the training and validation image arrays as well as the corresponding labels to be used during the training process.\n",
        "\n",
        "\n",
        "First, lets read in the `.txt` file and calculate the difference in disk and bulge magnitudes for each of the galaxies."
      ]
    },
    {
      "cell_type": "code",
      "metadata": {
        "id": "ex46Lm2c_3I8",
        "colab_type": "code",
        "colab": {}
      },
      "source": [
        "import pylab as plt\n",
        "\n",
        "#Let's read in the sim_para.txt file \n",
        "gal_para = plt.genfromtxt(\"./sim_para.txt\",names=True,usecols = (4,11))\n",
        " \n",
        "#difference b/w the integrated magnitude of the disk and bulge components. \n",
        "#The rows in the file and thus the elements in the array below correspond to\n",
        "#the numbers in the names of the image files. (i.e. the 0th element corresponds\n",
        "#to output_img_0.fits)\n",
        "disk_bulge_mag = gal_para[\"Inte_Mag\"] - gal_para[\"Inte_Mag_2\"]"
      ],
      "execution_count": 0,
      "outputs": []
    },
    {
      "cell_type": "markdown",
      "metadata": {
        "id": "4pDautJ1CWTy",
        "colab_type": "text"
      },
      "source": [
        "Next, let's define two convenience functions, which will assist us in creating the image and label arrays."
      ]
    },
    {
      "cell_type": "code",
      "metadata": {
        "id": "zWcg5PBi-RSL",
        "colab_type": "code",
        "colab": {}
      },
      "source": [
        "# Convenience Function to get and return images as numpy arrays\n",
        "\n",
        "def image_handler(i):\n",
        "  return np.reshape(fits.getdata(\"./train_images/output_img_\"+str(i)+\".fits\",\n",
        "                                 memmap=False),newshape=(167,167,1)) \n",
        "  #We use the reshape command just to add the extra 3rd dimension. The image is \n",
        "  #originally 167*167. So, in essence no re-sizing is taking place in the X or Y\n",
        "  #directions.\n",
        "\n",
        "\n",
        "# Convenience Function to get and return the training labels of each galaxy\n",
        "# in the one-hot encoding format. i.e. disk-dominated galaxies will be represented\n",
        "# by the array [1,0,0], bulge-dominated by [0,0,1] and indeterminate by [0,1,0]\n",
        "\n",
        "def label_handler(i):\n",
        "  \n",
        "  target_vect = [0]*3\n",
        "\n",
        "  if (disk_bulge_mag[i] < -0.22): #  (Lb/LT) < 0.45\n",
        "    target_vect[0] = 1  #disk-dominated       \n",
        "  \n",
        "  elif ( -0.22 <=  disk_bulge_mag[i] <= 0.22):\n",
        "      target_vect[1] = 1 #indeterminate\n",
        "  \n",
        "  else: #  (Lb/LT) > 0.55\n",
        "      target_vect[2] = 1 #bulge-dominated\n",
        "\n",
        "  return target_vect"
      ],
      "execution_count": 0,
      "outputs": []
    },
    {
      "cell_type": "markdown",
      "metadata": {
        "id": "cQesQrpK-Pz2",
        "colab_type": "text"
      },
      "source": [
        "Now, we are going to use the first 90 images to create the training set and the last 10 to create the validation set. We are multi-threading the process below -- although this is an absolute overkill for 100 images, it's very handy while dealing with large numbers of images. "
      ]
    },
    {
      "cell_type": "code",
      "metadata": {
        "id": "U_SCF8wWDiSD",
        "colab_type": "code",
        "colab": {}
      },
      "source": [
        "from multiprocessing import Pool\n",
        "import numpy as np\n",
        "from astropy.io import fits\n",
        "\n",
        "NUM_THREADS = 2\n",
        "\n",
        "pl = Pool(NUM_THREADS)\n",
        "training_imgs = np.array(pl.map(image_handler,range(0,90)))\n",
        "training_labels = np.array(pl.map(label_handler,range(0,90)))\n",
        "\n",
        "valdiation_imgs = np.array(pl.map(image_handler,range(90,100)))\n",
        "validation_labels = np.array(pl.map(label_handler,range(90,100)))"
      ],
      "execution_count": 0,
      "outputs": []
    },
    {
      "cell_type": "markdown",
      "metadata": {
        "id": "Iw-l4YKMbLdK",
        "colab_type": "text"
      },
      "source": [
        "# Training GaMorNet using Keras\n",
        "\n",
        "Now, we will be using the images and the labels generated above to train GaMorNet"
      ]
    },
    {
      "cell_type": "code",
      "metadata": {
        "id": "XBTLm74QbMnG",
        "colab_type": "code",
        "outputId": "21b8cacd-dbe5-48bd-839f-75b5224fa27b",
        "colab": {
          "base_uri": "https://localhost:8080/",
          "height": 1000
        }
      },
      "source": [
        "from gamornet.keras_module import gamornet_train_keras\n",
        "\n",
        "model = gamornet_train_keras(training_imgs,training_labels,valdiation_imgs,\n",
        "                             validation_labels,input_shape='SDSS', epochs=50, \n",
        "                             checkpoint_freq=25, batch_size=64, lr=0.0001, \n",
        "                             loss='categorical_crossentropy')"
      ],
      "execution_count": 9,
      "outputs": [
        {
          "output_type": "stream",
          "text": [
            "WARNING:tensorflow:From /tensorflow-1.15.2/python3.6/tensorflow_core/python/ops/resource_variable_ops.py:1630: calling BaseResourceVariable.__init__ (from tensorflow.python.ops.resource_variable_ops) with constraint is deprecated and will be removed in a future version.\n",
            "Instructions for updating:\n",
            "If using Keras pass *_constraint arguments to layers.\n",
            "WARNING:tensorflow:From /usr/local/lib/python3.6/dist-packages/keras/backend/tensorflow_backend.py:4070: The name tf.nn.max_pool is deprecated. Please use tf.nn.max_pool2d instead.\n",
            "\n",
            "WARNING:tensorflow:From /usr/local/lib/python3.6/dist-packages/keras/backend/tensorflow_backend.py:4074: The name tf.nn.avg_pool is deprecated. Please use tf.nn.avg_pool2d instead.\n",
            "\n",
            "WARNING:tensorflow:From /tensorflow-1.15.2/python3.6/tensorflow_core/python/ops/math_grad.py:1375: where (from tensorflow.python.ops.array_ops) is deprecated and will be removed in a future version.\n",
            "Instructions for updating:\n",
            "Use tf.where in 2.0, which has the same broadcast rule as np.where\n",
            "WARNING:tensorflow:From /usr/local/lib/python3.6/dist-packages/keras/backend/tensorflow_backend.py:422: The name tf.global_variables is deprecated. Please use tf.compat.v1.global_variables instead.\n",
            "\n",
            "WARNING:tensorflow:From /usr/local/lib/python3.6/dist-packages/keras/backend/tensorflow_backend.py:431: The name tf.is_variable_initialized is deprecated. Please use tf.compat.v1.is_variable_initialized instead.\n",
            "\n",
            "WARNING:tensorflow:From /usr/local/lib/python3.6/dist-packages/keras/backend/tensorflow_backend.py:438: The name tf.variables_initializer is deprecated. Please use tf.compat.v1.variables_initializer instead.\n",
            "\n",
            "Train on 90 samples, validate on 10 samples\n",
            "Epoch 1/50\n",
            "90/90 [==============================] - 8s 90ms/step - loss: 2.9964 - accuracy: 0.3333 - val_loss: 0.5534 - val_accuracy: 0.8000\n",
            "Epoch 2/50\n",
            "90/90 [==============================] - 0s 2ms/step - loss: 2.1197 - accuracy: 0.4667 - val_loss: 0.6032 - val_accuracy: 0.7000\n",
            "Epoch 3/50\n",
            "90/90 [==============================] - 0s 2ms/step - loss: 1.9138 - accuracy: 0.3889 - val_loss: 1.6508 - val_accuracy: 0.2000\n",
            "Epoch 4/50\n",
            "90/90 [==============================] - 0s 2ms/step - loss: 2.3288 - accuracy: 0.3778 - val_loss: 1.1474 - val_accuracy: 0.4000\n",
            "Epoch 5/50\n",
            "90/90 [==============================] - 0s 2ms/step - loss: 1.7510 - accuracy: 0.5111 - val_loss: 0.4953 - val_accuracy: 0.8000\n",
            "Epoch 6/50\n",
            "90/90 [==============================] - 0s 2ms/step - loss: 1.7222 - accuracy: 0.6000 - val_loss: 0.2542 - val_accuracy: 0.8000\n",
            "Epoch 7/50\n",
            "90/90 [==============================] - 0s 2ms/step - loss: 1.7020 - accuracy: 0.5333 - val_loss: 0.1267 - val_accuracy: 1.0000\n",
            "Epoch 8/50\n",
            "90/90 [==============================] - 0s 2ms/step - loss: 1.6008 - accuracy: 0.5889 - val_loss: 0.1213 - val_accuracy: 0.9000\n",
            "Epoch 9/50\n",
            "90/90 [==============================] - 0s 2ms/step - loss: 1.5362 - accuracy: 0.6333 - val_loss: 0.1149 - val_accuracy: 0.9000\n",
            "Epoch 10/50\n",
            "90/90 [==============================] - 0s 2ms/step - loss: 1.3504 - accuracy: 0.6000 - val_loss: 0.0921 - val_accuracy: 1.0000\n",
            "Epoch 11/50\n",
            "90/90 [==============================] - 0s 2ms/step - loss: 1.3679 - accuracy: 0.6222 - val_loss: 0.1151 - val_accuracy: 1.0000\n",
            "Epoch 12/50\n",
            "90/90 [==============================] - 0s 2ms/step - loss: 1.4043 - accuracy: 0.6222 - val_loss: 0.1305 - val_accuracy: 1.0000\n",
            "Epoch 13/50\n",
            "90/90 [==============================] - 0s 2ms/step - loss: 1.1600 - accuracy: 0.6222 - val_loss: 0.1450 - val_accuracy: 1.0000\n",
            "Epoch 14/50\n",
            "90/90 [==============================] - 0s 2ms/step - loss: 1.0150 - accuracy: 0.6667 - val_loss: 0.1519 - val_accuracy: 1.0000\n",
            "Epoch 15/50\n",
            "90/90 [==============================] - 0s 2ms/step - loss: 1.0340 - accuracy: 0.6222 - val_loss: 0.1616 - val_accuracy: 1.0000\n",
            "Epoch 16/50\n",
            "90/90 [==============================] - 0s 2ms/step - loss: 1.0786 - accuracy: 0.6889 - val_loss: 0.1665 - val_accuracy: 1.0000\n",
            "Epoch 17/50\n",
            "90/90 [==============================] - 0s 2ms/step - loss: 1.1745 - accuracy: 0.7111 - val_loss: 0.2012 - val_accuracy: 0.9000\n",
            "Epoch 18/50\n",
            "90/90 [==============================] - 0s 2ms/step - loss: 1.1006 - accuracy: 0.6333 - val_loss: 0.1830 - val_accuracy: 1.0000\n",
            "Epoch 19/50\n",
            "90/90 [==============================] - 0s 2ms/step - loss: 1.1880 - accuracy: 0.6333 - val_loss: 0.0881 - val_accuracy: 1.0000\n",
            "Epoch 20/50\n",
            "90/90 [==============================] - 0s 2ms/step - loss: 1.1237 - accuracy: 0.6667 - val_loss: 0.0616 - val_accuracy: 1.0000\n",
            "Epoch 21/50\n",
            "90/90 [==============================] - 0s 2ms/step - loss: 1.1965 - accuracy: 0.6667 - val_loss: 0.0521 - val_accuracy: 1.0000\n",
            "Epoch 22/50\n",
            "90/90 [==============================] - 0s 2ms/step - loss: 1.2421 - accuracy: 0.6111 - val_loss: 0.0420 - val_accuracy: 1.0000\n",
            "Epoch 23/50\n",
            "90/90 [==============================] - 0s 2ms/step - loss: 0.9723 - accuracy: 0.7222 - val_loss: 0.0382 - val_accuracy: 1.0000\n",
            "Epoch 24/50\n",
            "90/90 [==============================] - 0s 2ms/step - loss: 0.7157 - accuracy: 0.7556 - val_loss: 0.0335 - val_accuracy: 1.0000\n",
            "Epoch 25/50\n",
            "90/90 [==============================] - 0s 2ms/step - loss: 1.0905 - accuracy: 0.6778 - val_loss: 0.0377 - val_accuracy: 1.0000\n",
            "\n",
            "Epoch 00025: saving model to ./model_25.hdf5\n",
            "Epoch 26/50\n",
            "90/90 [==============================] - 0s 2ms/step - loss: 0.8949 - accuracy: 0.7222 - val_loss: 0.0365 - val_accuracy: 1.0000\n",
            "Epoch 27/50\n",
            "90/90 [==============================] - 0s 2ms/step - loss: 0.9128 - accuracy: 0.7222 - val_loss: 0.0371 - val_accuracy: 1.0000\n",
            "Epoch 28/50\n",
            "90/90 [==============================] - 0s 2ms/step - loss: 0.7148 - accuracy: 0.7111 - val_loss: 0.0391 - val_accuracy: 1.0000\n",
            "Epoch 29/50\n",
            "90/90 [==============================] - 0s 2ms/step - loss: 1.1413 - accuracy: 0.6667 - val_loss: 0.0444 - val_accuracy: 1.0000\n",
            "Epoch 30/50\n",
            "90/90 [==============================] - 0s 2ms/step - loss: 0.8918 - accuracy: 0.6667 - val_loss: 0.0382 - val_accuracy: 1.0000\n",
            "Epoch 31/50\n",
            "90/90 [==============================] - 0s 2ms/step - loss: 0.9193 - accuracy: 0.7444 - val_loss: 0.0442 - val_accuracy: 1.0000\n",
            "Epoch 32/50\n",
            "90/90 [==============================] - 0s 2ms/step - loss: 0.9653 - accuracy: 0.7333 - val_loss: 0.0475 - val_accuracy: 1.0000\n",
            "Epoch 33/50\n",
            "90/90 [==============================] - 0s 2ms/step - loss: 0.7359 - accuracy: 0.7667 - val_loss: 0.0533 - val_accuracy: 1.0000\n",
            "Epoch 34/50\n",
            "90/90 [==============================] - 0s 2ms/step - loss: 0.5488 - accuracy: 0.8000 - val_loss: 0.0581 - val_accuracy: 1.0000\n",
            "Epoch 35/50\n",
            "90/90 [==============================] - 0s 2ms/step - loss: 0.7678 - accuracy: 0.6889 - val_loss: 0.0682 - val_accuracy: 1.0000\n",
            "Epoch 36/50\n",
            "90/90 [==============================] - 0s 2ms/step - loss: 0.9650 - accuracy: 0.7000 - val_loss: 0.1635 - val_accuracy: 0.9000\n",
            "Epoch 37/50\n",
            "90/90 [==============================] - 0s 2ms/step - loss: 0.9414 - accuracy: 0.7333 - val_loss: 0.2870 - val_accuracy: 0.9000\n",
            "Epoch 38/50\n",
            "90/90 [==============================] - 0s 2ms/step - loss: 0.8102 - accuracy: 0.7222 - val_loss: 0.2614 - val_accuracy: 0.9000\n",
            "Epoch 39/50\n",
            "90/90 [==============================] - 0s 2ms/step - loss: 0.4629 - accuracy: 0.8444 - val_loss: 0.1679 - val_accuracy: 0.9000\n",
            "Epoch 40/50\n",
            "90/90 [==============================] - 0s 2ms/step - loss: 0.7123 - accuracy: 0.7444 - val_loss: 0.1779 - val_accuracy: 0.9000\n",
            "Epoch 41/50\n",
            "90/90 [==============================] - 0s 2ms/step - loss: 0.6261 - accuracy: 0.7556 - val_loss: 0.2037 - val_accuracy: 0.9000\n",
            "Epoch 42/50\n",
            "90/90 [==============================] - 0s 2ms/step - loss: 0.5901 - accuracy: 0.7778 - val_loss: 0.2468 - val_accuracy: 0.9000\n",
            "Epoch 43/50\n",
            "90/90 [==============================] - 0s 2ms/step - loss: 0.8541 - accuracy: 0.7444 - val_loss: 0.2999 - val_accuracy: 0.9000\n",
            "Epoch 44/50\n",
            "90/90 [==============================] - 0s 2ms/step - loss: 0.5998 - accuracy: 0.7778 - val_loss: 0.3552 - val_accuracy: 0.9000\n",
            "Epoch 45/50\n",
            "90/90 [==============================] - 0s 2ms/step - loss: 0.7992 - accuracy: 0.7889 - val_loss: 0.2841 - val_accuracy: 0.9000\n",
            "Epoch 46/50\n",
            "90/90 [==============================] - 0s 2ms/step - loss: 0.7901 - accuracy: 0.7333 - val_loss: 0.1502 - val_accuracy: 0.9000\n",
            "Epoch 47/50\n",
            "90/90 [==============================] - 0s 2ms/step - loss: 0.6500 - accuracy: 0.7556 - val_loss: 0.1210 - val_accuracy: 0.9000\n",
            "Epoch 48/50\n",
            "90/90 [==============================] - 0s 2ms/step - loss: 0.8435 - accuracy: 0.7444 - val_loss: 0.1382 - val_accuracy: 0.9000\n",
            "Epoch 49/50\n",
            "90/90 [==============================] - 0s 2ms/step - loss: 0.6563 - accuracy: 0.7556 - val_loss: 0.1026 - val_accuracy: 0.9000\n",
            "Epoch 50/50\n",
            "90/90 [==============================] - 0s 2ms/step - loss: 0.5562 - accuracy: 0.7667 - val_loss: 0.0827 - val_accuracy: 1.0000\n",
            "\n",
            "Epoch 00050: saving model to ./model_50.hdf5\n"
          ],
          "name": "stdout"
        }
      ]
    },
    {
      "cell_type": "markdown",
      "metadata": {
        "id": "Fbzt1qHGG7ug",
        "colab_type": "text"
      },
      "source": [
        "The above command trains a model using the images we prepared for 50 epochs using a learning rate of 0.0001 and a categorical cross-entropy loss function. The `checkpoint_freq = 25` parameter also ensures that every 25 epochs, a snapshot of the model is saved. These models are named as `model_x.hdf5` where x refers to the epoch at which the model was saved. The `input_shape` parameter specifies the shape of the input images. Setting this to `SDSS` automatically sets the value to `(167,167,1)`\n",
        "\n",
        "For an explanation of the different input parameters of `gamornet_train_keras`, pelase have a look at the [API documentation](https://gamornet.readthedocs.io/en/latest/api_docs.html).\n",
        "\n",
        "In the output above, the `accuracy` and `loss` refer to the metrics calculated on the training set at the end of each epoch while `val_loss` and `val_accuracy` refer to the metrics calculated on the validation data. "
      ]
    },
    {
      "cell_type": "markdown",
      "metadata": {
        "id": "7qhQgRdXJtwE",
        "colab_type": "text"
      },
      "source": [
        "Thus, you have trained your first GaMorNet model!! You can have a look at the model's structure using the command below. "
      ]
    },
    {
      "cell_type": "code",
      "metadata": {
        "id": "3Fs124brJpVI",
        "colab_type": "code",
        "outputId": "23bc1a23-72d0-48cb-8a4b-36b6e4493730",
        "colab": {
          "base_uri": "https://localhost:8080/",
          "height": 731
        }
      },
      "source": [
        "model.summary()"
      ],
      "execution_count": 10,
      "outputs": [
        {
          "output_type": "stream",
          "text": [
            "Model: \"sequential_1\"\n",
            "_________________________________________________________________\n",
            "Layer (type)                 Output Shape              Param #   \n",
            "=================================================================\n",
            "conv2d_1 (Conv2D)            (None, 42, 42, 96)        11712     \n",
            "_________________________________________________________________\n",
            "max_pooling2d_1 (MaxPooling2 (None, 21, 21, 96)        0         \n",
            "_________________________________________________________________\n",
            "local_response_normalization (None, 21, 21, 96)        0         \n",
            "_________________________________________________________________\n",
            "conv2d_2 (Conv2D)            (None, 21, 21, 256)       614656    \n",
            "_________________________________________________________________\n",
            "max_pooling2d_2 (MaxPooling2 (None, 11, 11, 256)       0         \n",
            "_________________________________________________________________\n",
            "local_response_normalization (None, 11, 11, 256)       0         \n",
            "_________________________________________________________________\n",
            "conv2d_3 (Conv2D)            (None, 11, 11, 384)       885120    \n",
            "_________________________________________________________________\n",
            "conv2d_4 (Conv2D)            (None, 11, 11, 384)       1327488   \n",
            "_________________________________________________________________\n",
            "conv2d_5 (Conv2D)            (None, 11, 11, 256)       884992    \n",
            "_________________________________________________________________\n",
            "max_pooling2d_3 (MaxPooling2 (None, 6, 6, 256)         0         \n",
            "_________________________________________________________________\n",
            "local_response_normalization (None, 6, 6, 256)         0         \n",
            "_________________________________________________________________\n",
            "flatten_1 (Flatten)          (None, 9216)              0         \n",
            "_________________________________________________________________\n",
            "dense_1 (Dense)              (None, 4096)              37752832  \n",
            "_________________________________________________________________\n",
            "dropout_1 (Dropout)          (None, 4096)              0         \n",
            "_________________________________________________________________\n",
            "dense_2 (Dense)              (None, 4096)              16781312  \n",
            "_________________________________________________________________\n",
            "dropout_2 (Dropout)          (None, 4096)              0         \n",
            "_________________________________________________________________\n",
            "dense_3 (Dense)              (None, 3)                 12291     \n",
            "=================================================================\n",
            "Total params: 58,270,403\n",
            "Trainable params: 58,270,403\n",
            "Non-trainable params: 0\n",
            "_________________________________________________________________\n"
          ],
          "name": "stdout"
        }
      ]
    },
    {
      "cell_type": "markdown",
      "metadata": {
        "id": "AkVOkDibLMmD",
        "colab_type": "text"
      },
      "source": [
        "**Important:**\n",
        "The above process also generates a `metrics.csv` file, which contains the loss and accuracy calculated on the validation as well as the training data. \n",
        "\n",
        "We highly recommend using the data in this file to check how the loss and accuracies vary with training. This is extremely helpful in judging whether the model was trained properly and sufficiently. "
      ]
    },
    {
      "cell_type": "markdown",
      "metadata": {
        "colab_type": "text",
        "id": "DtKTEFpyHpHY"
      },
      "source": [
        "# Training GaMorNet using TFLearn\n",
        "\n",
        "Now, we will be using the images and the labels generated above to train GaMorNet"
      ]
    },
    {
      "cell_type": "code",
      "metadata": {
        "colab_type": "code",
        "outputId": "5dd321ca-cd00-46a3-ea0f-a9dc63e02a7b",
        "id": "OUP-k-NtHpHa",
        "colab": {
          "base_uri": "https://localhost:8080/",
          "height": 102
        }
      },
      "source": [
        "from gamornet.tflearn_module import gamornet_train_tflearn\n",
        "\n",
        "model = gamornet_train_tflearn(training_imgs,training_labels,valdiation_imgs,\n",
        "                             validation_labels,input_shape='SDSS', epochs=20, \n",
        "                             max_checkpoints=2, batch_size=64, lr=0.0001, \n",
        "                             loss='categorical_crossentropy',clear_session=True)"
      ],
      "execution_count": 12,
      "outputs": [
        {
          "output_type": "stream",
          "text": [
            "Training Step: 39  | total loss: \u001b[1m\u001b[32m0.66875\u001b[0m\u001b[0m | time: 0.059s\n",
            "| Momentum | epoch: 020 | loss: 0.66875 - acc: 0.7354 -- iter: 64/90\n",
            "Training Step: 40  | total loss: \u001b[1m\u001b[32m0.70279\u001b[0m\u001b[0m | time: 1.171s\n",
            "| Momentum | epoch: 020 | loss: 0.70279 - acc: 0.7345 | val_loss: 0.30441 - val_acc: 1.0000 -- iter: 90/90\n",
            "--\n"
          ],
          "name": "stdout"
        }
      ]
    },
    {
      "cell_type": "markdown",
      "metadata": {
        "colab_type": "text",
        "id": "u9StaWVvHpHe"
      },
      "source": [
        "The above command trains a model using the images we prepared for 20 epochs using a learning rate of 0.0001 and a categorical cross-entropy loss function. The `max_checkpoints = 2` parameter ensures that the latest 2 snapshots of the epochs will always be saved during training. Three files are saved for each snapshot and the naming format of the checkpoints is `check-x.data`,`check-x.index`,`check-x.meta` where x refers to the step number at which the model was saved. The `input_shape` parameter specifies the shape of the input images. Setting this to `SDSS` automatically sets the value to `(167,167,1)`. \n",
        "\n",
        "In the output above, the `acc` and `loss` refer to the accuracy and loss calculated on the training set at the end of each epoch while `val_loss` and `val_acc` refer to the metrics calculated on the validation data. \n",
        "\n",
        "The `clear_session = True` parameter value instructs GaMorNet to clear the TensorFlow graphs created earlier. We highly recommend `clear_session` to `True` in notebooks while using the `tflearn_module` as otherwise it might fail. \n",
        "\n",
        "For an explanation of the different input parameters of `gamornet_train_tflearn`, pelase have a look at the [API documentation](https://gamornet.readthedocs.io/en/latest/api_docs.html)."
      ]
    },
    {
      "cell_type": "markdown",
      "metadata": {
        "colab_type": "text",
        "id": "rKXigHG6J8Fj"
      },
      "source": [
        "Thus, you have trained your first GaMorNet model!! \n",
        "\n",
        "--- "
      ]
    },
    {
      "cell_type": "markdown",
      "metadata": {
        "id": "rSoVi9LRMhUv",
        "colab_type": "text"
      },
      "source": [
        "**Tip:** Unlike with the keras module, the tflearn module doesn't automatically save the metrics. Instead you have to redirect the Python output generated to a file in order to keep track of the metrics. \n",
        "\n",
        "When running some python script this can be done simply using `python script.py > out.txt`. This will save all the screen output in `out.txt`.\n",
        "\n",
        "Thereafter the following snippet of Python Code can easily search for the relevant metrics in the screen output file. \n",
        "\n",
        "```python\n",
        "###################################\n",
        "# accParser.py\n",
        "#\n",
        "# Takes tflearn screen output and extracts loss, acc and val_acc every epoch for visualization\n",
        "####################################\n",
        "import sys\n",
        "\n",
        "if (len(sys.argv) != 2):\n",
        "        print \"Exiting Program....\\nUsage: python accParser.py /path/to/screen/output\"\n",
        "\n",
        "\n",
        "dataPath = sys.argv[1] #the first argument is the path to the screen grab of the TF Learn run\n",
        "\n",
        "dataFile = open(dataPath, 'r')\n",
        "outFile = open(dataPath[:-6] + 'out.txt', 'w')\n",
        "\n",
        "outFile.write(\"epoch loss acc val_acc\\n\")\n",
        "resultLines = dataFile.readlines()\n",
        "\n",
        "for line in resultLines:\n",
        "        if 'val_acc' in line:\n",
        "                words = line.split()\n",
        "\n",
        "                #validation step\n",
        "                if words[-2:-1] != ['iter:']:\n",
        "                        print \"Something doesn't look right. Skipping an occurene of val_acc\"\n",
        "                        continue\n",
        "\n",
        "                outFile.write(words[words.index(\"epoch:\")+1] + \" \")\n",
        "                outFile.write(words[words.index(\"loss:\")+1] + \" \")\n",
        "                outFile.write(words[words.index(\"acc:\")+1] + \" \")\n",
        "                outFile.write(words[words.index(\"val_acc:\")+1] + \"\\n\")\n",
        "\n",
        "dataFile.close()\n",
        "outFile.close()\n",
        "\n",
        "```"
      ]
    },
    {
      "cell_type": "markdown",
      "metadata": {
        "id": "7CI4QJAROoGo",
        "colab_type": "text"
      },
      "source": [
        "**Important:** We highly recommend checking how the loss and accuracies vary with training. This is extremely helpful in judging whether the model was trained properly and sufficiently. "
      ]
    },
    {
      "cell_type": "markdown",
      "metadata": {
        "id": "6Trd52HQV7xU",
        "colab_type": "text"
      },
      "source": [
        "# Summary & Takeaways\n",
        "\n",
        "* `gamornet_train_keras` and `gamornet_train_tflearn` are the two functions that can be used to train GaMorNet models. \n",
        "\n",
        "* For understanding the differences between the Keras and TFLearn modules, please refer to the [PDR Handbook](https://gamornet.readthedocs.io/en/latest/usage_guide.html). \n",
        "\n",
        "* The [PDR Handbook](https://gamornet.readthedocs.io/en/latest/usage_guide.html) also contains advice about which situations warrant the training of models from scratch and in which cases you can use the models which we have released. "
      ]
    }
  ]
}