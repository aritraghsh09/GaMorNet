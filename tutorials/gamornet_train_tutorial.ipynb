{
  "nbformat": 4,
  "nbformat_minor": 0,
  "metadata": {
    "kernelspec": {
      "display_name": "Python 3",
      "language": "python",
      "name": "python3"
    },
    "language_info": {
      "codemirror_mode": {
        "name": "ipython",
        "version": 3
      },
      "file_extension": ".py",
      "mimetype": "text/x-python",
      "name": "python",
      "nbconvert_exporter": "python",
      "pygments_lexer": "ipython3",
      "version": "3.6.9"
    },
    "colab": {
      "name": "gamornet_basics_tutorial.ipynb",
      "provenance": [],
      "toc_visible": true,
      "include_colab_link": true
    },
    "accelerator": "GPU"
  },
  "cells": [
    {
      "cell_type": "markdown",
      "metadata": {
        "id": "view-in-github",
        "colab_type": "text"
      },
      "source": [
        "<a href=\"https://colab.research.google.com/github/aritraghsh09/GaMorNet/blob/master/tutorials/gamornet_train_tutorial.ipynb\" target=\"_parent\"><img src=\"https://colab.research.google.com/assets/colab-badge.svg\" alt=\"Open In Colab\"/></a>"
      ]
    },
    {
      "cell_type": "markdown",
      "metadata": {
        "id": "pNq4HgykhnJK"
      },
      "source": [
        "# Google Colab Stuff\n",
        "\n",
        "Although this tutorial can be run on any machine which has GaMorNet installed, it's pretty handy to run this on Google Colab as you can easily use Colab's GPUs for this tutorial.\n",
        "\n",
        "Note that with the free version of Colab, you will only have access to a limited amount of memory. Thus, the number of images we use here for training/testing is very small. In reality, GaMorNet can handle hundreds of thousands of images. \n",
        "\n",
        "This first section is meant to be run only when following this tutorial in Google Colab.\n"
      ]
    },
    {
      "cell_type": "markdown",
      "metadata": {
        "id": "g2wSGVu4ihqa"
      },
      "source": [
        "### Make things Fast!"
      ]
    },
    {
      "cell_type": "markdown",
      "metadata": {
        "id": "zWvqtYGaijke"
      },
      "source": [
        "Before we dive in, let's make sure we're using a GPU for this tutorial.  \n",
        "\n",
        "To do this, select \"Runtime\" -> \"Change runtime type\" -> \"Hardware accelerator\" -> \"GPU\"."
      ]
    },
    {
      "cell_type": "markdown",
      "metadata": {
        "id": "WUDD3Qke7Ws_"
      },
      "source": [
        "### Installing Libraries Needed for this Tutorial"
      ]
    },
    {
      "cell_type": "code",
      "metadata": {
        "id": "lBSCZfMM7WJV",
        "colab": {
          "base_uri": "https://localhost:8080/"
        },
        "outputId": "cee93e0a-d0e9-4133-c982-f001f9a794e1"
      },
      "source": [
        "!pip install matplotlib\n",
        "!pip install astropy\n",
        "!pip install numpy"
      ],
      "execution_count": 1,
      "outputs": [
        {
          "output_type": "stream",
          "text": [
            "Requirement already satisfied: matplotlib in /usr/local/lib/python3.7/dist-packages (3.2.2)\n",
            "Requirement already satisfied: numpy>=1.11 in /usr/local/lib/python3.7/dist-packages (from matplotlib) (1.19.5)\n",
            "Requirement already satisfied: python-dateutil>=2.1 in /usr/local/lib/python3.7/dist-packages (from matplotlib) (2.8.1)\n",
            "Requirement already satisfied: cycler>=0.10 in /usr/local/lib/python3.7/dist-packages (from matplotlib) (0.10.0)\n",
            "Requirement already satisfied: kiwisolver>=1.0.1 in /usr/local/lib/python3.7/dist-packages (from matplotlib) (1.3.1)\n",
            "Requirement already satisfied: pyparsing!=2.0.4,!=2.1.2,!=2.1.6,>=2.0.1 in /usr/local/lib/python3.7/dist-packages (from matplotlib) (2.4.7)\n",
            "Requirement already satisfied: six>=1.5 in /usr/local/lib/python3.7/dist-packages (from python-dateutil>=2.1->matplotlib) (1.15.0)\n",
            "Requirement already satisfied: astropy in /usr/local/lib/python3.7/dist-packages (4.2.1)\n",
            "Requirement already satisfied: numpy>=1.17 in /usr/local/lib/python3.7/dist-packages (from astropy) (1.19.5)\n",
            "Requirement already satisfied: pyerfa in /usr/local/lib/python3.7/dist-packages (from astropy) (2.0.0)\n",
            "Requirement already satisfied: numpy in /usr/local/lib/python3.7/dist-packages (1.19.5)\n"
          ],
          "name": "stdout"
        }
      ]
    },
    {
      "cell_type": "markdown",
      "metadata": {
        "id": "en4lZVmont-b"
      },
      "source": [
        "### Install GaMorNet"
      ]
    },
    {
      "cell_type": "code",
      "metadata": {
        "id": "WbBNuljhhnyf",
        "colab": {
          "base_uri": "https://localhost:8080/"
        },
        "outputId": "5c089247-5b8f-42e7-fb1a-d150f37ba066"
      },
      "source": [
        "import os\n",
        "# Suppressing TF warnings and info for a cleaner environ\n",
        "# Set this to 0,1 for info and warnings respectively.\n",
        "os.environ['TF_CPP_MIN_LOG_LEVEL'] = '2' \n",
        " \n",
        "# Magic telling Colab we want TF version ~=1.0\n",
        "%tensorflow_version 1.x\n",
        "\n",
        "!pip install -q --upgrade gamornet"
      ],
      "execution_count": 2,
      "outputs": [
        {
          "output_type": "stream",
          "text": [
            "TensorFlow 1.x selected.\n",
            "\u001b[K     |████████████████████████████████| 411.0MB 42kB/s \n",
            "\u001b[K     |████████████████████████████████| 2.9MB 47.7MB/s \n",
            "\u001b[?25h  Building wheel for wget (setup.py) ... \u001b[?25l\u001b[?25hdone\n",
            "  Building wheel for gast (setup.py) ... \u001b[?25l\u001b[?25hdone\n",
            "\u001b[31mERROR: kapre 0.3.5 has requirement tensorflow>=2.0.0, but you'll have tensorflow 1.15.2 which is incompatible.\u001b[0m\n",
            "\u001b[31mERROR: tensorflow-gpu 1.15.5 has requirement numpy<1.19.0,>=1.16.0, but you'll have numpy 1.19.5 which is incompatible.\u001b[0m\n"
          ],
          "name": "stdout"
        }
      ]
    },
    {
      "cell_type": "code",
      "metadata": {
        "id": "AYsnfr7tj3D-",
        "colab": {
          "base_uri": "https://localhost:8080/"
        },
        "outputId": "b4d6c856-2e07-42b7-aedc-f3e214f042e7"
      },
      "source": [
        "##Checking which version of Tensorflow & GaMorNet is being used and whether the installation worked.\n",
        "import tensorflow as tf\n",
        "import gamornet\n",
        "print(tf.__version__)\n",
        "print(gamornet.__version__)\n",
        "from gamornet.keras_module import gamornet_train_keras, gamornet_tl_keras, gamornet_predict_keras\n",
        "from gamornet.tflearn_module import gamornet_train_tflearn, gamornet_tl_tflearn, gamornet_predict_tflearn"
      ],
      "execution_count": 3,
      "outputs": [
        {
          "output_type": "stream",
          "text": [
            "1.15.2\n",
            "0.4.3\n"
          ],
          "name": "stdout"
        },
        {
          "output_type": "stream",
          "text": [
            "Using TensorFlow backend.\n"
          ],
          "name": "stderr"
        },
        {
          "output_type": "stream",
          "text": [
            "WARNING:tensorflow:From /tensorflow-1.15.2/python3.7/tflearn/helpers/summarizer.py:9: The name tf.summary.merge is deprecated. Please use tf.compat.v1.summary.merge instead.\n",
            "\n",
            "WARNING:tensorflow:From /tensorflow-1.15.2/python3.7/tflearn/helpers/trainer.py:25: The name tf.summary.FileWriter is deprecated. Please use tf.compat.v1.summary.FileWriter instead.\n",
            "\n",
            "WARNING:tensorflow:From /tensorflow-1.15.2/python3.7/tflearn/collections.py:13: The name tf.GraphKeys is deprecated. Please use tf.compat.v1.GraphKeys instead.\n",
            "\n",
            "WARNING:tensorflow:From /tensorflow-1.15.2/python3.7/tflearn/config.py:123: The name tf.get_collection is deprecated. Please use tf.compat.v1.get_collection instead.\n",
            "\n",
            "WARNING:tensorflow:From /tensorflow-1.15.2/python3.7/tflearn/config.py:129: The name tf.add_to_collection is deprecated. Please use tf.compat.v1.add_to_collection instead.\n",
            "\n",
            "WARNING:tensorflow:From /tensorflow-1.15.2/python3.7/tflearn/config.py:131: The name tf.assign is deprecated. Please use tf.compat.v1.assign instead.\n",
            "\n"
          ],
          "name": "stdout"
        }
      ]
    },
    {
      "cell_type": "markdown",
      "metadata": {
        "id": "svdqWX2sE7xw"
      },
      "source": [
        "\n",
        "The following snippet will verify that we have access to a GPU."
      ]
    },
    {
      "cell_type": "code",
      "metadata": {
        "id": "QF9QiuyuE7ih",
        "outputId": "226bcf08-a701-45f7-e5c2-69c248ccd9db",
        "colab": {
          "base_uri": "https://localhost:8080/"
        }
      },
      "source": [
        "#Checking access to GPU\n",
        "import tensorflow as tf\n",
        "if tf.test.gpu_device_name() != '/device:GPU:0':\n",
        "  print('WARNING: GPU device not found.')\n",
        "else:\n",
        "  print('SUCCESS: Found GPU: {}'.format(tf.test.gpu_device_name()))"
      ],
      "execution_count": 4,
      "outputs": [
        {
          "output_type": "stream",
          "text": [
            "SUCCESS: Found GPU: /device:GPU:0\n"
          ],
          "name": "stdout"
        }
      ]
    },
    {
      "cell_type": "markdown",
      "metadata": {
        "id": "isCigPq4TiWi"
      },
      "source": [
        "# Reference\n",
        "\n",
        "All mentions of \"the paper\" in this tutorial, refer to [Ghosh et. al. (2020)](https://iopscience.iop.org/article/10.3847/1538-4357/ab8a47)"
      ]
    },
    {
      "cell_type": "markdown",
      "metadata": {
        "id": "NZdvFR_IgTmn"
      },
      "source": [
        "# Training with GaMorNet"
      ]
    },
    {
      "cell_type": "markdown",
      "metadata": {
        "id": "Q0MNIlNUSZJ8"
      },
      "source": [
        "GaMorNet can quite easily be trained from scratch using images. \n",
        "\n",
        "In this demonstration, we will use 90 simulated SDSS images for the purposes of training and 10 simulated SDSS images for validation. All these simulated images come from the set of simulated galaxies created for the paper. \n",
        "\n",
        "All these images contain disk + bulge components. As described in the paper, we have also convolved these simulations with a representative PSF and added representative noise. "
      ]
    },
    {
      "cell_type": "markdown",
      "metadata": {
        "id": "KwzpM9YMUPqn"
      },
      "source": [
        "# Downloading the Data\n",
        "\n",
        "First, let's download the images that we are going to use to train GaMorNet. We will download these into the local filesystem from Yale Astronomy's FTP service, where these are hosted.\n",
        "\n",
        "We are going to download all the 100 images (90+10) as a single archive and then export it to a single folder called `training_imgs`. The iamges are in the FITS format and are named `output_img_xx.fits` where xx runs from 0 to 99.\n",
        "\n",
        "We are also going to download the `sim_para.txt` file containing the ground-truth parameters for the above galaxies. Using these values, we are going to calculate the bulge-to-total light ratio of each galaxy and determine the labels to be used during the training process. \n",
        "\n",
        "\n",
        "*Tip: The `%%bash` command lets Colab know that all the commands in this shell needs to be passed the local unix virtual environment.*\n",
        "\n",
        "*Tip: To view the files in use on Colab, click the folder icon on the left sidebar.*"
      ]
    },
    {
      "cell_type": "code",
      "metadata": {
        "id": "6TThUIR8Y4lc",
        "colab": {
          "base_uri": "https://localhost:8080/"
        },
        "outputId": "6bb2d4f4-02c1-452b-f629-b306ed226c89"
      },
      "source": [
        "%%bash\n",
        "#get zip and txt file from server\n",
        "wget ftp://ftp.astro.yale.edu/pub/aghosh/gamornet_tutorial_files/train_images/training_imgs.tar.gz\n",
        "wget ftp://ftp.astro.yale.edu/pub/aghosh/gamornet_tutorial_files/train_images/sim_para.txt\n",
        "\n",
        "#Unzip the Archive\n",
        "tar -xvf training_imgs.tar.gz"
      ],
      "execution_count": 5,
      "outputs": [
        {
          "output_type": "stream",
          "text": [
            "./train_images/output_img_0.fits\n",
            "./train_images/output_img_10.fits\n",
            "./train_images/output_img_11.fits\n",
            "./train_images/output_img_12.fits\n",
            "./train_images/output_img_13.fits\n",
            "./train_images/output_img_14.fits\n",
            "./train_images/output_img_15.fits\n",
            "./train_images/output_img_16.fits\n",
            "./train_images/output_img_17.fits\n",
            "./train_images/output_img_18.fits\n",
            "./train_images/output_img_19.fits\n",
            "./train_images/output_img_1.fits\n",
            "./train_images/output_img_20.fits\n",
            "./train_images/output_img_21.fits\n",
            "./train_images/output_img_22.fits\n",
            "./train_images/output_img_23.fits\n",
            "./train_images/output_img_24.fits\n",
            "./train_images/output_img_25.fits\n",
            "./train_images/output_img_26.fits\n",
            "./train_images/output_img_27.fits\n",
            "./train_images/output_img_28.fits\n",
            "./train_images/output_img_29.fits\n",
            "./train_images/output_img_2.fits\n",
            "./train_images/output_img_30.fits\n",
            "./train_images/output_img_31.fits\n",
            "./train_images/output_img_32.fits\n",
            "./train_images/output_img_33.fits\n",
            "./train_images/output_img_34.fits\n",
            "./train_images/output_img_35.fits\n",
            "./train_images/output_img_36.fits\n",
            "./train_images/output_img_37.fits\n",
            "./train_images/output_img_38.fits\n",
            "./train_images/output_img_39.fits\n",
            "./train_images/output_img_3.fits\n",
            "./train_images/output_img_40.fits\n",
            "./train_images/output_img_41.fits\n",
            "./train_images/output_img_42.fits\n",
            "./train_images/output_img_43.fits\n",
            "./train_images/output_img_44.fits\n",
            "./train_images/output_img_45.fits\n",
            "./train_images/output_img_46.fits\n",
            "./train_images/output_img_47.fits\n",
            "./train_images/output_img_48.fits\n",
            "./train_images/output_img_49.fits\n",
            "./train_images/output_img_4.fits\n",
            "./train_images/output_img_50.fits\n",
            "./train_images/output_img_51.fits\n",
            "./train_images/output_img_52.fits\n",
            "./train_images/output_img_53.fits\n",
            "./train_images/output_img_54.fits\n",
            "./train_images/output_img_55.fits\n",
            "./train_images/output_img_56.fits\n",
            "./train_images/output_img_57.fits\n",
            "./train_images/output_img_58.fits\n",
            "./train_images/output_img_59.fits\n",
            "./train_images/output_img_5.fits\n",
            "./train_images/output_img_60.fits\n",
            "./train_images/output_img_61.fits\n",
            "./train_images/output_img_62.fits\n",
            "./train_images/output_img_63.fits\n",
            "./train_images/output_img_64.fits\n",
            "./train_images/output_img_65.fits\n",
            "./train_images/output_img_66.fits\n",
            "./train_images/output_img_67.fits\n",
            "./train_images/output_img_68.fits\n",
            "./train_images/output_img_69.fits\n",
            "./train_images/output_img_6.fits\n",
            "./train_images/output_img_70.fits\n",
            "./train_images/output_img_71.fits\n",
            "./train_images/output_img_72.fits\n",
            "./train_images/output_img_73.fits\n",
            "./train_images/output_img_74.fits\n",
            "./train_images/output_img_75.fits\n",
            "./train_images/output_img_76.fits\n",
            "./train_images/output_img_77.fits\n",
            "./train_images/output_img_78.fits\n",
            "./train_images/output_img_79.fits\n",
            "./train_images/output_img_7.fits\n",
            "./train_images/output_img_80.fits\n",
            "./train_images/output_img_81.fits\n",
            "./train_images/output_img_82.fits\n",
            "./train_images/output_img_83.fits\n",
            "./train_images/output_img_84.fits\n",
            "./train_images/output_img_85.fits\n",
            "./train_images/output_img_86.fits\n",
            "./train_images/output_img_87.fits\n",
            "./train_images/output_img_88.fits\n",
            "./train_images/output_img_89.fits\n",
            "./train_images/output_img_8.fits\n",
            "./train_images/output_img_90.fits\n",
            "./train_images/output_img_91.fits\n",
            "./train_images/output_img_92.fits\n",
            "./train_images/output_img_93.fits\n",
            "./train_images/output_img_94.fits\n",
            "./train_images/output_img_95.fits\n",
            "./train_images/output_img_96.fits\n",
            "./train_images/output_img_97.fits\n",
            "./train_images/output_img_98.fits\n",
            "./train_images/output_img_99.fits\n",
            "./train_images/output_img_9.fits\n"
          ],
          "name": "stdout"
        },
        {
          "output_type": "stream",
          "text": [
            "--2021-07-14 17:39:47--  ftp://ftp.astro.yale.edu/pub/aghosh/gamornet_tutorial_files/train_images/training_imgs.tar.gz\n",
            "           => ‘training_imgs.tar.gz’\n",
            "Resolving ftp.astro.yale.edu (ftp.astro.yale.edu)... 128.36.139.12\n",
            "Connecting to ftp.astro.yale.edu (ftp.astro.yale.edu)|128.36.139.12|:21... connected.\n",
            "Logging in as anonymous ... Logged in!\n",
            "==> SYST ... done.    ==> PWD ... done.\n",
            "==> TYPE I ... done.  ==> CWD (1) /pub/aghosh/gamornet_tutorial_files/train_images ... done.\n",
            "==> SIZE training_imgs.tar.gz ... 13849775\n",
            "==> PASV ... done.    ==> RETR training_imgs.tar.gz ... done.\n",
            "Length: 13849775 (13M) (unauthoritative)\n",
            "\n",
            "     0K .......... .......... .......... .......... ..........  0%  306K 44s\n",
            "    50K .......... .......... .......... .......... ..........  0%  676K 32s\n",
            "   100K .......... .......... .......... .......... ..........  1%  630K 28s\n",
            "   150K .......... .......... .......... .......... ..........  1%  577K 27s\n",
            "   200K .......... .......... .......... .......... ..........  1%  164M 21s\n",
            "   250K .......... .......... .......... .......... ..........  2%  250M 18s\n",
            "   300K .......... .......... .......... .......... ..........  2%  665K 18s\n",
            "   350K .......... .......... .......... .......... ..........  2% 98.0M 16s\n",
            "   400K .......... .......... .......... .......... ..........  3%  243M 14s\n",
            "   450K .......... .......... .......... .......... ..........  3%  718K 14s\n",
            "   500K .......... .......... .......... .......... ..........  4% 30.3M 13s\n",
            "   550K .......... .......... .......... .......... ..........  4% 40.7M 12s\n",
            "   600K .......... .......... .......... .......... ..........  4% 39.7M 11s\n",
            "   650K .......... .......... .......... .......... ..........  5%  744K 11s\n",
            "   700K .......... .......... .......... .......... ..........  5% 31.3M 11s\n",
            "   750K .......... .......... .......... .......... ..........  5% 40.9M 10s\n",
            "   800K .......... .......... .......... .......... ..........  6% 40.9M 9s\n",
            "   850K .......... .......... .......... .......... ..........  6%  746K 10s\n",
            "   900K .......... .......... .......... .......... ..........  7% 35.8M 9s\n",
            "   950K .......... .......... .......... .......... ..........  7% 42.6M 9s\n",
            "  1000K .......... .......... .......... .......... ..........  7% 40.9M 8s\n",
            "  1050K .......... .......... .......... .......... ..........  8%  745K 9s\n",
            "  1100K .......... .......... .......... .......... ..........  8% 36.8M 8s\n",
            "  1150K .......... .......... .......... .......... ..........  8% 44.4M 8s\n",
            "  1200K .......... .......... .......... .......... ..........  9% 41.6M 8s\n",
            "  1250K .......... .......... .......... .......... ..........  9%  750K 8s\n",
            "  1300K .......... .......... .......... .......... ..........  9% 35.4M 8s\n",
            "  1350K .......... .......... .......... .......... .......... 10% 37.6M 7s\n",
            "  1400K .......... .......... .......... .......... .......... 10% 48.6M 7s\n",
            "  1450K .......... .......... .......... .......... .......... 11%  756K 7s\n",
            "  1500K .......... .......... .......... .......... .......... 11% 28.1M 7s\n",
            "  1550K .......... .......... .......... .......... .......... 11% 36.6M 7s\n",
            "  1600K .......... .......... .......... .......... .......... 12% 55.6M 7s\n",
            "  1650K .......... .......... .......... .......... .......... 12% 35.2M 6s\n",
            "  1700K .......... .......... .......... .......... .......... 12%  757K 7s\n",
            "  1750K .......... .......... .......... .......... .......... 13% 36.8M 6s\n",
            "  1800K .......... .......... .......... .......... .......... 13% 41.4M 6s\n",
            "  1850K .......... .......... .......... .......... .......... 14% 41.0M 6s\n",
            "  1900K .......... .......... .......... .......... .......... 14%  765K 6s\n",
            "  1950K .......... .......... .......... .......... .......... 14% 26.6M 6s\n",
            "  2000K .......... .......... .......... .......... .......... 15% 43.1M 6s\n",
            "  2050K .......... .......... .......... .......... .......... 15% 40.4M 6s\n",
            "  2100K .......... .......... .......... .......... .......... 15% 45.0M 6s\n",
            "  2150K .......... .......... .......... .......... .......... 16%  766K 6s\n",
            "  2200K .......... .......... .......... .......... .......... 16% 26.1M 6s\n",
            "  2250K .......... .......... .......... .......... .......... 17% 49.9M 5s\n",
            "  2300K .......... .......... .......... .......... .......... 17% 48.2M 5s\n",
            "  2350K .......... .......... .......... .......... .......... 17% 44.5M 5s\n",
            "  2400K .......... .......... .......... .......... .......... 18% 46.3M 5s\n",
            "  2450K .......... .......... .......... .......... .......... 18%  759K 5s\n",
            "  2500K .......... .......... .......... .......... .......... 18% 39.3M 5s\n",
            "  2550K .......... .......... .......... .......... .......... 19% 52.3M 5s\n",
            "  2600K .......... .......... .......... .......... .......... 19% 58.4M 5s\n",
            "  2650K .......... .......... .......... .......... .......... 19% 51.3M 5s\n",
            "  2700K .......... .......... .......... .......... .......... 20%  764K 5s\n",
            "  2750K .......... .......... .......... .......... .......... 20% 30.0M 5s\n",
            "  2800K .......... .......... .......... .......... .......... 21% 44.9M 5s\n",
            "  2850K .......... .......... .......... .......... .......... 21% 52.8M 5s\n",
            "  2900K .......... .......... .......... .......... .......... 21% 54.6M 5s\n",
            "  2950K .......... .......... .......... .......... .......... 22% 53.1M 4s\n",
            "  3000K .......... .......... .......... .......... .......... 22%  761K 5s\n",
            "  3050K .......... .......... .......... .......... .......... 22% 38.7M 4s\n",
            "  3100K .......... .......... .......... .......... .......... 23% 50.7M 4s\n",
            "  3150K .......... .......... .......... .......... .......... 23% 53.9M 4s\n",
            "  3200K .......... .......... .......... .......... .......... 24% 55.1M 4s\n",
            "  3250K .......... .......... .......... .......... .......... 24% 53.7M 4s\n",
            "  3300K .......... .......... .......... .......... .......... 24%  764K 4s\n",
            "  3350K .......... .......... .......... .......... .......... 25% 37.9M 4s\n",
            "  3400K .......... .......... .......... .......... .......... 25% 48.0M 4s\n",
            "  3450K .......... .......... .......... .......... .......... 25% 53.2M 4s\n",
            "  3500K .......... .......... .......... .......... .......... 26% 52.5M 4s\n",
            "  3550K .......... .......... .......... .......... .......... 26% 59.7M 4s\n",
            "  3600K .......... .......... .......... .......... .......... 26%  772K 4s\n",
            "  3650K .......... .......... .......... .......... .......... 27% 27.7M 4s\n",
            "  3700K .......... .......... .......... .......... .......... 27% 53.7M 4s\n",
            "  3750K .......... .......... .......... .......... .......... 28% 51.0M 4s\n",
            "  3800K .......... .......... .......... .......... .......... 28% 56.9M 4s\n",
            "  3850K .......... .......... .......... .......... .......... 28% 55.8M 4s\n",
            "  3900K .......... .......... .......... .......... .......... 29% 54.2M 4s\n",
            "  3950K .......... .......... .......... .......... .......... 29%  772K 4s\n",
            "  4000K .......... .......... .......... .......... .......... 29% 30.8M 4s\n",
            "  4050K .......... .......... .......... .......... .......... 30% 55.7M 4s\n",
            "  4100K .......... .......... .......... .......... .......... 30% 73.2M 3s\n",
            "  4150K .......... .......... .......... .......... .......... 31% 62.0M 3s\n",
            "  4200K .......... .......... .......... .......... .......... 31% 51.1M 3s\n",
            "  4250K .......... .......... .......... .......... .......... 31% 51.8M 3s\n",
            "  4300K .......... .......... .......... .......... .......... 32%  774K 3s\n",
            "  4350K .......... .......... .......... .......... .......... 32% 32.4M 3s\n",
            "  4400K .......... .......... .......... .......... .......... 32% 50.9M 3s\n",
            "  4450K .......... .......... .......... .......... .......... 33% 57.2M 3s\n",
            "  4500K .......... .......... .......... .......... .......... 33% 63.1M 3s\n",
            "  4550K .......... .......... .......... .......... .......... 34% 60.5M 3s\n",
            "  4600K .......... .......... .......... .......... .......... 34% 66.7M 3s\n",
            "  4650K .......... .......... .......... .......... .......... 34% 54.6M 3s\n",
            "  4700K .......... .......... .......... .......... .......... 35%  773K 3s\n",
            "  4750K .......... .......... .......... .......... .......... 35% 37.7M 3s\n",
            "  4800K .......... .......... .......... .......... .......... 35% 58.7M 3s\n",
            "  4850K .......... .......... .......... .......... .......... 36% 54.9M 3s\n",
            "  4900K .......... .......... .......... .......... .......... 36% 67.1M 3s\n",
            "  4950K .......... .......... .......... .......... .......... 36% 58.5M 3s\n",
            "  5000K .......... .......... .......... .......... .......... 37% 65.4M 3s\n",
            "  5050K .......... .......... .......... .......... .......... 37%  782K 3s\n",
            "  5100K .......... .......... .......... .......... .......... 38% 33.7M 3s\n",
            "  5150K .......... .......... .......... .......... .......... 38% 39.5M 3s\n",
            "  5200K .......... .......... .......... .......... .......... 38% 65.5M 3s\n",
            "  5250K .......... .......... .......... .......... .......... 39% 57.8M 3s\n",
            "  5300K .......... .......... .......... .......... .......... 39% 64.5M 3s\n",
            "  5350K .......... .......... .......... .......... .......... 39% 59.4M 3s\n",
            "  5400K .......... .......... .......... .......... .......... 40% 62.2M 3s\n",
            "  5450K .......... .......... .......... .......... .......... 40%  781K 3s\n",
            "  5500K .......... .......... .......... .......... .......... 41% 30.0M 3s\n",
            "  5550K .......... .......... .......... .......... .......... 41% 57.2M 3s\n",
            "  5600K .......... .......... .......... .......... .......... 41% 61.1M 3s\n",
            "  5650K .......... .......... .......... .......... .......... 42% 60.5M 3s\n",
            "  5700K .......... .......... .......... .......... .......... 42% 64.0M 2s\n",
            "  5750K .......... .......... .......... .......... .......... 42% 63.3M 2s\n",
            "  5800K .......... .......... .......... .......... .......... 43% 59.4M 2s\n",
            "  5850K .......... .......... .......... .......... .......... 43% 73.8M 2s\n",
            "  5900K .......... .......... .......... .......... .......... 43%  779K 2s\n",
            "  5950K .......... .......... .......... .......... .......... 44% 34.2M 2s\n",
            "  6000K .......... .......... .......... .......... .......... 44% 77.3M 2s\n",
            "  6050K .......... .......... .......... .......... .......... 45% 77.9M 2s\n",
            "  6100K .......... .......... .......... .......... .......... 45% 60.4M 2s\n",
            "  6150K .......... .......... .......... .......... .......... 45% 75.5M 2s\n",
            "  6200K .......... .......... .......... .......... .......... 46% 60.4M 2s\n",
            "  6250K .......... .......... .......... .......... .......... 46% 67.8M 2s\n",
            "  6300K .......... .......... .......... .......... .......... 46%  784K 2s\n",
            "  6350K .......... .......... .......... .......... .......... 47% 44.4M 2s\n",
            "  6400K .......... .......... .......... .......... .......... 47% 35.4M 2s\n",
            "  6450K .......... .......... .......... .......... .......... 48% 58.4M 2s\n",
            "  6500K .......... .......... .......... .......... .......... 48% 81.7M 2s\n",
            "  6550K .......... .......... .......... .......... .......... 48% 68.5M 2s\n",
            "  6600K .......... .......... .......... .......... .......... 49% 76.5M 2s\n",
            "  6650K .......... .......... .......... .......... .......... 49% 69.8M 2s\n",
            "  6700K .......... .......... .......... .......... .......... 49% 76.9M 2s\n",
            "  6750K .......... .......... .......... .......... .......... 50% 66.3M 2s\n",
            "  6800K .......... .......... .......... .......... .......... 50%  779K 2s\n",
            "  6850K .......... .......... .......... .......... .......... 51% 37.2M 2s\n",
            "  6900K .......... .......... .......... .......... .......... 51% 69.8M 2s\n",
            "  6950K .......... .......... .......... .......... .......... 51% 70.5M 2s\n",
            "  7000K .......... .......... .......... .......... .......... 52% 72.4M 2s\n",
            "  7050K .......... .......... .......... .......... .......... 52% 56.2M 2s\n",
            "  7100K .......... .......... .......... .......... .......... 52%  103M 2s\n",
            "  7150K .......... .......... .......... .......... .......... 53% 75.4M 2s\n",
            "  7200K .......... .......... .......... .......... .......... 53% 67.5M 2s\n",
            "  7250K .......... .......... .......... .......... .......... 53%  783K 2s\n",
            "  7300K .......... .......... .......... .......... .......... 54% 40.5M 2s\n",
            "  7350K .......... .......... .......... .......... .......... 54% 44.3M 2s\n",
            "  7400K .......... .......... .......... .......... .......... 55% 68.3M 2s\n",
            "  7450K .......... .......... .......... .......... .......... 55% 75.2M 2s\n",
            "  7500K .......... .......... .......... .......... .......... 55% 69.7M 2s\n",
            "  7550K .......... .......... .......... .......... .......... 56% 73.7M 2s\n",
            "  7600K .......... .......... .......... .......... .......... 56% 68.6M 2s\n",
            "  7650K .......... .......... .......... .......... .......... 56% 79.8M 2s\n",
            "  7700K .......... .......... .......... .......... .......... 57% 68.1M 2s\n",
            "  7750K .......... .......... .......... .......... .......... 57%  787K 2s\n",
            "  7800K .......... .......... .......... .......... .......... 58% 49.2M 2s\n",
            "  7850K .......... .......... .......... .......... .......... 58% 43.5M 2s\n",
            "  7900K .......... .......... .......... .......... .......... 58% 69.1M 2s\n",
            "  7950K .......... .......... .......... .......... .......... 59% 79.6M 2s\n",
            "  8000K .......... .......... .......... .......... .......... 59% 76.9M 1s\n",
            "  8050K .......... .......... .......... .......... .......... 59% 76.5M 1s\n",
            "  8100K .......... .......... .......... .......... .......... 60% 81.5M 1s\n",
            "  8150K .......... .......... .......... .......... .......... 60% 76.5M 1s\n",
            "  8200K .......... .......... .......... .......... .......... 60% 78.8M 1s\n",
            "  8250K .......... .......... .......... .......... .......... 61% 73.3M 1s\n",
            "  8300K .......... .......... .......... .......... .......... 61%  787K 1s\n",
            "  8350K .......... .......... .......... .......... .......... 62% 36.0M 1s\n",
            "  8400K .......... .......... .......... .......... .......... 62% 42.6M 1s\n",
            "  8450K .......... .......... .......... .......... .......... 62%  215M 1s\n",
            "  8500K .......... .......... .......... .......... .......... 63% 72.0M 1s\n",
            "  8550K .......... .......... .......... .......... .......... 63% 38.2M 1s\n",
            "  8600K .......... .......... .......... .......... .......... 63%  194M 1s\n",
            "  8650K .......... .......... .......... .......... .......... 64%  183M 1s\n",
            "  8700K .......... .......... .......... .......... .......... 64% 74.0M 1s\n",
            "  8750K .......... .......... .......... .......... .......... 65% 56.9M 1s\n",
            "  8800K .......... .......... .......... .......... .......... 65%  101M 1s\n",
            "  8850K .......... .......... .......... .......... .......... 65%  790K 1s\n",
            "  8900K .......... .......... .......... .......... .......... 66% 42.2M 1s\n",
            "  8950K .......... .......... .......... .......... .......... 66% 35.7M 1s\n",
            "  9000K .......... .......... .......... .......... .......... 66%  122M 1s\n",
            "  9050K .......... .......... .......... .......... .......... 67% 76.3M 1s\n",
            "  9100K .......... .......... .......... .......... .......... 67% 56.7M 1s\n",
            "  9150K .......... .......... .......... .......... .......... 68% 77.4M 1s\n",
            "  9200K .......... .......... .......... .......... .......... 68% 75.6M 1s\n",
            "  9250K .......... .......... .......... .......... .......... 68% 90.3M 1s\n",
            "  9300K .......... .......... .......... .......... .......... 69% 80.3M 1s\n",
            "  9350K .......... .......... .......... .......... .......... 69% 82.6M 1s\n",
            "  9400K .......... .......... .......... .......... .......... 69%  799K 1s\n",
            "  9450K .......... .......... .......... .......... .......... 70% 50.3M 1s\n",
            "  9500K .......... .......... .......... .......... .......... 70% 56.4M 1s\n",
            "  9550K .......... .......... .......... .......... .......... 70% 37.7M 1s\n",
            "  9600K .......... .......... .......... .......... .......... 71% 81.9M 1s\n",
            "  9650K .......... .......... .......... .......... .......... 71% 84.4M 1s\n",
            "  9700K .......... .......... .......... .......... .......... 72% 78.3M 1s\n",
            "  9750K .......... .......... .......... .......... .......... 72% 77.6M 1s\n",
            "  9800K .......... .......... .......... .......... .......... 72% 73.9M 1s\n",
            "  9850K .......... .......... .......... .......... .......... 73% 91.6M 1s\n",
            "  9900K .......... .......... .......... .......... .......... 73% 92.6M 1s\n",
            "  9950K .......... .......... .......... .......... .......... 73% 83.2M 1s\n",
            " 10000K .......... .......... .......... .......... .......... 74%  799K 1s\n",
            " 10050K .......... .......... .......... .......... .......... 74% 57.3M 1s\n",
            " 10100K .......... .......... .......... .......... .......... 75% 51.5M 1s\n",
            " 10150K .......... .......... .......... .......... .......... 75% 44.8M 1s\n",
            " 10200K .......... .......... .......... .......... .......... 75% 80.2M 1s\n",
            " 10250K .......... .......... .......... .......... .......... 76% 85.7M 1s\n",
            " 10300K .......... .......... .......... .......... .......... 76% 84.0M 1s\n",
            " 10350K .......... .......... .......... .......... .......... 76% 83.0M 1s\n",
            " 10400K .......... .......... .......... .......... .......... 77% 76.8M 1s\n",
            " 10450K .......... .......... .......... .......... .......... 77% 78.5M 1s\n",
            " 10500K .......... .......... .......... .......... .......... 78% 89.2M 1s\n",
            " 10550K .......... .......... .......... .......... .......... 78% 85.7M 1s\n",
            " 10600K .......... .......... .......... .......... .......... 78% 88.0M 1s\n",
            " 10650K .......... .......... .......... .......... .......... 79%  800K 1s\n",
            " 10700K .......... .......... .......... .......... .......... 79% 64.6M 1s\n",
            " 10750K .......... .......... .......... .......... .......... 79% 45.6M 1s\n",
            " 10800K .......... .......... .......... .......... .......... 80% 59.3M 1s\n",
            " 10850K .......... .......... .......... .......... .......... 80% 79.8M 1s\n",
            " 10900K .......... .......... .......... .......... .......... 80% 63.7M 1s\n",
            " 10950K .......... .......... .......... .......... .......... 81%  113M 1s\n",
            " 11000K .......... .......... .......... .......... .......... 81% 79.4M 1s\n",
            " 11050K .......... .......... .......... .......... .......... 82%  122M 1s\n",
            " 11100K .......... .......... .......... .......... .......... 82% 69.4M 1s\n",
            " 11150K .......... .......... .......... .......... .......... 82% 85.3M 1s\n",
            " 11200K .......... .......... .......... .......... .......... 83% 85.8M 1s\n",
            " 11250K .......... .......... .......... .......... .......... 83% 86.2M 0s\n",
            " 11300K .......... .......... .......... .......... .......... 83%  803K 0s\n",
            " 11350K .......... .......... .......... .......... .......... 84% 61.9M 0s\n",
            " 11400K .......... .......... .......... .......... .......... 84% 44.6M 0s\n",
            " 11450K .......... .......... .......... .......... .......... 85% 62.7M 0s\n",
            " 11500K .......... .......... .......... .......... .......... 85% 83.6M 0s\n",
            " 11550K .......... .......... .......... .......... .......... 85% 77.4M 0s\n",
            " 11600K .......... .......... .......... .......... .......... 86% 72.1M 0s\n",
            " 11650K .......... .......... .......... .......... .......... 86%  109M 0s\n",
            " 11700K .......... .......... .......... .......... .......... 86%  110M 0s\n",
            " 11750K .......... .......... .......... .......... .......... 87% 77.5M 0s\n",
            " 11800K .......... .......... .......... .......... .......... 87%  116M 0s\n",
            " 11850K .......... .......... .......... .......... .......... 87% 78.8M 0s\n",
            " 11900K .......... .......... .......... .......... .......... 88% 86.7M 0s\n",
            " 11950K .......... .......... .......... .......... .......... 88%  100M 0s\n",
            " 12000K .......... .......... .......... .......... .......... 89%  799K 0s\n",
            " 12050K .......... .......... .......... .......... .......... 89% 90.0M 0s\n",
            " 12100K .......... .......... .......... .......... .......... 89% 45.5M 0s\n",
            " 12150K .......... .......... .......... .......... .......... 90% 70.3M 0s\n",
            " 12200K .......... .......... .......... .......... .......... 90% 89.5M 0s\n",
            " 12250K .......... .......... .......... .......... .......... 90% 93.8M 0s\n",
            " 12300K .......... .......... .......... .......... .......... 91% 73.7M 0s\n",
            " 12350K .......... .......... .......... .......... .......... 91% 92.2M 0s\n",
            " 12400K .......... .......... .......... .......... .......... 92% 93.7M 0s\n",
            " 12450K .......... .......... .......... .......... .......... 92%  158M 0s\n",
            " 12500K .......... .......... .......... .......... .......... 92% 86.7M 0s\n",
            " 12550K .......... .......... .......... .......... .......... 93% 96.9M 0s\n",
            " 12600K .......... .......... .......... .......... .......... 93% 82.6M 0s\n",
            " 12650K .......... .......... .......... .......... .......... 93% 87.3M 0s\n",
            " 12700K .......... .......... .......... .......... .......... 94%  122M 0s\n",
            " 12750K .......... .......... .......... .......... .......... 94%  797K 0s\n",
            " 12800K .......... .......... .......... .......... .......... 95% 97.2M 0s\n",
            " 12850K .......... .......... .......... .......... .......... 95% 53.7M 0s\n",
            " 12900K .......... .......... .......... .......... .......... 95% 66.6M 0s\n",
            " 12950K .......... .......... .......... .......... .......... 96% 93.8M 0s\n",
            " 13000K .......... .......... .......... .......... .......... 96% 97.7M 0s\n",
            " 13050K .......... .......... .......... .......... .......... 96% 86.3M 0s\n",
            " 13100K .......... .......... .......... .......... .......... 97%  105M 0s\n",
            " 13150K .......... .......... .......... .......... .......... 97% 78.8M 0s\n",
            " 13200K .......... .......... .......... .......... .......... 97%  118M 0s\n",
            " 13250K .......... .......... .......... .......... .......... 98%  135M 0s\n",
            " 13300K .......... .......... .......... .......... .......... 98%  103M 0s\n",
            " 13350K .......... .......... .......... .......... .......... 99% 83.2M 0s\n",
            " 13400K .......... .......... .......... .......... .......... 99%  103M 0s\n",
            " 13450K .......... .......... .......... .......... .......... 99%  105M 0s\n",
            " 13500K .......... .......... .....                           100% 88.4M=2.7s\n",
            "\n",
            "2021-07-14 17:39:51 (4.81 MB/s) - ‘training_imgs.tar.gz’ saved [13849775]\n",
            "\n",
            "--2021-07-14 17:39:51--  ftp://ftp.astro.yale.edu/pub/aghosh/gamornet_tutorial_files/train_images/sim_para.txt\n",
            "           => ‘sim_para.txt’\n",
            "Resolving ftp.astro.yale.edu (ftp.astro.yale.edu)... 128.36.139.12\n",
            "Connecting to ftp.astro.yale.edu (ftp.astro.yale.edu)|128.36.139.12|:21... connected.\n",
            "Logging in as anonymous ... Logged in!\n",
            "==> SYST ... done.    ==> PWD ... done.\n",
            "==> TYPE I ... done.  ==> CWD (1) /pub/aghosh/gamornet_tutorial_files/train_images ... done.\n",
            "==> SIZE sim_para.txt ... 11676\n",
            "==> PASV ... done.    ==> RETR sim_para.txt ... done.\n",
            "Length: 11676 (11K) (unauthoritative)\n",
            "\n",
            "     0K .......... .                                          100%  129M=0s\n",
            "\n",
            "2021-07-14 17:39:52 (129 MB/s) - ‘sim_para.txt’ saved [11676]\n",
            "\n"
          ],
          "name": "stderr"
        }
      ]
    },
    {
      "cell_type": "markdown",
      "metadata": {
        "id": "NAwLO4hk-C3Q"
      },
      "source": [
        "# Preparing the Data\n",
        "\n",
        "In this section, we will generate the training and validation image arrays as well as the corresponding labels to be used during the training process.\n",
        "\n",
        "\n",
        "First, let's read in the `.txt` file and calculate the difference in disk and bulge magnitudes for each of the galaxies."
      ]
    },
    {
      "cell_type": "code",
      "metadata": {
        "id": "ex46Lm2c_3I8"
      },
      "source": [
        "import pylab as plt\n",
        "\n",
        "#Let's read in the sim_para.txt file \n",
        "gal_para = plt.genfromtxt(\"./sim_para.txt\",names=True,usecols = (4,11))\n",
        " \n",
        "#difference b/w the integrated magnitude of the disk and bulge components. \n",
        "#The rows in the file and thus the elements in the array below correspond to\n",
        "#the numbers in the names of the image files. (i.e. the 0th element corresponds\n",
        "#to output_img_0.fits)\n",
        "disk_bulge_mag = gal_para[\"Inte_Mag\"] - gal_para[\"Inte_Mag_2\"]"
      ],
      "execution_count": 6,
      "outputs": []
    },
    {
      "cell_type": "markdown",
      "metadata": {
        "id": "4pDautJ1CWTy"
      },
      "source": [
        "Next, let's define two convenience functions, which will assist us in creating the image and label arrays."
      ]
    },
    {
      "cell_type": "code",
      "metadata": {
        "id": "zWcg5PBi-RSL"
      },
      "source": [
        "# Convenience Function to get and return images as numpy arrays\n",
        "\n",
        "def image_handler(i):\n",
        "  return np.reshape(fits.getdata(\"./train_images/output_img_\"+str(i)+\".fits\",\n",
        "                                 memmap=False),newshape=(167,167,1)) \n",
        "  #We use the reshape command just to add the extra 3rd dimension. The image is \n",
        "  #originally 167*167. So, in essence no re-sizing is taking place in the X or Y\n",
        "  #directions.\n",
        "\n",
        "\n",
        "# Convenience Function to get and return the training labels of each galaxy\n",
        "# in the one-hot encoding format. i.e. disk-dominated galaxies will be represented\n",
        "# by the array [1,0,0], bulge-dominated by [0,0,1] and indeterminate by [0,1,0]\n",
        "\n",
        "def label_handler(i):\n",
        "  \n",
        "  target_vect = [0]*3\n",
        "\n",
        "  if (disk_bulge_mag[i] < -0.22): #  (Lb/LT) < 0.45\n",
        "    target_vect[0] = 1  #disk-dominated       \n",
        "  \n",
        "  elif ( -0.22 <=  disk_bulge_mag[i] <= 0.22):\n",
        "      target_vect[1] = 1 #indeterminate\n",
        "  \n",
        "  else: #  (Lb/LT) > 0.55\n",
        "      target_vect[2] = 1 #bulge-dominated\n",
        "\n",
        "  return target_vect"
      ],
      "execution_count": 7,
      "outputs": []
    },
    {
      "cell_type": "markdown",
      "metadata": {
        "id": "cQesQrpK-Pz2"
      },
      "source": [
        "Now, we are going to use the first 90 images to create the training set and the last 10 to create the validation set. We are multi-threading the process below -- although this is an absolute overkill for 100 images, it's very handy while dealing with large numbers of images. "
      ]
    },
    {
      "cell_type": "code",
      "metadata": {
        "id": "U_SCF8wWDiSD"
      },
      "source": [
        "from multiprocessing import Pool\n",
        "import numpy as np\n",
        "from astropy.io import fits\n",
        "\n",
        "NUM_THREADS = 2\n",
        "\n",
        "pl = Pool(NUM_THREADS)\n",
        "training_imgs = np.array(pl.map(image_handler,range(0,90)))\n",
        "training_labels = np.array(pl.map(label_handler,range(0,90)))\n",
        "\n",
        "valdiation_imgs = np.array(pl.map(image_handler,range(90,100)))\n",
        "validation_labels = np.array(pl.map(label_handler,range(90,100)))"
      ],
      "execution_count": 8,
      "outputs": []
    },
    {
      "cell_type": "markdown",
      "metadata": {
        "id": "Iw-l4YKMbLdK"
      },
      "source": [
        "# Training GaMorNet using Keras\n",
        "\n",
        "Now, we will be using the images and the labels generated above to train GaMorNet"
      ]
    },
    {
      "cell_type": "code",
      "metadata": {
        "id": "XBTLm74QbMnG",
        "colab": {
          "base_uri": "https://localhost:8080/"
        },
        "outputId": "b5cfa6d6-9ed9-41ff-c97c-48afa1d5e5dd"
      },
      "source": [
        "from gamornet.keras_module import gamornet_train_keras\n",
        "\n",
        "model = gamornet_train_keras(training_imgs,training_labels,valdiation_imgs,\n",
        "                             validation_labels,input_shape='SDSS', epochs=50, \n",
        "                             checkpoint_freq=25, batch_size=64, lr=0.0001, \n",
        "                             loss='categorical_crossentropy')"
      ],
      "execution_count": 9,
      "outputs": [
        {
          "output_type": "stream",
          "text": [
            "WARNING:tensorflow:From /tensorflow-1.15.2/python3.7/tensorflow_core/python/ops/resource_variable_ops.py:1630: calling BaseResourceVariable.__init__ (from tensorflow.python.ops.resource_variable_ops) with constraint is deprecated and will be removed in a future version.\n",
            "Instructions for updating:\n",
            "If using Keras pass *_constraint arguments to layers.\n",
            "WARNING:tensorflow:From /tensorflow-1.15.2/python3.7/keras/backend/tensorflow_backend.py:4070: The name tf.nn.max_pool is deprecated. Please use tf.nn.max_pool2d instead.\n",
            "\n",
            "WARNING:tensorflow:From /tensorflow-1.15.2/python3.7/keras/backend/tensorflow_backend.py:4074: The name tf.nn.avg_pool is deprecated. Please use tf.nn.avg_pool2d instead.\n",
            "\n",
            "WARNING:tensorflow:From /tensorflow-1.15.2/python3.7/tensorflow_core/python/ops/math_grad.py:1375: where (from tensorflow.python.ops.array_ops) is deprecated and will be removed in a future version.\n",
            "Instructions for updating:\n",
            "Use tf.where in 2.0, which has the same broadcast rule as np.where\n",
            "WARNING:tensorflow:From /tensorflow-1.15.2/python3.7/keras/backend/tensorflow_backend.py:422: The name tf.global_variables is deprecated. Please use tf.compat.v1.global_variables instead.\n",
            "\n",
            "WARNING:tensorflow:From /tensorflow-1.15.2/python3.7/keras/backend/tensorflow_backend.py:431: The name tf.is_variable_initialized is deprecated. Please use tf.compat.v1.is_variable_initialized instead.\n",
            "\n",
            "WARNING:tensorflow:From /tensorflow-1.15.2/python3.7/keras/backend/tensorflow_backend.py:438: The name tf.variables_initializer is deprecated. Please use tf.compat.v1.variables_initializer instead.\n",
            "\n",
            "Train on 90 samples, validate on 10 samples\n",
            "Epoch 1/50\n",
            "90/90 [==============================] - 9s 101ms/step - loss: 2.4963 - accuracy: 0.3333 - val_loss: 1.2209 - val_accuracy: 0.4000\n",
            "Epoch 2/50\n",
            "90/90 [==============================] - 0s 1ms/step - loss: 2.1058 - accuracy: 0.3889 - val_loss: 1.1514 - val_accuracy: 0.4000\n",
            "Epoch 3/50\n",
            "90/90 [==============================] - 0s 1ms/step - loss: 1.4533 - accuracy: 0.5667 - val_loss: 1.3287 - val_accuracy: 0.4000\n",
            "Epoch 4/50\n",
            "90/90 [==============================] - 0s 1ms/step - loss: 2.1418 - accuracy: 0.5444 - val_loss: 0.5848 - val_accuracy: 0.7000\n",
            "Epoch 5/50\n",
            "90/90 [==============================] - 0s 1ms/step - loss: 1.6059 - accuracy: 0.5556 - val_loss: 0.1705 - val_accuracy: 1.0000\n",
            "Epoch 6/50\n",
            "90/90 [==============================] - 0s 1ms/step - loss: 1.7089 - accuracy: 0.5111 - val_loss: 0.1668 - val_accuracy: 0.9000\n",
            "Epoch 7/50\n",
            "90/90 [==============================] - 0s 1ms/step - loss: 1.5960 - accuracy: 0.5444 - val_loss: 0.1619 - val_accuracy: 1.0000\n",
            "Epoch 8/50\n",
            "90/90 [==============================] - 0s 1ms/step - loss: 1.5319 - accuracy: 0.5556 - val_loss: 0.3205 - val_accuracy: 0.8000\n",
            "Epoch 9/50\n",
            "90/90 [==============================] - 0s 1ms/step - loss: 1.3532 - accuracy: 0.5333 - val_loss: 0.3165 - val_accuracy: 0.8000\n",
            "Epoch 10/50\n",
            "90/90 [==============================] - 0s 1ms/step - loss: 1.3296 - accuracy: 0.5556 - val_loss: 0.2433 - val_accuracy: 0.8000\n",
            "Epoch 11/50\n",
            "90/90 [==============================] - 0s 1ms/step - loss: 1.0916 - accuracy: 0.6444 - val_loss: 0.1170 - val_accuracy: 1.0000\n",
            "Epoch 12/50\n",
            "90/90 [==============================] - 0s 1ms/step - loss: 1.2623 - accuracy: 0.5889 - val_loss: 0.1089 - val_accuracy: 1.0000\n",
            "Epoch 13/50\n",
            "90/90 [==============================] - 0s 1ms/step - loss: 1.4473 - accuracy: 0.5444 - val_loss: 0.0978 - val_accuracy: 1.0000\n",
            "Epoch 14/50\n",
            "90/90 [==============================] - 0s 1ms/step - loss: 1.3141 - accuracy: 0.5667 - val_loss: 0.1508 - val_accuracy: 0.9000\n",
            "Epoch 15/50\n",
            "90/90 [==============================] - 0s 1ms/step - loss: 1.1286 - accuracy: 0.6556 - val_loss: 0.2811 - val_accuracy: 0.8000\n",
            "Epoch 16/50\n",
            "90/90 [==============================] - 0s 1ms/step - loss: 1.2219 - accuracy: 0.6889 - val_loss: 0.3294 - val_accuracy: 0.8000\n",
            "Epoch 17/50\n",
            "90/90 [==============================] - 0s 1ms/step - loss: 1.0065 - accuracy: 0.7000 - val_loss: 0.1672 - val_accuracy: 0.9000\n",
            "Epoch 18/50\n",
            "90/90 [==============================] - 0s 1ms/step - loss: 0.8621 - accuracy: 0.7000 - val_loss: 0.0552 - val_accuracy: 1.0000\n",
            "Epoch 19/50\n",
            "90/90 [==============================] - 0s 1ms/step - loss: 1.1492 - accuracy: 0.6222 - val_loss: 0.0441 - val_accuracy: 1.0000\n",
            "Epoch 20/50\n",
            "90/90 [==============================] - 0s 1ms/step - loss: 1.1664 - accuracy: 0.6000 - val_loss: 0.0549 - val_accuracy: 1.0000\n",
            "Epoch 21/50\n",
            "90/90 [==============================] - 0s 1ms/step - loss: 1.0573 - accuracy: 0.6444 - val_loss: 0.1702 - val_accuracy: 0.9000\n",
            "Epoch 22/50\n",
            "90/90 [==============================] - 0s 1ms/step - loss: 1.2778 - accuracy: 0.6667 - val_loss: 0.4256 - val_accuracy: 0.8000\n",
            "Epoch 23/50\n",
            "90/90 [==============================] - 0s 1ms/step - loss: 1.0329 - accuracy: 0.6889 - val_loss: 0.3340 - val_accuracy: 0.8000\n",
            "Epoch 24/50\n",
            "90/90 [==============================] - 0s 1ms/step - loss: 1.2883 - accuracy: 0.6444 - val_loss: 0.0961 - val_accuracy: 1.0000\n",
            "Epoch 25/50\n",
            "90/90 [==============================] - 0s 1ms/step - loss: 1.0291 - accuracy: 0.7444 - val_loss: 0.0267 - val_accuracy: 1.0000\n",
            "\n",
            "Epoch 00025: saving model to ./model_25.hdf5\n",
            "Epoch 26/50\n",
            "90/90 [==============================] - 0s 1ms/step - loss: 0.8270 - accuracy: 0.7333 - val_loss: 0.0182 - val_accuracy: 1.0000\n",
            "Epoch 27/50\n",
            "90/90 [==============================] - 0s 2ms/step - loss: 0.9274 - accuracy: 0.7222 - val_loss: 0.0222 - val_accuracy: 1.0000\n",
            "Epoch 28/50\n",
            "90/90 [==============================] - 0s 1ms/step - loss: 0.8649 - accuracy: 0.6667 - val_loss: 0.0507 - val_accuracy: 1.0000\n",
            "Epoch 29/50\n",
            "90/90 [==============================] - 0s 1ms/step - loss: 0.7569 - accuracy: 0.7222 - val_loss: 0.1582 - val_accuracy: 0.9000\n",
            "Epoch 30/50\n",
            "90/90 [==============================] - 0s 1ms/step - loss: 0.5621 - accuracy: 0.7556 - val_loss: 0.1682 - val_accuracy: 0.9000\n",
            "Epoch 31/50\n",
            "90/90 [==============================] - 0s 1ms/step - loss: 0.9228 - accuracy: 0.7222 - val_loss: 0.1086 - val_accuracy: 0.9000\n",
            "Epoch 32/50\n",
            "90/90 [==============================] - 0s 1ms/step - loss: 0.7582 - accuracy: 0.7222 - val_loss: 0.0992 - val_accuracy: 1.0000\n",
            "Epoch 33/50\n",
            "90/90 [==============================] - 0s 1ms/step - loss: 0.6968 - accuracy: 0.7556 - val_loss: 0.2345 - val_accuracy: 0.9000\n",
            "Epoch 34/50\n",
            "90/90 [==============================] - 0s 1ms/step - loss: 1.0429 - accuracy: 0.7000 - val_loss: 0.1456 - val_accuracy: 0.9000\n",
            "Epoch 35/50\n",
            "90/90 [==============================] - 0s 1ms/step - loss: 0.6518 - accuracy: 0.7111 - val_loss: 0.1353 - val_accuracy: 0.9000\n",
            "Epoch 36/50\n",
            "90/90 [==============================] - 0s 1ms/step - loss: 0.6171 - accuracy: 0.7667 - val_loss: 0.1673 - val_accuracy: 0.9000\n",
            "Epoch 37/50\n",
            "90/90 [==============================] - 0s 1ms/step - loss: 0.6645 - accuracy: 0.7444 - val_loss: 0.1133 - val_accuracy: 1.0000\n",
            "Epoch 38/50\n",
            "90/90 [==============================] - 0s 1ms/step - loss: 0.7551 - accuracy: 0.7778 - val_loss: 0.1112 - val_accuracy: 1.0000\n",
            "Epoch 39/50\n",
            "90/90 [==============================] - 0s 1ms/step - loss: 0.7310 - accuracy: 0.7444 - val_loss: 0.1117 - val_accuracy: 0.9000\n",
            "Epoch 40/50\n",
            "90/90 [==============================] - 0s 1ms/step - loss: 0.6930 - accuracy: 0.7556 - val_loss: 0.1384 - val_accuracy: 0.9000\n",
            "Epoch 41/50\n",
            "90/90 [==============================] - 0s 1ms/step - loss: 0.7579 - accuracy: 0.7111 - val_loss: 0.1094 - val_accuracy: 0.9000\n",
            "Epoch 42/50\n",
            "90/90 [==============================] - 0s 1ms/step - loss: 0.8987 - accuracy: 0.7778 - val_loss: 0.0700 - val_accuracy: 1.0000\n",
            "Epoch 43/50\n",
            "90/90 [==============================] - 0s 1ms/step - loss: 0.7840 - accuracy: 0.7222 - val_loss: 0.0612 - val_accuracy: 1.0000\n",
            "Epoch 44/50\n",
            "90/90 [==============================] - 0s 1ms/step - loss: 0.6227 - accuracy: 0.7667 - val_loss: 0.0595 - val_accuracy: 1.0000\n",
            "Epoch 45/50\n",
            "90/90 [==============================] - 0s 1ms/step - loss: 0.7500 - accuracy: 0.7444 - val_loss: 0.0438 - val_accuracy: 1.0000\n",
            "Epoch 46/50\n",
            "90/90 [==============================] - 0s 1ms/step - loss: 0.6729 - accuracy: 0.7889 - val_loss: 0.0659 - val_accuracy: 1.0000\n",
            "Epoch 47/50\n",
            "90/90 [==============================] - 0s 1ms/step - loss: 0.4977 - accuracy: 0.8000 - val_loss: 0.0933 - val_accuracy: 0.9000\n",
            "Epoch 48/50\n",
            "90/90 [==============================] - 0s 1ms/step - loss: 0.7295 - accuracy: 0.7556 - val_loss: 0.0872 - val_accuracy: 0.9000\n",
            "Epoch 49/50\n",
            "90/90 [==============================] - 0s 1ms/step - loss: 0.8477 - accuracy: 0.7444 - val_loss: 0.0554 - val_accuracy: 1.0000\n",
            "Epoch 50/50\n",
            "90/90 [==============================] - 0s 1ms/step - loss: 0.5936 - accuracy: 0.7889 - val_loss: 0.0681 - val_accuracy: 1.0000\n",
            "\n",
            "Epoch 00050: saving model to ./model_50.hdf5\n"
          ],
          "name": "stdout"
        }
      ]
    },
    {
      "cell_type": "markdown",
      "metadata": {
        "id": "Fbzt1qHGG7ug"
      },
      "source": [
        "The above command trains a model using the images we prepared for 50 epochs using a learning rate of 0.0001 and a categorical cross-entropy loss function. The `checkpoint_freq = 25` parameter also ensures that every 25 epochs, a snapshot of the model is saved. These models are named as `model_x.hdf5` where x refers to the epoch at which the model was saved. The `input_shape` parameter specifies the shape of the input images. Setting this to `SDSS` automatically sets the value to `(167,167,1)`\n",
        "\n",
        "For an explanation of the different input parameters of `gamornet_train_keras`, pelase have a look at the [API documentation](https://gamornet.readthedocs.io/en/latest/api_docs.html).\n",
        "\n",
        "In the output above, the `accuracy` and `loss` refer to the metrics calculated on the training set at the end of each epoch while `val_loss` and `val_accuracy` refer to the metrics calculated on the validation data. "
      ]
    },
    {
      "cell_type": "markdown",
      "metadata": {
        "id": "7qhQgRdXJtwE"
      },
      "source": [
        "Thus, you have trained your first GaMorNet model!! You can have a look at the model's structure using the command below. "
      ]
    },
    {
      "cell_type": "code",
      "metadata": {
        "id": "3Fs124brJpVI",
        "colab": {
          "base_uri": "https://localhost:8080/"
        },
        "outputId": "99f53a02-733b-4a48-872f-1a56a68bc508"
      },
      "source": [
        "model.summary()"
      ],
      "execution_count": 10,
      "outputs": [
        {
          "output_type": "stream",
          "text": [
            "Model: \"sequential_1\"\n",
            "_________________________________________________________________\n",
            "Layer (type)                 Output Shape              Param #   \n",
            "=================================================================\n",
            "conv2d_1 (Conv2D)            (None, 42, 42, 96)        11712     \n",
            "_________________________________________________________________\n",
            "max_pooling2d_1 (MaxPooling2 (None, 21, 21, 96)        0         \n",
            "_________________________________________________________________\n",
            "local_response_normalization (None, 21, 21, 96)        0         \n",
            "_________________________________________________________________\n",
            "conv2d_2 (Conv2D)            (None, 21, 21, 256)       614656    \n",
            "_________________________________________________________________\n",
            "max_pooling2d_2 (MaxPooling2 (None, 11, 11, 256)       0         \n",
            "_________________________________________________________________\n",
            "local_response_normalization (None, 11, 11, 256)       0         \n",
            "_________________________________________________________________\n",
            "conv2d_3 (Conv2D)            (None, 11, 11, 384)       885120    \n",
            "_________________________________________________________________\n",
            "conv2d_4 (Conv2D)            (None, 11, 11, 384)       1327488   \n",
            "_________________________________________________________________\n",
            "conv2d_5 (Conv2D)            (None, 11, 11, 256)       884992    \n",
            "_________________________________________________________________\n",
            "max_pooling2d_3 (MaxPooling2 (None, 6, 6, 256)         0         \n",
            "_________________________________________________________________\n",
            "local_response_normalization (None, 6, 6, 256)         0         \n",
            "_________________________________________________________________\n",
            "flatten_1 (Flatten)          (None, 9216)              0         \n",
            "_________________________________________________________________\n",
            "dense_1 (Dense)              (None, 4096)              37752832  \n",
            "_________________________________________________________________\n",
            "dropout_1 (Dropout)          (None, 4096)              0         \n",
            "_________________________________________________________________\n",
            "dense_2 (Dense)              (None, 4096)              16781312  \n",
            "_________________________________________________________________\n",
            "dropout_2 (Dropout)          (None, 4096)              0         \n",
            "_________________________________________________________________\n",
            "dense_3 (Dense)              (None, 3)                 12291     \n",
            "=================================================================\n",
            "Total params: 58,270,403\n",
            "Trainable params: 58,270,403\n",
            "Non-trainable params: 0\n",
            "_________________________________________________________________\n"
          ],
          "name": "stdout"
        }
      ]
    },
    {
      "cell_type": "markdown",
      "metadata": {
        "id": "AkVOkDibLMmD"
      },
      "source": [
        "**Important:**\n",
        "The above process also generates a `metrics.csv` file, which contains the loss and accuracy calculated on the validation as well as the training data. \n",
        "\n",
        "We highly recommend using the data in this file to check how the loss and accuracies vary with training. This is extremely helpful in judging whether the model was trained properly and sufficiently. "
      ]
    },
    {
      "cell_type": "markdown",
      "metadata": {
        "id": "DtKTEFpyHpHY"
      },
      "source": [
        "# Training GaMorNet using TFLearn\n",
        "\n",
        "Now, we will be using the images and the labels generated above to train GaMorNet"
      ]
    },
    {
      "cell_type": "code",
      "metadata": {
        "id": "OUP-k-NtHpHa",
        "colab": {
          "base_uri": "https://localhost:8080/"
        },
        "outputId": "dc878e1b-91df-48df-9c25-44774896f274"
      },
      "source": [
        "from gamornet.tflearn_module import gamornet_train_tflearn\n",
        "\n",
        "model = gamornet_train_tflearn(training_imgs,training_labels,valdiation_imgs,\n",
        "                             validation_labels,input_shape='SDSS', epochs=20, \n",
        "                             max_checkpoints=2, batch_size=64, lr=0.0001, \n",
        "                             loss='categorical_crossentropy',clear_session=True)"
      ],
      "execution_count": 11,
      "outputs": [
        {
          "output_type": "stream",
          "text": [
            "Training Step: 39  | total loss: \u001b[1m\u001b[32m0.76302\u001b[0m\u001b[0m | time: 0.053s\n",
            "| Momentum | epoch: 020 | loss: 0.76302 - acc: 0.6960 -- iter: 64/90\n",
            "Training Step: 40  | total loss: \u001b[1m\u001b[32m0.77664\u001b[0m\u001b[0m | time: 1.145s\n",
            "| Momentum | epoch: 020 | loss: 0.77664 - acc: 0.6809 | val_loss: 0.35654 - val_acc: 1.0000 -- iter: 90/90\n",
            "--\n"
          ],
          "name": "stdout"
        }
      ]
    },
    {
      "cell_type": "markdown",
      "metadata": {
        "id": "u9StaWVvHpHe"
      },
      "source": [
        "The above command trains a model using the images we prepared for 20 epochs using a learning rate of 0.0001 and a categorical cross-entropy loss function. The `max_checkpoints = 2` parameter ensures that the latest 2 snapshots of the epochs will always be saved during training. Three files are saved for each snapshot and the naming format of the checkpoints is `check-x.data`,`check-x.index`,`check-x.meta` where x refers to the step number at which the model was saved. The `input_shape` parameter specifies the shape of the input images. Setting this to `SDSS` automatically sets the value to `(167,167,1)`. \n",
        "\n",
        "In the output above, the `acc` and `loss` refer to the accuracy and loss calculated on the training set at the end of each epoch while `val_loss` and `val_acc` refer to the metrics calculated on the validation data. \n",
        "\n",
        "The `clear_session = True` parameter value instructs GaMorNet to clear the TensorFlow graphs created earlier. We highly recommend setting `clear_session` to `True` in notebooks while using the `tflearn_module` as otherwise it might fail. \n",
        "\n",
        "For an explanation of the different input parameters of `gamornet_train_tflearn`, pelase have a look at the [API documentation](https://gamornet.readthedocs.io/en/latest/api_docs.html)."
      ]
    },
    {
      "cell_type": "markdown",
      "metadata": {
        "id": "rKXigHG6J8Fj"
      },
      "source": [
        "Thus, you have trained your first GaMorNet model!! \n",
        "\n",
        "--- "
      ]
    },
    {
      "cell_type": "markdown",
      "metadata": {
        "id": "rSoVi9LRMhUv"
      },
      "source": [
        "**Tip:** Unlike with the keras module, the tflearn module doesn't automatically save the metrics. Instead you have to redirect the Python output generated to a file in order to keep track of the metrics. \n",
        "\n",
        "When running some python script this can be done simply using `python script.py > out.txt`. This will save all the screen output in `out.txt`.\n",
        "\n",
        "Thereafter the following snippet of Python Code can easily search for the relevant metrics in the screen output file. \n",
        "\n",
        "```python\n",
        "###################################\n",
        "# accParser.py\n",
        "#\n",
        "# Takes tflearn screen output and extracts loss, acc and val_acc every epoch for visualization\n",
        "####################################\n",
        "import sys\n",
        "\n",
        "if (len(sys.argv) != 2):\n",
        "        print \"Exiting Program....\\nUsage: python accParser.py /path/to/screen/output\"\n",
        "\n",
        "\n",
        "dataPath = sys.argv[1] #the first argument is the path to the screen grab of the TF Learn run\n",
        "\n",
        "dataFile = open(dataPath, 'r')\n",
        "outFile = open(dataPath[:-6] + 'out.txt', 'w')\n",
        "\n",
        "outFile.write(\"epoch loss acc val_acc\\n\")\n",
        "resultLines = dataFile.readlines()\n",
        "\n",
        "for line in resultLines:\n",
        "        if 'val_acc' in line:\n",
        "                words = line.split()\n",
        "\n",
        "                #validation step\n",
        "                if words[-2:-1] != ['iter:']:\n",
        "                        print \"Something doesn't look right. Skipping an occurene of val_acc\"\n",
        "                        continue\n",
        "\n",
        "                outFile.write(words[words.index(\"epoch:\")+1] + \" \")\n",
        "                outFile.write(words[words.index(\"loss:\")+1] + \" \")\n",
        "                outFile.write(words[words.index(\"acc:\")+1] + \" \")\n",
        "                outFile.write(words[words.index(\"val_acc:\")+1] + \"\\n\")\n",
        "\n",
        "dataFile.close()\n",
        "outFile.close()\n",
        "\n",
        "```"
      ]
    },
    {
      "cell_type": "markdown",
      "metadata": {
        "id": "7CI4QJAROoGo"
      },
      "source": [
        "**Important:** We highly recommend checking how the loss and accuracies vary with training. This is extremely helpful in judging whether the model was trained properly and sufficiently. "
      ]
    },
    {
      "cell_type": "markdown",
      "metadata": {
        "id": "6Trd52HQV7xU"
      },
      "source": [
        "# Summary & Takeaways\n",
        "\n",
        "* `gamornet_train_keras` and `gamornet_train_tflearn` are the two functions that can be used to train GaMorNet models. \n",
        "\n",
        "* For understanding the differences between the Keras and TFLearn modules, please refer to the [PDR Handbook](https://gamornet.readthedocs.io/en/latest/usage_guide.html). \n",
        "\n",
        "* The [PDR Handbook](https://gamornet.readthedocs.io/en/latest/usage_guide.html) also contains advice about which situations warrant the training of models from scratch and in which cases you can use the models which we have released. "
      ]
    }
  ]
}